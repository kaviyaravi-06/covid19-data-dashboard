{
 "cells": [
  {
   "cell_type": "code",
   "execution_count": 1,
   "id": "a12cf708-2638-4c22-8725-4b1872c0261f",
   "metadata": {},
   "outputs": [],
   "source": [
    "import pandas as pd\n",
    "import plotly.graph_objects as go\n",
    "from plotly.subplots import make_subplots\n",
    "import plotly.express as px\n",
    "import numpy as np"
   ]
  },
  {
   "cell_type": "code",
   "execution_count": 2,
   "id": "c4a17288-6fb6-4d57-882f-6b6944f3d8ba",
   "metadata": {},
   "outputs": [
    {
     "data": {
      "text/html": [
       "<div>\n",
       "<style scoped>\n",
       "    .dataframe tbody tr th:only-of-type {\n",
       "        vertical-align: middle;\n",
       "    }\n",
       "\n",
       "    .dataframe tbody tr th {\n",
       "        vertical-align: top;\n",
       "    }\n",
       "\n",
       "    .dataframe thead th {\n",
       "        text-align: right;\n",
       "    }\n",
       "</style>\n",
       "<table border=\"1\" class=\"dataframe\">\n",
       "  <thead>\n",
       "    <tr style=\"text-align: right;\">\n",
       "      <th></th>\n",
       "      <th>Country/Region</th>\n",
       "      <th>Confirmed</th>\n",
       "      <th>Deaths</th>\n",
       "      <th>Recovered</th>\n",
       "      <th>Active</th>\n",
       "      <th>New cases</th>\n",
       "      <th>New deaths</th>\n",
       "      <th>New recovered</th>\n",
       "      <th>Deaths / 100 Cases</th>\n",
       "      <th>Recovered / 100 Cases</th>\n",
       "      <th>Deaths / 100 Recovered</th>\n",
       "      <th>Confirmed last week</th>\n",
       "      <th>1 week change</th>\n",
       "      <th>1 week % increase</th>\n",
       "      <th>WHO Region</th>\n",
       "    </tr>\n",
       "  </thead>\n",
       "  <tbody>\n",
       "    <tr>\n",
       "      <th>0</th>\n",
       "      <td>Afghanistan</td>\n",
       "      <td>36263</td>\n",
       "      <td>1269</td>\n",
       "      <td>25198</td>\n",
       "      <td>9796</td>\n",
       "      <td>106</td>\n",
       "      <td>10</td>\n",
       "      <td>18</td>\n",
       "      <td>3.50</td>\n",
       "      <td>69.49</td>\n",
       "      <td>5.04</td>\n",
       "      <td>35526</td>\n",
       "      <td>737</td>\n",
       "      <td>2.07</td>\n",
       "      <td>Eastern Mediterranean</td>\n",
       "    </tr>\n",
       "    <tr>\n",
       "      <th>1</th>\n",
       "      <td>Albania</td>\n",
       "      <td>4880</td>\n",
       "      <td>144</td>\n",
       "      <td>2745</td>\n",
       "      <td>1991</td>\n",
       "      <td>117</td>\n",
       "      <td>6</td>\n",
       "      <td>63</td>\n",
       "      <td>2.95</td>\n",
       "      <td>56.25</td>\n",
       "      <td>5.25</td>\n",
       "      <td>4171</td>\n",
       "      <td>709</td>\n",
       "      <td>17.00</td>\n",
       "      <td>Europe</td>\n",
       "    </tr>\n",
       "    <tr>\n",
       "      <th>2</th>\n",
       "      <td>Algeria</td>\n",
       "      <td>27973</td>\n",
       "      <td>1163</td>\n",
       "      <td>18837</td>\n",
       "      <td>7973</td>\n",
       "      <td>616</td>\n",
       "      <td>8</td>\n",
       "      <td>749</td>\n",
       "      <td>4.16</td>\n",
       "      <td>67.34</td>\n",
       "      <td>6.17</td>\n",
       "      <td>23691</td>\n",
       "      <td>4282</td>\n",
       "      <td>18.07</td>\n",
       "      <td>Africa</td>\n",
       "    </tr>\n",
       "    <tr>\n",
       "      <th>3</th>\n",
       "      <td>Andorra</td>\n",
       "      <td>907</td>\n",
       "      <td>52</td>\n",
       "      <td>803</td>\n",
       "      <td>52</td>\n",
       "      <td>10</td>\n",
       "      <td>0</td>\n",
       "      <td>0</td>\n",
       "      <td>5.73</td>\n",
       "      <td>88.53</td>\n",
       "      <td>6.48</td>\n",
       "      <td>884</td>\n",
       "      <td>23</td>\n",
       "      <td>2.60</td>\n",
       "      <td>Europe</td>\n",
       "    </tr>\n",
       "    <tr>\n",
       "      <th>4</th>\n",
       "      <td>Angola</td>\n",
       "      <td>950</td>\n",
       "      <td>41</td>\n",
       "      <td>242</td>\n",
       "      <td>667</td>\n",
       "      <td>18</td>\n",
       "      <td>1</td>\n",
       "      <td>0</td>\n",
       "      <td>4.32</td>\n",
       "      <td>25.47</td>\n",
       "      <td>16.94</td>\n",
       "      <td>749</td>\n",
       "      <td>201</td>\n",
       "      <td>26.84</td>\n",
       "      <td>Africa</td>\n",
       "    </tr>\n",
       "  </tbody>\n",
       "</table>\n",
       "</div>"
      ],
      "text/plain": [
       "  Country/Region  Confirmed  Deaths  Recovered  Active  New cases  New deaths  \\\n",
       "0    Afghanistan      36263    1269      25198    9796        106          10   \n",
       "1        Albania       4880     144       2745    1991        117           6   \n",
       "2        Algeria      27973    1163      18837    7973        616           8   \n",
       "3        Andorra        907      52        803      52         10           0   \n",
       "4         Angola        950      41        242     667         18           1   \n",
       "\n",
       "   New recovered  Deaths / 100 Cases  Recovered / 100 Cases  \\\n",
       "0             18                3.50                  69.49   \n",
       "1             63                2.95                  56.25   \n",
       "2            749                4.16                  67.34   \n",
       "3              0                5.73                  88.53   \n",
       "4              0                4.32                  25.47   \n",
       "\n",
       "   Deaths / 100 Recovered  Confirmed last week  1 week change  \\\n",
       "0                    5.04                35526            737   \n",
       "1                    5.25                 4171            709   \n",
       "2                    6.17                23691           4282   \n",
       "3                    6.48                  884             23   \n",
       "4                   16.94                  749            201   \n",
       "\n",
       "   1 week % increase             WHO Region  \n",
       "0               2.07  Eastern Mediterranean  \n",
       "1              17.00                 Europe  \n",
       "2              18.07                 Africa  \n",
       "3               2.60                 Europe  \n",
       "4              26.84                 Africa  "
      ]
     },
     "execution_count": 2,
     "metadata": {},
     "output_type": "execute_result"
    }
   ],
   "source": [
    "df = pd.read_csv(r\"C:\\Users\\kaviy\\Downloads\\covid-19 database.csv\")\n",
    "df.head()"
   ]
  },
  {
   "cell_type": "code",
   "execution_count": 3,
   "id": "16900b44-1a75-4a71-9013-3677b074c280",
   "metadata": {},
   "outputs": [
    {
     "name": "stdout",
     "output_type": "stream",
     "text": [
      "Country/Region            0\n",
      "Confirmed                 0\n",
      "Deaths                    0\n",
      "Recovered                 0\n",
      "Active                    0\n",
      "New cases                 0\n",
      "New deaths                0\n",
      "New recovered             0\n",
      "Deaths / 100 Cases        0\n",
      "Recovered / 100 Cases     0\n",
      "Deaths / 100 Recovered    0\n",
      "Confirmed last week       0\n",
      "1 week change             0\n",
      "1 week % increase         0\n",
      "WHO Region                0\n",
      "dtype: int64\n",
      "(187, 15)\n",
      "Index(['Country/Region', 'Confirmed', 'Deaths', 'Recovered', 'Active',\n",
      "       'New cases', 'New deaths', 'New recovered', 'Deaths / 100 Cases',\n",
      "       'Recovered / 100 Cases', 'Deaths / 100 Recovered',\n",
      "       'Confirmed last week', '1 week change', '1 week % increase',\n",
      "       'WHO Region'],\n",
      "      dtype='object')\n",
      "<bound method NDFrame.describe of          Country/Region  Confirmed  Deaths  Recovered  Active  New cases  \\\n",
      "0           Afghanistan      36263    1269      25198    9796        106   \n",
      "1               Albania       4880     144       2745    1991        117   \n",
      "2               Algeria      27973    1163      18837    7973        616   \n",
      "3               Andorra        907      52        803      52         10   \n",
      "4                Angola        950      41        242     667         18   \n",
      "..                  ...        ...     ...        ...     ...        ...   \n",
      "182  West Bank and Gaza      10621      78       3752    6791        152   \n",
      "183      Western Sahara         10       1          8       1          0   \n",
      "184               Yemen       1691     483        833     375         10   \n",
      "185              Zambia       4552     140       2815    1597         71   \n",
      "186            Zimbabwe       2704      36        542    2126        192   \n",
      "\n",
      "     New deaths  New recovered  Deaths / 100 Cases  Recovered / 100 Cases  \\\n",
      "0            10             18                3.50                  69.49   \n",
      "1             6             63                2.95                  56.25   \n",
      "2             8            749                4.16                  67.34   \n",
      "3             0              0                5.73                  88.53   \n",
      "4             1              0                4.32                  25.47   \n",
      "..          ...            ...                 ...                    ...   \n",
      "182           2              0                0.73                  35.33   \n",
      "183           0              0               10.00                  80.00   \n",
      "184           4             36               28.56                  49.26   \n",
      "185           1            465                3.08                  61.84   \n",
      "186           2             24                1.33                  20.04   \n",
      "\n",
      "     Deaths / 100 Recovered  Confirmed last week  1 week change  \\\n",
      "0                      5.04                35526            737   \n",
      "1                      5.25                 4171            709   \n",
      "2                      6.17                23691           4282   \n",
      "3                      6.48                  884             23   \n",
      "4                     16.94                  749            201   \n",
      "..                      ...                  ...            ...   \n",
      "182                    2.08                 8916           1705   \n",
      "183                   12.50                   10              0   \n",
      "184                   57.98                 1619             72   \n",
      "185                    4.97                 3326           1226   \n",
      "186                    6.64                 1713            991   \n",
      "\n",
      "     1 week % increase             WHO Region  \n",
      "0                 2.07  Eastern Mediterranean  \n",
      "1                17.00                 Europe  \n",
      "2                18.07                 Africa  \n",
      "3                 2.60                 Europe  \n",
      "4                26.84                 Africa  \n",
      "..                 ...                    ...  \n",
      "182              19.12  Eastern Mediterranean  \n",
      "183               0.00                 Africa  \n",
      "184               4.45  Eastern Mediterranean  \n",
      "185              36.86                 Africa  \n",
      "186              57.85                 Africa  \n",
      "\n",
      "[187 rows x 15 columns]>\n"
     ]
    }
   ],
   "source": [
    "print(df.isnull().sum())\n",
    "print(df.shape)\n",
    "print(df.columns)\n",
    "print(df.describe)"
   ]
  },
  {
   "cell_type": "code",
   "execution_count": 4,
   "id": "3cb2587b-b08e-42c6-b26f-7ad4876509b5",
   "metadata": {},
   "outputs": [
    {
     "name": "stdout",
     "output_type": "stream",
     "text": [
      "Total Countries : 187\n"
     ]
    }
   ],
   "source": [
    "total_countries =df['Country/Region'].nunique ()\n",
    "print(\"Total Countries :\",total_countries)"
   ]
  },
  {
   "cell_type": "code",
   "execution_count": 5,
   "id": "1cb450e4-07fb-44d3-9c4a-3b4bc9f64bad",
   "metadata": {},
   "outputs": [
    {
     "name": "stdout",
     "output_type": "stream",
     "text": [
      "Total Confirmed 16480485\n"
     ]
    }
   ],
   "source": [
    "total_confirmed= df['Confirmed'].sum()\n",
    "print(\"Total Confirmed\",total_confirmed)"
   ]
  },
  {
   "cell_type": "code",
   "execution_count": 6,
   "id": "e7cf434f-ca17-43a8-af0a-ecfa4b66c548",
   "metadata": {},
   "outputs": [
    {
     "name": "stdout",
     "output_type": "stream",
     "text": [
      "total deaths: 654036\n"
     ]
    }
   ],
   "source": [
    "total_death=df['Deaths'].sum()\n",
    "print(\"total deaths:\",total_death)"
   ]
  },
  {
   "cell_type": "code",
   "execution_count": 7,
   "id": "b4f8b445-2911-453c-b67e-b730e01c7d72",
   "metadata": {},
   "outputs": [
    {
     "name": "stdout",
     "output_type": "stream",
     "text": [
      "Total recovered: 9468087\n"
     ]
    }
   ],
   "source": [
    "total_recovered=df['Recovered'].sum()\n",
    "print(\"Total recovered:\",total_recovered)"
   ]
  },
  {
   "cell_type": "code",
   "execution_count": 8,
   "id": "c7bae318-8a13-4261-b471-3e46c44763ea",
   "metadata": {},
   "outputs": [
    {
     "name": "stdout",
     "output_type": "stream",
     "text": [
      "total active: 6358362\n"
     ]
    }
   ],
   "source": [
    "total_active=df['Active'].sum()\n",
    "print(\"total active:\",total_active)"
   ]
  },
  {
   "cell_type": "code",
   "execution_count": 9,
   "id": "d41620c0-9798-494c-b042-2bd89b0c85f9",
   "metadata": {},
   "outputs": [
    {
     "name": "stdout",
     "output_type": "stream",
     "text": [
      "GLOBAL RECOVERY RATE:57.45%\n"
     ]
    }
   ],
   "source": [
    "global_recovery_rate=(total_recovered/total_confirmed)*100\n",
    "print(\"GLOBAL RECOVERY RATE:{:.2f}%\".format (global_recovery_rate))"
   ]
  },
  {
   "cell_type": "code",
   "execution_count": 10,
   "id": "cbc252d3-585e-42e2-bfa5-463752f9e86d",
   "metadata": {},
   "outputs": [
    {
     "name": "stdout",
     "output_type": "stream",
     "text": [
      "GLOBAL mortality RATE:3.97%\n"
     ]
    }
   ],
   "source": [
    "global_mortality_rate=(total_death/total_confirmed)*100\n",
    "print(\"GLOBAL mortality RATE:{:.2f}%\".format (global_mortality_rate))"
   ]
  },
  {
   "cell_type": "code",
   "execution_count": 11,
   "id": "8422697e-dfb2-4d3d-b3be-37934620b6ab",
   "metadata": {},
   "outputs": [
    {
     "name": "stdout",
     "output_type": "stream",
     "text": [
      "Total WHO regions: 6\n"
     ]
    }
   ],
   "source": [
    "total_regions=df['WHO Region'].nunique()\n",
    "print(\"Total WHO regions:\",total_regions)"
   ]
  },
  {
   "cell_type": "code",
   "execution_count": 12,
   "id": "858660bf-4d18-45cc-a941-79d7c940d3b3",
   "metadata": {},
   "outputs": [
    {
     "name": "stdout",
     "output_type": "stream",
     "text": [
      "most affected country(by confirmed cases): US\n"
     ]
    }
   ],
   "source": [
    "most_affected_country=df.loc[df['Confirmed'].idxmax(),'Country/Region']\n",
    "print(\"most affected country(by confirmed cases):\",most_affected_country)"
   ]
  },
  {
   "cell_type": "code",
   "execution_count": 13,
   "id": "ced961a9-e23d-4b18-886d-3a82960961ce",
   "metadata": {},
   "outputs": [
    {
     "name": "stdout",
     "output_type": "stream",
     "text": [
      "country with highest recovery rate: Dominica\n"
     ]
    },
    {
     "name": "stderr",
     "output_type": "stream",
     "text": [
      "C:\\Users\\kaviy\\AppData\\Local\\Temp\\ipykernel_16592\\1995763278.py:2: FutureWarning: A value is trying to be set on a copy of a DataFrame or Series through chained assignment using an inplace method.\n",
      "The behavior will change in pandas 3.0. This inplace method will never work because the intermediate object on which we are setting values always behaves as a copy.\n",
      "\n",
      "For example, when doing 'df[col].method(value, inplace=True)', try using 'df.method({col: value}, inplace=True)' or df[col] = df[col].method(value) instead, to perform the operation inplace on the original object.\n",
      "\n",
      "\n",
      "  df['Recovery Rate'].replace([float('inf'),-float('inf')],0,inplace=True)\n",
      "C:\\Users\\kaviy\\AppData\\Local\\Temp\\ipykernel_16592\\1995763278.py:3: FutureWarning: A value is trying to be set on a copy of a DataFrame or Series through chained assignment using an inplace method.\n",
      "The behavior will change in pandas 3.0. This inplace method will never work because the intermediate object on which we are setting values always behaves as a copy.\n",
      "\n",
      "For example, when doing 'df[col].method(value, inplace=True)', try using 'df.method({col: value}, inplace=True)' or df[col] = df[col].method(value) instead, to perform the operation inplace on the original object.\n",
      "\n",
      "\n",
      "  df['Recovery Rate'].fillna(0,inplace=True)\n"
     ]
    }
   ],
   "source": [
    "df['Recovery Rate']=(df['Recovered']/df['Confirmed'])*100\n",
    "df['Recovery Rate'].replace([float('inf'),-float('inf')],0,inplace=True)\n",
    "df['Recovery Rate'].fillna(0,inplace=True)\n",
    "\n",
    "highest_recovery_rate=df.loc[df['Recovery Rate'].idxmax(),'Country/Region']\n",
    "print(\"country with highest recovery rate:\",highest_recovery_rate)\n",
    "\n"
   ]
  },
  {
   "cell_type": "code",
   "execution_count": 14,
   "id": "df705cd8-f302-4aef-87f6-43bbd19abbf8",
   "metadata": {},
   "outputs": [
    {
     "name": "stdout",
     "output_type": "stream",
     "text": [
      "country with highest mortality rate: Yemen\n"
     ]
    },
    {
     "name": "stderr",
     "output_type": "stream",
     "text": [
      "C:\\Users\\kaviy\\AppData\\Local\\Temp\\ipykernel_16592\\3077648881.py:2: FutureWarning: A value is trying to be set on a copy of a DataFrame or Series through chained assignment using an inplace method.\n",
      "The behavior will change in pandas 3.0. This inplace method will never work because the intermediate object on which we are setting values always behaves as a copy.\n",
      "\n",
      "For example, when doing 'df[col].method(value, inplace=True)', try using 'df.method({col: value}, inplace=True)' or df[col] = df[col].method(value) instead, to perform the operation inplace on the original object.\n",
      "\n",
      "\n",
      "  df['Mortality Rate'].replace([float('inf'),-float('inf')],0,inplace=True)\n",
      "C:\\Users\\kaviy\\AppData\\Local\\Temp\\ipykernel_16592\\3077648881.py:3: FutureWarning: A value is trying to be set on a copy of a DataFrame or Series through chained assignment using an inplace method.\n",
      "The behavior will change in pandas 3.0. This inplace method will never work because the intermediate object on which we are setting values always behaves as a copy.\n",
      "\n",
      "For example, when doing 'df[col].method(value, inplace=True)', try using 'df.method({col: value}, inplace=True)' or df[col] = df[col].method(value) instead, to perform the operation inplace on the original object.\n",
      "\n",
      "\n",
      "  df['Mortality Rate'].fillna(0,inplace=True)\n"
     ]
    }
   ],
   "source": [
    "df['Mortality Rate']=(df['Deaths']/df['Confirmed'])*100\n",
    "df['Mortality Rate'].replace([float('inf'),-float('inf')],0,inplace=True)\n",
    "df['Mortality Rate'].fillna(0,inplace=True)\n",
    "\n",
    "highest_mortality_rate=df.loc[df['Mortality Rate'].idxmax(),'Country/Region']\n",
    "print(\"country with highest mortality rate:\",highest_mortality_rate)"
   ]
  },
  {
   "cell_type": "code",
   "execution_count": 15,
   "id": "89f195c0-3195-4384-b38f-a0cb7ba3572c",
   "metadata": {},
   "outputs": [],
   "source": [
    "import matplotlib.pyplot as plt\n",
    "import seaborn as sns"
   ]
  },
  {
   "cell_type": "code",
   "execution_count": 16,
   "id": "252a14bc-c70e-45e2-a3d8-e10a96cff24a",
   "metadata": {},
   "outputs": [
    {
     "data": {
      "image/png": "[encoded data removed]",
      "text/plain": [
       "<Figure size 1000x600 with 1 Axes>"
      ]
     },
     "metadata": {},
     "output_type": "display_data"
    }
   ],
   "source": [
    "region_confirmed=df.groupby('WHO Region')['Confirmed'].sum().sort_values(ascending=False)\n",
    "plt.figure(figsize=(10,6))\n",
    "region_confirmed.plot(kind='bar',color='red')\n",
    "plt.title(\"TOTAL CONFIRMED CASES BY WHO REGIONS\")\n",
    "plt.xlabel(\"WHO region\")\n",
    "plt.ylabel(\"total confirmed cases\")\n",
    "plt.xticks(rotation=45)\n",
    "plt.grid(axis='y')\n",
    "plt.tight_layout()\n",
    "plt.show()\n",
    "\n"
   ]
  },
  {
   "cell_type": "code",
   "execution_count": 17,
   "id": "00bb22eb-89f2-426f-8cb4-84423b5335d9",
   "metadata": {},
   "outputs": [
    {
     "name": "stderr",
     "output_type": "stream",
     "text": [
      "C:\\Users\\kaviy\\AppData\\Local\\Temp\\ipykernel_16592\\1430370258.py:3: FutureWarning: \n",
      "\n",
      "Passing `palette` without assigning `hue` is deprecated and will be removed in v0.14.0. Assign the `x` variable to `hue` and set `legend=False` for the same effect.\n",
      "\n",
      "  sns.barplot(x='Country/Region', y='Active',data=top10_active,palette=\"Reds_r\")\n"
     ]
    },
    {
     "data": {
      "image/png": "[encoded data removed]",
      "text/plain": [
       "<Figure size 1000x600 with 1 Axes>"
      ]
     },
     "metadata": {},
     "output_type": "display_data"
    }
   ],
   "source": [
    "top10_active=df.sort_values(by=\"Active\",ascending=False).head(10)\n",
    "plt.figure(figsize=(10,6))\n",
    "sns.barplot(x='Country/Region', y='Active',data=top10_active,palette=\"Reds_r\")\n",
    "plt.title(\"TOTAL 10 COUNTRIES WITH HIGHEST ACTIVE CASES\")\n",
    "plt.xlabel(\"COUNTRIES\")\n",
    "plt.ylabel(\"ACTIVE CASES\")\n",
    "plt.xticks(rotation=45)\n",
    "plt.tight_layout()\n",
    "plt.show()\n"
   ]
  },
  {
   "cell_type": "code",
   "execution_count": 18,
   "id": "af0b0e46-ad48-424c-96dc-45a5000a3f96",
   "metadata": {},
   "outputs": [
    {
     "data": {
      "image/png": "[encoded data removed]",
      "text/plain": [
       "<Figure size 800x800 with 1 Axes>"
      ]
     },
     "metadata": {},
     "output_type": "display_data"
    }
   ],
   "source": [
    "region_cases=df.groupby(\"WHO Region\")['Confirmed'].sum()\n",
    "plt.figure(figsize=(8,8))\n",
    "plt.pie(region_cases,labels=region_cases.index, autopct='%1.1f%%',startangle=140)\n",
    "plt.title(\"CONFIRMED CASES BY WHO REGION(PIE CHART)\")\n",
    "plt.tight_layout()\n",
    "plt.show()\n"
   ]
  },
  {
   "cell_type": "code",
   "execution_count": 19,
   "id": "6f028443-e1ed-4150-a4e9-7ca892eae6b7",
   "metadata": {},
   "outputs": [
    {
     "data": {
      "image/png": "[encoded data removed]",
      "text/plain": [
       "<Figure size 1000x600 with 1 Axes>"
      ]
     },
     "metadata": {},
     "output_type": "display_data"
    }
   ],
   "source": [
    "plt.figure(figsize=(10,6))\n",
    "sns.scatterplot(x=\"Confirmed\",y=\"Deaths\", hue =\"WHO Region\",data=df)\n",
    "plt.title(\"CONFIRMED CASES VS DEATHS\")\n",
    "plt.xlabel(\"CONFIRMED\")\n",
    "plt.ylabel(\"DEATHS\")\n",
    "plt.grid(True)\n",
    "plt.tight_layout()\n",
    "plt.show()\n"
   ]
  },
  {
   "cell_type": "code",
   "execution_count": 20,
   "id": "4ab78c45-98c2-42b3-815c-7270a43efc42",
   "metadata": {},
   "outputs": [
    {
     "data": {
      "image/png": "[encoded data removed]",
      "text/plain": [
       "<Figure size 800x600 with 2 Axes>"
      ]
     },
     "metadata": {},
     "output_type": "display_data"
    }
   ],
   "source": [
    "correlation=df[['Confirmed','Deaths','Recovered','Active']].corr()\n",
    "plt.figure(figsize=(8,6))\n",
    "sns.heatmap(correlation , annot=True,cmap='coolwarm',linewidth=0.8)\n",
    "plt.title(\"CORRELATION HEAT MAP\")\n",
    "plt.tight_layout()\n",
    "plt.show()\n"
   ]
  },
  {
   "cell_type": "code",
   "execution_count": 21,
   "id": "53744b7f-db12-4cf0-bc32-ec6b1a3b4155",
   "metadata": {},
   "outputs": [
    {
     "data": {
      "image/png": "[encoded data removed]",
      "text/plain": [
       "<Figure size 1000x600 with 1 Axes>"
      ]
     },
     "metadata": {},
     "output_type": "display_data"
    }
   ],
   "source": [
    "plt.figure(figsize=(10,6))\n",
    "sns.histplot(df['Recovered'], bins=20,color='yellow')\n",
    "plt.title(\"DISTRIBUTION OF RECOVERY RATE\")\n",
    "plt.xlabel(\"RECOVERY RATE(%)\")\n",
    "plt.ylabel(\"NO OF COUNTRIES\")\n",
    "plt.grid(True)\n",
    "plt.tight_layout()\n",
    "plt.show()\n"
   ]
  },
  {
   "cell_type": "code",
   "execution_count": 22,
   "id": "931e51df-5555-45be-9399-f1dd2d4b3d77",
   "metadata": {},
   "outputs": [
    {
     "data": {
      "image/png": "[encoded data removed]",
      "text/plain": [
       "<Figure size 1000x600 with 1 Axes>"
      ]
     },
     "metadata": {},
     "output_type": "display_data"
    }
   ],
   "source": [
    "plt.figure(figsize=(10,6))\n",
    "sns.boxplot(x=\"WHO Region\",y=\"Deaths / 100 Cases\" ,data=df)\n",
    "plt.title(\"DEATHS PER 100 CASES BY WHO REGION\")\n",
    "plt.xlabel(\"WHO region\")\n",
    "plt.ylabel(\"deaths per 100 cases\")\n",
    "plt.xticks(rotation=45)\n",
    "plt.grid(axis='y')\n",
    "plt.tight_layout()\n",
    "plt.show()"
   ]
  },
  {
   "cell_type": "code",
   "execution_count": 23,
   "id": "2aa2fc26-f9ca-4542-8106-a9bead0d5837",
   "metadata": {},
   "outputs": [
    {
     "data": {
      "image/png": "[encoded data removed]",
      "text/plain": [
       "<Figure size 1000x600 with 1 Axes>"
      ]
     },
     "metadata": {},
     "output_type": "display_data"
    }
   ],
   "source": [
    "if 'Confirmed last week' in df.columns and '1 week change' in df.columns:\n",
    "    plt.figure(figsize=(10,6))\n",
    "    sns.scatterplot(data=df,x='Confirmed last week', y='1 week change',hue='WHO Region')\n",
    "    plt.title(\"WEEKLY COVID CASES CHANGES VS LAST WEEK\")\n",
    "    plt.xlabel(\"CONFIRM LAST WEEK\")\n",
    "    plt.ylabel(\"1 WEEK CHANGE\")\n",
    "    plt.grid(True)\n",
    "    plt.tight_layout()\n",
    "    plt.show()\n",
    "\n",
    "else:\n",
    "    print(\"REQUIRED COLUMN NOT FOUND: 'Confirmed last week' & '1 week change'\")\n"
   ]
  },
  {
   "cell_type": "code",
   "execution_count": 24,
   "id": "80aee4b6-ebd4-4e9c-a2bb-766cfc4d3072",
   "metadata": {},
   "outputs": [
    {
     "data": {
      "image/png": "[encoded data removed]",
      "text/plain": [
       "<Figure size 1000x600 with 1 Axes>"
      ]
     },
     "metadata": {},
     "output_type": "display_data"
    }
   ],
   "source": [
    "plt.figure(figsize=(10,6))\n",
    "sns.violinplot(data=df,x='WHO Region',y='Deaths / 100 Cases')\n",
    "plt.title(\"MORATITY RATE DISTRIBUTION BY WHO REGION\")\n",
    "plt.xlabel(\"WHO REGION\")\n",
    "plt.ylabel(\"DEATHS PER 100 CASES\")\n",
    "plt.xticks(rotation=45)\n",
    "plt.grid(axis='y')\n",
    "plt.tight_layout()\n",
    "plt.show()\n"
   ]
  },
  {
   "cell_type": "code",
   "execution_count": null,
   "id": "e4f2fe02-3704-4081-8e5d-0cd755db6883",
   "metadata": {},
   "outputs": [],
   "source": [
    "\n"
   ]
  },
  {
   "cell_type": "code",
   "execution_count": 25,
   "id": "a01e6a8f-549f-4e4a-9884-57d8e05f4118",
   "metadata": {},
   "outputs": [
    {
     "name": "stdout",
     "output_type": "stream",
     "text": [
      "Dash is installed and working!\n"
     ]
    }
   ],
   "source": [
    "import dash\n",
    "print(\"Dash is installed and working!\")\n"
   ]
  },
  {
   "cell_type": "code",
   "execution_count": 26,
   "id": "ebdc0544-acf3-4f7b-bbbe-fc67dae8e2b0",
   "metadata": {},
   "outputs": [
    {
     "data": {
      "application/vnd.plotly.v1+json": {
       "config": {
        "plotlyServerURL": "https://plot.ly"
       },
       "data": [
        {
         "hovertemplate": "WHO Region=%{x}<br>Confirmed=%{y}<extra></extra>",
         "legendgroup": "",
         "marker": {
          "color": "#636efa",
          "pattern": {
           "shape": ""
          }
         },
         "name": "",
         "orientation": "v",
         "showlegend": false,
         "textposition": "auto",
         "type": "bar",
         "x": [
          "Africa",
          "Americas",
          "Eastern Mediterranean",
          "Europe",
          "South-East Asia",
          "Western Pacific"
         ],
         "xaxis": "x",
         "y": {
          "bdata": "BwkLAHbghgA4vxYAw1gyACEBHABMdgQA",
          "dtype": "i4"
         },
         "yaxis": "y"
        }
       ],
       "layout": {
        "barmode": "relative",
        "legend": {
         "tracegroupgap": 0
        },
        "template": {
         "data": {
          "bar": [
           {
            "error_x": {
             "color": "#2a3f5f"
            },
            "error_y": {
             "color": "#2a3f5f"
            },
            "marker": {
             "line": {
              "color": "#E5ECF6",
              "width": 0.5
             },
             "pattern": {
              "fillmode": "overlay",
              "size": 10,
              "solidity": 0.2
             }
            },
            "type": "bar"
           }
          ],
          "barpolar": [
           {
            "marker": {
             "line": {
              "color": "#E5ECF6",
              "width": 0.5
             },
             "pattern": {
              "fillmode": "overlay",
              "size": 10,
              "solidity": 0.2
             }
            },
            "type": "barpolar"
           }
          ],
          "carpet": [
           {
            "aaxis": {
             "endlinecolor": "#2a3f5f",
             "gridcolor": "white",
             "linecolor": "white",
             "minorgridcolor": "white",
             "startlinecolor": "#2a3f5f"
            },
            "baxis": {
             "endlinecolor": "#2a3f5f",
             "gridcolor": "white",
             "linecolor": "white",
             "minorgridcolor": "white",
             "startlinecolor": "#2a3f5f"
            },
            "type": "carpet"
           }
          ],
          "choropleth": [
           {
            "colorbar": {
             "outlinewidth": 0,
             "ticks": ""
            },
            "type": "choropleth"
           }
          ],
          "contour": [
           {
            "colorbar": {
             "outlinewidth": 0,
             "ticks": ""
            },
            "colorscale": [
             [
              0,
              "#0d0887"
             ],
             [
              0.1111111111111111,
              "#46039f"
             ],
             [
              0.2222222222222222,
              "#7201a8"
             ],
             [
              0.3333333333333333,
              "#9c179e"
             ],
             [
              0.4444444444444444,
              "#bd3786"
             ],
             [
              0.5555555555555556,
              "#d8576b"
             ],
             [
              0.6666666666666666,
              "#ed7953"
             ],
             [
              0.7777777777777778,
              "#fb9f3a"
             ],
             [
              0.8888888888888888,
              "#fdca26"
             ],
             [
              1,
              "#f0f921"
             ]
            ],
            "type": "contour"
           }
          ],
          "contourcarpet": [
           {
            "colorbar": {
             "outlinewidth": 0,
             "ticks": ""
            },
            "type": "contourcarpet"
           }
          ],
          "heatmap": [
           {
            "colorbar": {
             "outlinewidth": 0,
             "ticks": ""
            },
            "colorscale": [
             [
              0,
              "#0d0887"
             ],
             [
              0.1111111111111111,
              "#46039f"
             ],
             [
              0.2222222222222222,
              "#7201a8"
             ],
             [
              0.3333333333333333,
              "#9c179e"
             ],
             [
              0.4444444444444444,
              "#bd3786"
             ],
             [
              0.5555555555555556,
              "#d8576b"
             ],
             [
              0.6666666666666666,
              "#ed7953"
             ],
             [
              0.7777777777777778,
              "#fb9f3a"
             ],
             [
              0.8888888888888888,
              "#fdca26"
             ],
             [
              1,
              "#f0f921"
             ]
            ],
            "type": "heatmap"
           }
          ],
          "histogram": [
           {
            "marker": {
             "pattern": {
              "fillmode": "overlay",
              "size": 10,
              "solidity": 0.2
             }
            },
            "type": "histogram"
           }
          ],
          "histogram2d": [
           {
            "colorbar": {
             "outlinewidth": 0,
             "ticks": ""
            },
            "colorscale": [
             [
              0,
              "#0d0887"
             ],
             [
              0.1111111111111111,
              "#46039f"
             ],
             [
              0.2222222222222222,
              "#7201a8"
             ],
             [
              0.3333333333333333,
              "#9c179e"
             ],
             [
              0.4444444444444444,
              "#bd3786"
             ],
             [
              0.5555555555555556,
              "#d8576b"
             ],
             [
              0.6666666666666666,
              "#ed7953"
             ],
             [
              0.7777777777777778,
              "#fb9f3a"
             ],
             [
              0.8888888888888888,
              "#fdca26"
             ],
             [
              1,
              "#f0f921"
             ]
            ],
            "type": "histogram2d"
           }
          ],
          "histogram2dcontour": [
           {
            "colorbar": {
             "outlinewidth": 0,
             "ticks": ""
            },
            "colorscale": [
             [
              0,
              "#0d0887"
             ],
             [
              0.1111111111111111,
              "#46039f"
             ],
             [
              0.2222222222222222,
              "#7201a8"
             ],
             [
              0.3333333333333333,
              "#9c179e"
             ],
             [
              0.4444444444444444,
              "#bd3786"
             ],
             [
              0.5555555555555556,
              "#d8576b"
             ],
             [
              0.6666666666666666,
              "#ed7953"
             ],
             [
              0.7777777777777778,
              "#fb9f3a"
             ],
             [
              0.8888888888888888,
              "#fdca26"
             ],
             [
              1,
              "#f0f921"
             ]
            ],
            "type": "histogram2dcontour"
           }
          ],
          "mesh3d": [
           {
            "colorbar": {
             "outlinewidth": 0,
             "ticks": ""
            },
            "type": "mesh3d"
           }
          ],
          "parcoords": [
           {
            "line": {
             "colorbar": {
              "outlinewidth": 0,
              "ticks": ""
             }
            },
            "type": "parcoords"
           }
          ],
          "pie": [
           {
            "automargin": true,
            "type": "pie"
           }
          ],
          "scatter": [
           {
            "fillpattern": {
             "fillmode": "overlay",
             "size": 10,
             "solidity": 0.2
            },
            "type": "scatter"
           }
          ],
          "scatter3d": [
           {
            "line": {
             "colorbar": {
              "outlinewidth": 0,
              "ticks": ""
             }
            },
            "marker": {
             "colorbar": {
              "outlinewidth": 0,
              "ticks": ""
             }
            },
            "type": "scatter3d"
           }
          ],
          "scattercarpet": [
           {
            "marker": {
             "colorbar": {
              "outlinewidth": 0,
              "ticks": ""
             }
            },
            "type": "scattercarpet"
           }
          ],
          "scattergeo": [
           {
            "marker": {
             "colorbar": {
              "outlinewidth": 0,
              "ticks": ""
             }
            },
            "type": "scattergeo"
           }
          ],
          "scattergl": [
           {
            "marker": {
             "colorbar": {
              "outlinewidth": 0,
              "ticks": ""
             }
            },
            "type": "scattergl"
           }
          ],
          "scattermap": [
           {
            "marker": {
             "colorbar": {
              "outlinewidth": 0,
              "ticks": ""
             }
            },
            "type": "scattermap"
           }
          ],
          "scattermapbox": [
           {
            "marker": {
             "colorbar": {
              "outlinewidth": 0,
              "ticks": ""
             }
            },
            "type": "scattermapbox"
           }
          ],
          "scatterpolar": [
           {
            "marker": {
             "colorbar": {
              "outlinewidth": 0,
              "ticks": ""
             }
            },
            "type": "scatterpolar"
           }
          ],
          "scatterpolargl": [
           {
            "marker": {
             "colorbar": {
              "outlinewidth": 0,
              "ticks": ""
             }
            },
            "type": "scatterpolargl"
           }
          ],
          "scatterternary": [
           {
            "marker": {
             "colorbar": {
              "outlinewidth": 0,
              "ticks": ""
             }
            },
            "type": "scatterternary"
           }
          ],
          "surface": [
           {
            "colorbar": {
             "outlinewidth": 0,
             "ticks": ""
            },
            "colorscale": [
             [
              0,
              "#0d0887"
             ],
             [
              0.1111111111111111,
              "#46039f"
             ],
             [
              0.2222222222222222,
              "#7201a8"
             ],
             [
              0.3333333333333333,
              "#9c179e"
             ],
             [
              0.4444444444444444,
              "#bd3786"
             ],
             [
              0.5555555555555556,
              "#d8576b"
             ],
             [
              0.6666666666666666,
              "#ed7953"
             ],
             [
              0.7777777777777778,
              "#fb9f3a"
             ],
             [
              0.8888888888888888,
              "#fdca26"
             ],
             [
              1,
              "#f0f921"
             ]
            ],
            "type": "surface"
           }
          ],
          "table": [
           {
            "cells": {
             "fill": {
              "color": "#EBF0F8"
             },
             "line": {
              "color": "white"
             }
            },
            "header": {
             "fill": {
              "color": "#C8D4E3"
             },
             "line": {
              "color": "white"
             }
            },
            "type": "table"
           }
          ]
         },
         "layout": {
          "annotationdefaults": {
           "arrowcolor": "#2a3f5f",
           "arrowhead": 0,
           "arrowwidth": 1
          },
          "autotypenumbers": "strict",
          "coloraxis": {
           "colorbar": {
            "outlinewidth": 0,
            "ticks": ""
           }
          },
          "colorscale": {
           "diverging": [
            [
             0,
             "#8e0152"
            ],
            [
             0.1,
             "#c51b7d"
            ],
            [
             0.2,
             "#de77ae"
            ],
            [
             0.3,
             "#f1b6da"
            ],
            [
             0.4,
             "#fde0ef"
            ],
            [
             0.5,
             "#f7f7f7"
            ],
            [
             0.6,
             "#e6f5d0"
            ],
            [
             0.7,
             "#b8e186"
            ],
            [
             0.8,
             "#7fbc41"
            ],
            [
             0.9,
             "#4d9221"
            ],
            [
             1,
             "#276419"
            ]
           ],
           "sequential": [
            [
             0,
             "#0d0887"
            ],
            [
             0.1111111111111111,
             "#46039f"
            ],
            [
             0.2222222222222222,
             "#7201a8"
            ],
            [
             0.3333333333333333,
             "#9c179e"
            ],
            [
             0.4444444444444444,
             "#bd3786"
            ],
            [
             0.5555555555555556,
             "#d8576b"
            ],
            [
             0.6666666666666666,
             "#ed7953"
            ],
            [
             0.7777777777777778,
             "#fb9f3a"
            ],
            [
             0.8888888888888888,
             "#fdca26"
            ],
            [
             1,
             "#f0f921"
            ]
           ],
           "sequentialminus": [
            [
             0,
             "#0d0887"
            ],
            [
             0.1111111111111111,
             "#46039f"
            ],
            [
             0.2222222222222222,
             "#7201a8"
            ],
            [
             0.3333333333333333,
             "#9c179e"
            ],
            [
             0.4444444444444444,
             "#bd3786"
            ],
            [
             0.5555555555555556,
             "#d8576b"
            ],
            [
             0.6666666666666666,
             "#ed7953"
            ],
            [
             0.7777777777777778,
             "#fb9f3a"
            ],
            [
             0.8888888888888888,
             "#fdca26"
            ],
            [
             1,
             "#f0f921"
            ]
           ]
          },
          "colorway": [
           "#636efa",
           "#EF553B",
           "#00cc96",
           "#ab63fa",
           "#FFA15A",
           "#19d3f3",
           "#FF6692",
           "#B6E880",
           "#FF97FF",
           "#FECB52"
          ],
          "font": {
           "color": "#2a3f5f"
          },
          "geo": {
           "bgcolor": "white",
           "lakecolor": "white",
           "landcolor": "#E5ECF6",
           "showlakes": true,
           "showland": true,
           "subunitcolor": "white"
          },
          "hoverlabel": {
           "align": "left"
          },
          "hovermode": "closest",
          "mapbox": {
           "style": "light"
          },
          "paper_bgcolor": "white",
          "plot_bgcolor": "#E5ECF6",
          "polar": {
           "angularaxis": {
            "gridcolor": "white",
            "linecolor": "white",
            "ticks": ""
           },
           "bgcolor": "#E5ECF6",
           "radialaxis": {
            "gridcolor": "white",
            "linecolor": "white",
            "ticks": ""
           }
          },
          "scene": {
           "xaxis": {
            "backgroundcolor": "#E5ECF6",
            "gridcolor": "white",
            "gridwidth": 2,
            "linecolor": "white",
            "showbackground": true,
            "ticks": "",
            "zerolinecolor": "white"
           },
           "yaxis": {
            "backgroundcolor": "#E5ECF6",
            "gridcolor": "white",
            "gridwidth": 2,
            "linecolor": "white",
            "showbackground": true,
            "ticks": "",
            "zerolinecolor": "white"
           },
           "zaxis": {
            "backgroundcolor": "#E5ECF6",
            "gridcolor": "white",
            "gridwidth": 2,
            "linecolor": "white",
            "showbackground": true,
            "ticks": "",
            "zerolinecolor": "white"
           }
          },
          "shapedefaults": {
           "line": {
            "color": "#2a3f5f"
           }
          },
          "ternary": {
           "aaxis": {
            "gridcolor": "white",
            "linecolor": "white",
            "ticks": ""
           },
           "baxis": {
            "gridcolor": "white",
            "linecolor": "white",
            "ticks": ""
           },
           "bgcolor": "#E5ECF6",
           "caxis": {
            "gridcolor": "white",
            "linecolor": "white",
            "ticks": ""
           }
          },
          "title": {
           "x": 0.05
          },
          "xaxis": {
           "automargin": true,
           "gridcolor": "white",
           "linecolor": "white",
           "ticks": "",
           "title": {
            "standoff": 15
           },
           "zerolinecolor": "white",
           "zerolinewidth": 2
          },
          "yaxis": {
           "automargin": true,
           "gridcolor": "white",
           "linecolor": "white",
           "ticks": "",
           "title": {
            "standoff": 15
           },
           "zerolinecolor": "white",
           "zerolinewidth": 2
          }
         }
        },
        "title": {
         "text": "Total Confirmed Cases by WHO Region"
        },
        "xaxis": {
         "anchor": "y",
         "domain": [
          0,
          1
         ],
         "title": {
          "text": "WHO Region"
         }
        },
        "yaxis": {
         "anchor": "x",
         "domain": [
          0,
          1
         ],
         "title": {
          "text": "Confirmed"
         }
        }
       }
      }
     },
     "metadata": {},
     "output_type": "display_data"
    },
    {
     "data": {
      "application/vnd.plotly.v1+json": {
       "config": {
        "plotlyServerURL": "https://plot.ly"
       },
       "data": [
        {
         "hovertemplate": "Country/Region=%{x}<br>Active=%{y}<extra></extra>",
         "legendgroup": "",
         "marker": {
          "color": "#636efa",
          "pattern": {
           "shape": ""
          }
         },
         "name": "",
         "orientation": "v",
         "showlegend": false,
         "textposition": "auto",
         "type": "bar",
         "x": [
          "US",
          "Brazil",
          "India",
          "United Kingdom",
          "Russia",
          "South Africa",
          "Colombia",
          "France",
          "Canada",
          "Peru"
         ],
         "xaxis": "x",
         "y": {
          "bdata": "vPkqANTABwCLjwcA2+EDAIkRAwApmgIAq8kBAICpAQD6owEAwIEBAA==",
          "dtype": "i4"
         },
         "yaxis": "y"
        }
       ],
       "layout": {
        "barmode": "relative",
        "legend": {
         "tracegroupgap": 0
        },
        "template": {
         "data": {
          "bar": [
           {
            "error_x": {
             "color": "#2a3f5f"
            },
            "error_y": {
             "color": "#2a3f5f"
            },
            "marker": {
             "line": {
              "color": "#E5ECF6",
              "width": 0.5
             },
             "pattern": {
              "fillmode": "overlay",
              "size": 10,
              "solidity": 0.2
             }
            },
            "type": "bar"
           }
          ],
          "barpolar": [
           {
            "marker": {
             "line": {
              "color": "#E5ECF6",
              "width": 0.5
             },
             "pattern": {
              "fillmode": "overlay",
              "size": 10,
              "solidity": 0.2
             }
            },
            "type": "barpolar"
           }
          ],
          "carpet": [
           {
            "aaxis": {
             "endlinecolor": "#2a3f5f",
             "gridcolor": "white",
             "linecolor": "white",
             "minorgridcolor": "white",
             "startlinecolor": "#2a3f5f"
            },
            "baxis": {
             "endlinecolor": "#2a3f5f",
             "gridcolor": "white",
             "linecolor": "white",
             "minorgridcolor": "white",
             "startlinecolor": "#2a3f5f"
            },
            "type": "carpet"
           }
          ],
          "choropleth": [
           {
            "colorbar": {
             "outlinewidth": 0,
             "ticks": ""
            },
            "type": "choropleth"
           }
          ],
          "contour": [
           {
            "colorbar": {
             "outlinewidth": 0,
             "ticks": ""
            },
            "colorscale": [
             [
              0,
              "#0d0887"
             ],
             [
              0.1111111111111111,
              "#46039f"
             ],
             [
              0.2222222222222222,
              "#7201a8"
             ],
             [
              0.3333333333333333,
              "#9c179e"
             ],
             [
              0.4444444444444444,
              "#bd3786"
             ],
             [
              0.5555555555555556,
              "#d8576b"
             ],
             [
              0.6666666666666666,
              "#ed7953"
             ],
             [
              0.7777777777777778,
              "#fb9f3a"
             ],
             [
              0.8888888888888888,
              "#fdca26"
             ],
             [
              1,
              "#f0f921"
             ]
            ],
            "type": "contour"
           }
          ],
          "contourcarpet": [
           {
            "colorbar": {
             "outlinewidth": 0,
             "ticks": ""
            },
            "type": "contourcarpet"
           }
          ],
          "heatmap": [
           {
            "colorbar": {
             "outlinewidth": 0,
             "ticks": ""
            },
            "colorscale": [
             [
              0,
              "#0d0887"
             ],
             [
              0.1111111111111111,
              "#46039f"
             ],
             [
              0.2222222222222222,
              "#7201a8"
             ],
             [
              0.3333333333333333,
              "#9c179e"
             ],
             [
              0.4444444444444444,
              "#bd3786"
             ],
             [
              0.5555555555555556,
              "#d8576b"
             ],
             [
              0.6666666666666666,
              "#ed7953"
             ],
             [
              0.7777777777777778,
              "#fb9f3a"
             ],
             [
              0.8888888888888888,
              "#fdca26"
             ],
             [
              1,
              "#f0f921"
             ]
            ],
            "type": "heatmap"
           }
          ],
          "histogram": [
           {
            "marker": {
             "pattern": {
              "fillmode": "overlay",
              "size": 10,
              "solidity": 0.2
             }
            },
            "type": "histogram"
           }
          ],
          "histogram2d": [
           {
            "colorbar": {
             "outlinewidth": 0,
             "ticks": ""
            },
            "colorscale": [
             [
              0,
              "#0d0887"
             ],
             [
              0.1111111111111111,
              "#46039f"
             ],
             [
              0.2222222222222222,
              "#7201a8"
             ],
             [
              0.3333333333333333,
              "#9c179e"
             ],
             [
              0.4444444444444444,
              "#bd3786"
             ],
             [
              0.5555555555555556,
              "#d8576b"
             ],
             [
              0.6666666666666666,
              "#ed7953"
             ],
             [
              0.7777777777777778,
              "#fb9f3a"
             ],
             [
              0.8888888888888888,
              "#fdca26"
             ],
             [
              1,
              "#f0f921"
             ]
            ],
            "type": "histogram2d"
           }
          ],
          "histogram2dcontour": [
           {
            "colorbar": {
             "outlinewidth": 0,
             "ticks": ""
            },
            "colorscale": [
             [
              0,
              "#0d0887"
             ],
             [
              0.1111111111111111,
              "#46039f"
             ],
             [
              0.2222222222222222,
              "#7201a8"
             ],
             [
              0.3333333333333333,
              "#9c179e"
             ],
             [
              0.4444444444444444,
              "#bd3786"
             ],
             [
              0.5555555555555556,
              "#d8576b"
             ],
             [
              0.6666666666666666,
              "#ed7953"
             ],
             [
              0.7777777777777778,
              "#fb9f3a"
             ],
             [
              0.8888888888888888,
              "#fdca26"
             ],
             [
              1,
              "#f0f921"
             ]
            ],
            "type": "histogram2dcontour"
           }
          ],
          "mesh3d": [
           {
            "colorbar": {
             "outlinewidth": 0,
             "ticks": ""
            },
            "type": "mesh3d"
           }
          ],
          "parcoords": [
           {
            "line": {
             "colorbar": {
              "outlinewidth": 0,
              "ticks": ""
             }
            },
            "type": "parcoords"
           }
          ],
          "pie": [
           {
            "automargin": true,
            "type": "pie"
           }
          ],
          "scatter": [
           {
            "fillpattern": {
             "fillmode": "overlay",
             "size": 10,
             "solidity": 0.2
            },
            "type": "scatter"
           }
          ],
          "scatter3d": [
           {
            "line": {
             "colorbar": {
              "outlinewidth": 0,
              "ticks": ""
             }
            },
            "marker": {
             "colorbar": {
              "outlinewidth": 0,
              "ticks": ""
             }
            },
            "type": "scatter3d"
           }
          ],
          "scattercarpet": [
           {
            "marker": {
             "colorbar": {
              "outlinewidth": 0,
              "ticks": ""
             }
            },
            "type": "scattercarpet"
           }
          ],
          "scattergeo": [
           {
            "marker": {
             "colorbar": {
              "outlinewidth": 0,
              "ticks": ""
             }
            },
            "type": "scattergeo"
           }
          ],
          "scattergl": [
           {
            "marker": {
             "colorbar": {
              "outlinewidth": 0,
              "ticks": ""
             }
            },
            "type": "scattergl"
           }
          ],
          "scattermap": [
           {
            "marker": {
             "colorbar": {
              "outlinewidth": 0,
              "ticks": ""
             }
            },
            "type": "scattermap"
           }
          ],
          "scattermapbox": [
           {
            "marker": {
             "colorbar": {
              "outlinewidth": 0,
              "ticks": ""
             }
            },
            "type": "scattermapbox"
           }
          ],
          "scatterpolar": [
           {
            "marker": {
             "colorbar": {
              "outlinewidth": 0,
              "ticks": ""
             }
            },
            "type": "scatterpolar"
           }
          ],
          "scatterpolargl": [
           {
            "marker": {
             "colorbar": {
              "outlinewidth": 0,
              "ticks": ""
             }
            },
            "type": "scatterpolargl"
           }
          ],
          "scatterternary": [
           {
            "marker": {
             "colorbar": {
              "outlinewidth": 0,
              "ticks": ""
             }
            },
            "type": "scatterternary"
           }
          ],
          "surface": [
           {
            "colorbar": {
             "outlinewidth": 0,
             "ticks": ""
            },
            "colorscale": [
             [
              0,
              "#0d0887"
             ],
             [
              0.1111111111111111,
              "#46039f"
             ],
             [
              0.2222222222222222,
              "#7201a8"
             ],
             [
              0.3333333333333333,
              "#9c179e"
             ],
             [
              0.4444444444444444,
              "#bd3786"
             ],
             [
              0.5555555555555556,
              "#d8576b"
             ],
             [
              0.6666666666666666,
              "#ed7953"
             ],
             [
              0.7777777777777778,
              "#fb9f3a"
             ],
             [
              0.8888888888888888,
              "#fdca26"
             ],
             [
              1,
              "#f0f921"
             ]
            ],
            "type": "surface"
           }
          ],
          "table": [
           {
            "cells": {
             "fill": {
              "color": "#EBF0F8"
             },
             "line": {
              "color": "white"
             }
            },
            "header": {
             "fill": {
              "color": "#C8D4E3"
             },
             "line": {
              "color": "white"
             }
            },
            "type": "table"
           }
          ]
         },
         "layout": {
          "annotationdefaults": {
           "arrowcolor": "#2a3f5f",
           "arrowhead": 0,
           "arrowwidth": 1
          },
          "autotypenumbers": "strict",
          "coloraxis": {
           "colorbar": {
            "outlinewidth": 0,
            "ticks": ""
           }
          },
          "colorscale": {
           "diverging": [
            [
             0,
             "#8e0152"
            ],
            [
             0.1,
             "#c51b7d"
            ],
            [
             0.2,
             "#de77ae"
            ],
            [
             0.3,
             "#f1b6da"
            ],
            [
             0.4,
             "#fde0ef"
            ],
            [
             0.5,
             "#f7f7f7"
            ],
            [
             0.6,
             "#e6f5d0"
            ],
            [
             0.7,
             "#b8e186"
            ],
            [
             0.8,
             "#7fbc41"
            ],
            [
             0.9,
             "#4d9221"
            ],
            [
             1,
             "#276419"
            ]
           ],
           "sequential": [
            [
             0,
             "#0d0887"
            ],
            [
             0.1111111111111111,
             "#46039f"
            ],
            [
             0.2222222222222222,
             "#7201a8"
            ],
            [
             0.3333333333333333,
             "#9c179e"
            ],
            [
             0.4444444444444444,
             "#bd3786"
            ],
            [
             0.5555555555555556,
             "#d8576b"
            ],
            [
             0.6666666666666666,
             "#ed7953"
            ],
            [
             0.7777777777777778,
             "#fb9f3a"
            ],
            [
             0.8888888888888888,
             "#fdca26"
            ],
            [
             1,
             "#f0f921"
            ]
           ],
           "sequentialminus": [
            [
             0,
             "#0d0887"
            ],
            [
             0.1111111111111111,
             "#46039f"
            ],
            [
             0.2222222222222222,
             "#7201a8"
            ],
            [
             0.3333333333333333,
             "#9c179e"
            ],
            [
             0.4444444444444444,
             "#bd3786"
            ],
            [
             0.5555555555555556,
             "#d8576b"
            ],
            [
             0.6666666666666666,
             "#ed7953"
            ],
            [
             0.7777777777777778,
             "#fb9f3a"
            ],
            [
             0.8888888888888888,
             "#fdca26"
            ],
            [
             1,
             "#f0f921"
            ]
           ]
          },
          "colorway": [
           "#636efa",
           "#EF553B",
           "#00cc96",
           "#ab63fa",
           "#FFA15A",
           "#19d3f3",
           "#FF6692",
           "#B6E880",
           "#FF97FF",
           "#FECB52"
          ],
          "font": {
           "color": "#2a3f5f"
          },
          "geo": {
           "bgcolor": "white",
           "lakecolor": "white",
           "landcolor": "#E5ECF6",
           "showlakes": true,
           "showland": true,
           "subunitcolor": "white"
          },
          "hoverlabel": {
           "align": "left"
          },
          "hovermode": "closest",
          "mapbox": {
           "style": "light"
          },
          "paper_bgcolor": "white",
          "plot_bgcolor": "#E5ECF6",
          "polar": {
           "angularaxis": {
            "gridcolor": "white",
            "linecolor": "white",
            "ticks": ""
           },
           "bgcolor": "#E5ECF6",
           "radialaxis": {
            "gridcolor": "white",
            "linecolor": "white",
            "ticks": ""
           }
          },
          "scene": {
           "xaxis": {
            "backgroundcolor": "#E5ECF6",
            "gridcolor": "white",
            "gridwidth": 2,
            "linecolor": "white",
            "showbackground": true,
            "ticks": "",
            "zerolinecolor": "white"
           },
           "yaxis": {
            "backgroundcolor": "#E5ECF6",
            "gridcolor": "white",
            "gridwidth": 2,
            "linecolor": "white",
            "showbackground": true,
            "ticks": "",
            "zerolinecolor": "white"
           },
           "zaxis": {
            "backgroundcolor": "#E5ECF6",
            "gridcolor": "white",
            "gridwidth": 2,
            "linecolor": "white",
            "showbackground": true,
            "ticks": "",
            "zerolinecolor": "white"
           }
          },
          "shapedefaults": {
           "line": {
            "color": "#2a3f5f"
           }
          },
          "ternary": {
           "aaxis": {
            "gridcolor": "white",
            "linecolor": "white",
            "ticks": ""
           },
           "baxis": {
            "gridcolor": "white",
            "linecolor": "white",
            "ticks": ""
           },
           "bgcolor": "#E5ECF6",
           "caxis": {
            "gridcolor": "white",
            "linecolor": "white",
            "ticks": ""
           }
          },
          "title": {
           "x": 0.05
          },
          "xaxis": {
           "automargin": true,
           "gridcolor": "white",
           "linecolor": "white",
           "ticks": "",
           "title": {
            "standoff": 15
           },
           "zerolinecolor": "white",
           "zerolinewidth": 2
          },
          "yaxis": {
           "automargin": true,
           "gridcolor": "white",
           "linecolor": "white",
           "ticks": "",
           "title": {
            "standoff": 15
           },
           "zerolinecolor": "white",
           "zerolinewidth": 2
          }
         }
        },
        "title": {
         "text": "Top 10 Countries with Active Cases"
        },
        "xaxis": {
         "anchor": "y",
         "domain": [
          0,
          1
         ],
         "title": {
          "text": "Country/Region"
         }
        },
        "yaxis": {
         "anchor": "x",
         "domain": [
          0,
          1
         ],
         "title": {
          "text": "Active"
         }
        }
       }
      }
     },
     "metadata": {},
     "output_type": "display_data"
    },
    {
     "data": {
      "application/vnd.plotly.v1+json": {
       "config": {
        "plotlyServerURL": "https://plot.ly"
       },
       "data": [
        {
         "domain": {
          "x": [
           0,
           1
          ],
          "y": [
           0,
           1
          ]
         },
         "hovertemplate": "WHO Region=%{label}<br>Confirmed=%{value}<extra></extra>",
         "labels": [
          "Eastern Mediterranean",
          "Europe",
          "Africa",
          "Europe",
          "Africa",
          "Americas",
          "Americas",
          "Europe",
          "Western Pacific",
          "Europe",
          "Europe",
          "Americas",
          "Eastern Mediterranean",
          "South-East Asia",
          "Americas",
          "Europe",
          "Europe",
          "Americas",
          "Africa",
          "South-East Asia",
          "Americas",
          "Europe",
          "Africa",
          "Americas",
          "Western Pacific",
          "Europe",
          "Africa",
          "South-East Asia",
          "Africa",
          "Africa",
          "Western Pacific",
          "Africa",
          "Americas",
          "Africa",
          "Africa",
          "Americas",
          "Western Pacific",
          "Americas",
          "Africa",
          "Africa",
          "Africa",
          "Americas",
          "Africa",
          "Europe",
          "Americas",
          "Europe",
          "Europe",
          "Europe",
          "Eastern Mediterranean",
          "Americas",
          "Americas",
          "Americas",
          "Eastern Mediterranean",
          "Americas",
          "Africa",
          "Africa",
          "Europe",
          "Africa",
          "Africa",
          "Western Pacific",
          "Europe",
          "Europe",
          "Africa",
          "Africa",
          "Europe",
          "Europe",
          "Africa",
          "Europe",
          "Europe",
          "Americas",
          "Americas",
          "Africa",
          "Africa",
          "Americas",
          "Americas",
          "Europe",
          "Americas",
          "Europe",
          "Europe",
          "South-East Asia",
          "South-East Asia",
          "Eastern Mediterranean",
          "Eastern Mediterranean",
          "Europe",
          "Europe",
          "Europe",
          "Americas",
          "Western Pacific",
          "Eastern Mediterranean",
          "Europe",
          "Africa",
          "Europe",
          "Eastern Mediterranean",
          "Europe",
          "Western Pacific",
          "Europe",
          "Eastern Mediterranean",
          "Africa",
          "Africa",
          "Eastern Mediterranean",
          "Europe",
          "Europe",
          "Europe",
          "Africa",
          "Africa",
          "Western Pacific",
          "South-East Asia",
          "Africa",
          "Europe",
          "Africa",
          "Africa",
          "Americas",
          "Europe",
          "Europe",
          "Western Pacific",
          "Europe",
          "Eastern Mediterranean",
          "Africa",
          "Africa",
          "South-East Asia",
          "Europe",
          "Western Pacific",
          "Americas",
          "Africa",
          "Africa",
          "Europe",
          "Europe",
          "Eastern Mediterranean",
          "Eastern Mediterranean",
          "Americas",
          "Western Pacific",
          "Americas",
          "Americas",
          "Western Pacific",
          "Europe",
          "Europe",
          "Eastern Mediterranean",
          "Europe",
          "Europe",
          "Africa",
          "Americas",
          "Americas",
          "Americas",
          "Europe",
          "Africa",
          "Eastern Mediterranean",
          "Africa",
          "Europe",
          "Africa",
          "Africa",
          "Western Pacific",
          "Europe",
          "Europe",
          "Eastern Mediterranean",
          "Africa",
          "Western Pacific",
          "Africa",
          "Europe",
          "South-East Asia",
          "Eastern Mediterranean",
          "Americas",
          "Europe",
          "Europe",
          "Eastern Mediterranean",
          "Western Pacific",
          "Europe",
          "Africa",
          "South-East Asia",
          "South-East Asia",
          "Africa",
          "Americas",
          "Eastern Mediterranean",
          "Europe",
          "Americas",
          "Africa",
          "Europe",
          "Eastern Mediterranean",
          "Europe",
          "Americas",
          "Europe",
          "Americas",
          "Western Pacific",
          "Eastern Mediterranean",
          "Africa",
          "Eastern Mediterranean",
          "Africa",
          "Africa"
         ],
         "legendgroup": "",
         "name": "",
         "showlegend": true,
         "type": "pie",
         "values": {
          "bdata": "p40AABATAABFbQAAiwMAALYDAABWAAAA+I0CAA6SAADHOwAATlAAAO52AAB+AQAAOpoAALFzAwBuAAAAswYBAHwDAQAwAAAA6gYAAGMAAAANFgEAAikAAOMCAACHRCUAjQAAAH0pAABMBAAAXgEAAHoBAAAYCQAA4gAAANZCAADqxgEA9xEAAJoDAAATTwUA/1IBAE3sAwBiAQAAgAwAAIwiAADhPQAAJz0AABETAADkCQAAJAQAAJw8AADBNQAAwxMAABIAAACc+gAACT0BAEJpAQC7OgAA/wsAAAkBAADyBwAADAkAANM4AAAbAAAA5hwAAMBcAwAVHAAARgEAAHEEAAAIKQMAWIMAAIMQAAAOAAAAFwAAAP2wAACPGwAAogcAAIUBAACsHAAADAAAAD2bAABgEQAAPgcAAImVFgDPhwEA5noEAMm3AQAkZQAA8fkAAA7CAwBVAwAApnkAAJgEAACoSgEAN0YAAPUcAAB7+wAAEIIAABQAAADDBAAAKg8AAPkBAACPBAAACwsAAFYAAADjBwAAsRgAANolAABQDgAAyCIAACkNAADRCQAAvQIAAEAYAABYAQAA4QgGAHJaAAB0AAAAIQEAAE0LAACXUQAApQYAADMHAABASQAApdAAABUGAABvDQAAbAQAANygAADlJwAArCMAAAItAQBxLwQAAvAAAD4AAADEEQAAVfIFAHhAAQCKqQAAe8QAAB2sAQBOswAAKHYMAFcHAAARAAAAGAAAADQAAAC7AgAAYQMAAIYaBAAkJgAATV4AAHIAAAD3BgAAlsYAAIUIAAAnCAAAfAwAALHnBgB7NwAAAQkAACUoBAD1CgAAoCwAAMsFAAAjNgEArYYAAKICAADOAQAAQxwAAP0BAADhDAAAGAAAAGoDAACUAAAArwUAAMt2AwDTdkEAaAQAABgGAQAp5wAAjJoEALIEAADZUgAAdD4AAK8BAAB9KQAACgAAAJsGAADIEQAAkAoAAA==",
          "dtype": "i4"
         }
        }
       ],
       "layout": {
        "legend": {
         "tracegroupgap": 0
        },
        "template": {
         "data": {
          "bar": [
           {
            "error_x": {
             "color": "#2a3f5f"
            },
            "error_y": {
             "color": "#2a3f5f"
            },
            "marker": {
             "line": {
              "color": "#E5ECF6",
              "width": 0.5
             },
             "pattern": {
              "fillmode": "overlay",
              "size": 10,
              "solidity": 0.2
             }
            },
            "type": "bar"
           }
          ],
          "barpolar": [
           {
            "marker": {
             "line": {
              "color": "#E5ECF6",
              "width": 0.5
             },
             "pattern": {
              "fillmode": "overlay",
              "size": 10,
              "solidity": 0.2
             }
            },
            "type": "barpolar"
           }
          ],
          "carpet": [
           {
            "aaxis": {
             "endlinecolor": "#2a3f5f",
             "gridcolor": "white",
             "linecolor": "white",
             "minorgridcolor": "white",
             "startlinecolor": "#2a3f5f"
            },
            "baxis": {
             "endlinecolor": "#2a3f5f",
             "gridcolor": "white",
             "linecolor": "white",
             "minorgridcolor": "white",
             "startlinecolor": "#2a3f5f"
            },
            "type": "carpet"
           }
          ],
          "choropleth": [
           {
            "colorbar": {
             "outlinewidth": 0,
             "ticks": ""
            },
            "type": "choropleth"
           }
          ],
          "contour": [
           {
            "colorbar": {
             "outlinewidth": 0,
             "ticks": ""
            },
            "colorscale": [
             [
              0,
              "#0d0887"
             ],
             [
              0.1111111111111111,
              "#46039f"
             ],
             [
              0.2222222222222222,
              "#7201a8"
             ],
             [
              0.3333333333333333,
              "#9c179e"
             ],
             [
              0.4444444444444444,
              "#bd3786"
             ],
             [
              0.5555555555555556,
              "#d8576b"
             ],
             [
              0.6666666666666666,
              "#ed7953"
             ],
             [
              0.7777777777777778,
              "#fb9f3a"
             ],
             [
              0.8888888888888888,
              "#fdca26"
             ],
             [
              1,
              "#f0f921"
             ]
            ],
            "type": "contour"
           }
          ],
          "contourcarpet": [
           {
            "colorbar": {
             "outlinewidth": 0,
             "ticks": ""
            },
            "type": "contourcarpet"
           }
          ],
          "heatmap": [
           {
            "colorbar": {
             "outlinewidth": 0,
             "ticks": ""
            },
            "colorscale": [
             [
              0,
              "#0d0887"
             ],
             [
              0.1111111111111111,
              "#46039f"
             ],
             [
              0.2222222222222222,
              "#7201a8"
             ],
             [
              0.3333333333333333,
              "#9c179e"
             ],
             [
              0.4444444444444444,
              "#bd3786"
             ],
             [
              0.5555555555555556,
              "#d8576b"
             ],
             [
              0.6666666666666666,
              "#ed7953"
             ],
             [
              0.7777777777777778,
              "#fb9f3a"
             ],
             [
              0.8888888888888888,
              "#fdca26"
             ],
             [
              1,
              "#f0f921"
             ]
            ],
            "type": "heatmap"
           }
          ],
          "histogram": [
           {
            "marker": {
             "pattern": {
              "fillmode": "overlay",
              "size": 10,
              "solidity": 0.2
             }
            },
            "type": "histogram"
           }
          ],
          "histogram2d": [
           {
            "colorbar": {
             "outlinewidth": 0,
             "ticks": ""
            },
            "colorscale": [
             [
              0,
              "#0d0887"
             ],
             [
              0.1111111111111111,
              "#46039f"
             ],
             [
              0.2222222222222222,
              "#7201a8"
             ],
             [
              0.3333333333333333,
              "#9c179e"
             ],
             [
              0.4444444444444444,
              "#bd3786"
             ],
             [
              0.5555555555555556,
              "#d8576b"
             ],
             [
              0.6666666666666666,
              "#ed7953"
             ],
             [
              0.7777777777777778,
              "#fb9f3a"
             ],
             [
              0.8888888888888888,
              "#fdca26"
             ],
             [
              1,
              "#f0f921"
             ]
            ],
            "type": "histogram2d"
           }
          ],
          "histogram2dcontour": [
           {
            "colorbar": {
             "outlinewidth": 0,
             "ticks": ""
            },
            "colorscale": [
             [
              0,
              "#0d0887"
             ],
             [
              0.1111111111111111,
              "#46039f"
             ],
             [
              0.2222222222222222,
              "#7201a8"
             ],
             [
              0.3333333333333333,
              "#9c179e"
             ],
             [
              0.4444444444444444,
              "#bd3786"
             ],
             [
              0.5555555555555556,
              "#d8576b"
             ],
             [
              0.6666666666666666,
              "#ed7953"
             ],
             [
              0.7777777777777778,
              "#fb9f3a"
             ],
             [
              0.8888888888888888,
              "#fdca26"
             ],
             [
              1,
              "#f0f921"
             ]
            ],
            "type": "histogram2dcontour"
           }
          ],
          "mesh3d": [
           {
            "colorbar": {
             "outlinewidth": 0,
             "ticks": ""
            },
            "type": "mesh3d"
           }
          ],
          "parcoords": [
           {
            "line": {
             "colorbar": {
              "outlinewidth": 0,
              "ticks": ""
             }
            },
            "type": "parcoords"
           }
          ],
          "pie": [
           {
            "automargin": true,
            "type": "pie"
           }
          ],
          "scatter": [
           {
            "fillpattern": {
             "fillmode": "overlay",
             "size": 10,
             "solidity": 0.2
            },
            "type": "scatter"
           }
          ],
          "scatter3d": [
           {
            "line": {
             "colorbar": {
              "outlinewidth": 0,
              "ticks": ""
             }
            },
            "marker": {
             "colorbar": {
              "outlinewidth": 0,
              "ticks": ""
             }
            },
            "type": "scatter3d"
           }
          ],
          "scattercarpet": [
           {
            "marker": {
             "colorbar": {
              "outlinewidth": 0,
              "ticks": ""
             }
            },
            "type": "scattercarpet"
           }
          ],
          "scattergeo": [
           {
            "marker": {
             "colorbar": {
              "outlinewidth": 0,
              "ticks": ""
             }
            },
            "type": "scattergeo"
           }
          ],
          "scattergl": [
           {
            "marker": {
             "colorbar": {
              "outlinewidth": 0,
              "ticks": ""
             }
            },
            "type": "scattergl"
           }
          ],
          "scattermap": [
           {
            "marker": {
             "colorbar": {
              "outlinewidth": 0,
              "ticks": ""
             }
            },
            "type": "scattermap"
           }
          ],
          "scattermapbox": [
           {
            "marker": {
             "colorbar": {
              "outlinewidth": 0,
              "ticks": ""
             }
            },
            "type": "scattermapbox"
           }
          ],
          "scatterpolar": [
           {
            "marker": {
             "colorbar": {
              "outlinewidth": 0,
              "ticks": ""
             }
            },
            "type": "scatterpolar"
           }
          ],
          "scatterpolargl": [
           {
            "marker": {
             "colorbar": {
              "outlinewidth": 0,
              "ticks": ""
             }
            },
            "type": "scatterpolargl"
           }
          ],
          "scatterternary": [
           {
            "marker": {
             "colorbar": {
              "outlinewidth": 0,
              "ticks": ""
             }
            },
            "type": "scatterternary"
           }
          ],
          "surface": [
           {
            "colorbar": {
             "outlinewidth": 0,
             "ticks": ""
            },
            "colorscale": [
             [
              0,
              "#0d0887"
             ],
             [
              0.1111111111111111,
              "#46039f"
             ],
             [
              0.2222222222222222,
              "#7201a8"
             ],
             [
              0.3333333333333333,
              "#9c179e"
             ],
             [
              0.4444444444444444,
              "#bd3786"
             ],
             [
              0.5555555555555556,
              "#d8576b"
             ],
             [
              0.6666666666666666,
              "#ed7953"
             ],
             [
              0.7777777777777778,
              "#fb9f3a"
             ],
             [
              0.8888888888888888,
              "#fdca26"
             ],
             [
              1,
              "#f0f921"
             ]
            ],
            "type": "surface"
           }
          ],
          "table": [
           {
            "cells": {
             "fill": {
              "color": "#EBF0F8"
             },
             "line": {
              "color": "white"
             }
            },
            "header": {
             "fill": {
              "color": "#C8D4E3"
             },
             "line": {
              "color": "white"
             }
            },
            "type": "table"
           }
          ]
         },
         "layout": {
          "annotationdefaults": {
           "arrowcolor": "#2a3f5f",
           "arrowhead": 0,
           "arrowwidth": 1
          },
          "autotypenumbers": "strict",
          "coloraxis": {
           "colorbar": {
            "outlinewidth": 0,
            "ticks": ""
           }
          },
          "colorscale": {
           "diverging": [
            [
             0,
             "#8e0152"
            ],
            [
             0.1,
             "#c51b7d"
            ],
            [
             0.2,
             "#de77ae"
            ],
            [
             0.3,
             "#f1b6da"
            ],
            [
             0.4,
             "#fde0ef"
            ],
            [
             0.5,
             "#f7f7f7"
            ],
            [
             0.6,
             "#e6f5d0"
            ],
            [
             0.7,
             "#b8e186"
            ],
            [
             0.8,
             "#7fbc41"
            ],
            [
             0.9,
             "#4d9221"
            ],
            [
             1,
             "#276419"
            ]
           ],
           "sequential": [
            [
             0,
             "#0d0887"
            ],
            [
             0.1111111111111111,
             "#46039f"
            ],
            [
             0.2222222222222222,
             "#7201a8"
            ],
            [
             0.3333333333333333,
             "#9c179e"
            ],
            [
             0.4444444444444444,
             "#bd3786"
            ],
            [
             0.5555555555555556,
             "#d8576b"
            ],
            [
             0.6666666666666666,
             "#ed7953"
            ],
            [
             0.7777777777777778,
             "#fb9f3a"
            ],
            [
             0.8888888888888888,
             "#fdca26"
            ],
            [
             1,
             "#f0f921"
            ]
           ],
           "sequentialminus": [
            [
             0,
             "#0d0887"
            ],
            [
             0.1111111111111111,
             "#46039f"
            ],
            [
             0.2222222222222222,
             "#7201a8"
            ],
            [
             0.3333333333333333,
             "#9c179e"
            ],
            [
             0.4444444444444444,
             "#bd3786"
            ],
            [
             0.5555555555555556,
             "#d8576b"
            ],
            [
             0.6666666666666666,
             "#ed7953"
            ],
            [
             0.7777777777777778,
             "#fb9f3a"
            ],
            [
             0.8888888888888888,
             "#fdca26"
            ],
            [
             1,
             "#f0f921"
            ]
           ]
          },
          "colorway": [
           "#636efa",
           "#EF553B",
           "#00cc96",
           "#ab63fa",
           "#FFA15A",
           "#19d3f3",
           "#FF6692",
           "#B6E880",
           "#FF97FF",
           "#FECB52"
          ],
          "font": {
           "color": "#2a3f5f"
          },
          "geo": {
           "bgcolor": "white",
           "lakecolor": "white",
           "landcolor": "#E5ECF6",
           "showlakes": true,
           "showland": true,
           "subunitcolor": "white"
          },
          "hoverlabel": {
           "align": "left"
          },
          "hovermode": "closest",
          "mapbox": {
           "style": "light"
          },
          "paper_bgcolor": "white",
          "plot_bgcolor": "#E5ECF6",
          "polar": {
           "angularaxis": {
            "gridcolor": "white",
            "linecolor": "white",
            "ticks": ""
           },
           "bgcolor": "#E5ECF6",
           "radialaxis": {
            "gridcolor": "white",
            "linecolor": "white",
            "ticks": ""
           }
          },
          "scene": {
           "xaxis": {
            "backgroundcolor": "#E5ECF6",
            "gridcolor": "white",
            "gridwidth": 2,
            "linecolor": "white",
            "showbackground": true,
            "ticks": "",
            "zerolinecolor": "white"
           },
           "yaxis": {
            "backgroundcolor": "#E5ECF6",
            "gridcolor": "white",
            "gridwidth": 2,
            "linecolor": "white",
            "showbackground": true,
            "ticks": "",
            "zerolinecolor": "white"
           },
           "zaxis": {
            "backgroundcolor": "#E5ECF6",
            "gridcolor": "white",
            "gridwidth": 2,
            "linecolor": "white",
            "showbackground": true,
            "ticks": "",
            "zerolinecolor": "white"
           }
          },
          "shapedefaults": {
           "line": {
            "color": "#2a3f5f"
           }
          },
          "ternary": {
           "aaxis": {
            "gridcolor": "white",
            "linecolor": "white",
            "ticks": ""
           },
           "baxis": {
            "gridcolor": "white",
            "linecolor": "white",
            "ticks": ""
           },
           "bgcolor": "#E5ECF6",
           "caxis": {
            "gridcolor": "white",
            "linecolor": "white",
            "ticks": ""
           }
          },
          "title": {
           "x": 0.05
          },
          "xaxis": {
           "automargin": true,
           "gridcolor": "white",
           "linecolor": "white",
           "ticks": "",
           "title": {
            "standoff": 15
           },
           "zerolinecolor": "white",
           "zerolinewidth": 2
          },
          "yaxis": {
           "automargin": true,
           "gridcolor": "white",
           "linecolor": "white",
           "ticks": "",
           "title": {
            "standoff": 15
           },
           "zerolinecolor": "white",
           "zerolinewidth": 2
          }
         }
        },
        "title": {
         "text": "Confirmed Cases Distribution by Region"
        }
       }
      }
     },
     "metadata": {},
     "output_type": "display_data"
    },
    {
     "data": {
      "application/vnd.plotly.v1+json": {
       "config": {
        "plotlyServerURL": "https://plot.ly"
       },
       "data": [
        {
         "hovertemplate": "WHO Region=Eastern Mediterranean<br>Confirmed=%{x}<br>Deaths=%{y}<extra></extra>",
         "legendgroup": "Eastern Mediterranean",
         "marker": {
          "color": "#636efa",
          "symbol": "circle"
         },
         "mode": "markers",
         "name": "Eastern Mediterranean",
         "orientation": "v",
         "showlegend": true,
         "type": "scatter",
         "x": {
          "bdata": "p40AADqaAADDEwAAQmkBAOZ6BADJtwEAmAQAAHv7AAAqDwAACwsAAJdRAAACLQEAcS8EAB2sAQCGGgQAfAwAAKAsAACiAgAArwUAACnnAAB9KQAAmwYAAA==",
          "dtype": "i4"
         },
         "xaxis": "x",
         "y": {
          "bdata": "9QSNADoALBIoPmoRCwC2ATMAQAA8AYkB0halAMgKXQDQAigAMgBZAU4A4wE=",
          "dtype": "i2"
         },
         "yaxis": "y"
        },
        {
         "hovertemplate": "WHO Region=Europe<br>Confirmed=%{x}<br>Deaths=%{y}<extra></extra>",
         "legendgroup": "Europe",
         "marker": {
          "color": "#EF553B",
          "symbol": "circle"
         },
         "mode": "markers",
         "name": "Europe",
         "orientation": "v",
         "showlegend": true,
         "type": "scatter",
         "x": {
          "bdata": "EBMAAIsDAAAOkgAATlAAAO52AACzBgEAfAMBAAIpAAB9KQAAERMAACQEAACcPAAAwTUAAPIHAADmHAAAwFwDAHEEAAAIKQMAgxAAAA4AAAAMAAAAYBEAAD4HAAAkZQAA8fkAAA7CAwCoSgEA9RwAABCCAADDBAAAVgAAAOMHAACxGAAAvQIAAHJaAAB0AAAATQsAAKXQAADlJwAArCMAAIqpAAB7xAAATrMAACh2DAC7AgAATV4AAIUIAAAnCAAAJSgEACM2AQCthgAAQxwAAMt2AwAYBgEAjJoEANlSAAA=",
          "dtype": "i4"
         },
         "xaxis": "x",
         "y": {
          "bdata": "kAAAADQAAADHAgAAyQIAAKcBAAAaAgAAXiYAACYBAABbAQAAiwAAABMAAAB1AQAAZQIAAEUAAABJAQAABHYAABAAAAClIwAAygAAAAAAAAAAAAAAVAIAAAoAAADkBgAA2gEAACiJAABJAgAAuQAAABUFAAAfAAAAAQAAAFAAAABwAAAACQAAAOwCAAAEAAAALQAAABAYAADSAQAA/wAAAIwGAAC3BgAAnggAABY0AAAqAAAAHwIAABwAAAB0AAAAEG8AAEQWAAC6BwAAPAAAAP4VAABkBgAAFLMAAHkAAAA=",
          "dtype": "i4"
         },
         "yaxis": "y"
        },
        {
         "hovertemplate": "WHO Region=Africa<br>Confirmed=%{x}<br>Deaths=%{y}<extra></extra>",
         "legendgroup": "Africa",
         "marker": {
          "color": "#00cc96",
          "symbol": "circle"
         },
         "mode": "markers",
         "name": "Africa",
         "orientation": "v",
         "showlegend": true,
         "type": "scatter",
         "x": {
          "bdata": "RW0AALYDAADqBgAA4wIAAEwEAAB6AQAAGAkAANZCAAD3EQAAmgMAAGIBAACADAAAjCIAACc9AAD/CwAACQEAAAwJAADTOAAAFRwAAEYBAABYgwAAjxsAAKIHAAA3RgAA+QEAAI8EAADaJQAAUA4AANEJAABAGAAAWAEAAKUGAAAzBwAAbAQAANygAABXBwAAYQMAACQmAAByAAAA9wYAALHnBgABCQAA/QEAAGoDAABoBAAACgAAAMgRAACQCgAA",
          "dtype": "i4"
         },
         "xaxis": "x",
         "y": {
          "bdata": "iwQpACMAAgA1AAEAFgCHATsASwAHADYA0ABgADMAAAAiAOQAMQAIAKgALQAaAB0BDABIAFsAYwB8AJwACgALAAgARQBcAwUADgDCAAAAQgCbGy4AFQASAAIAAQCMACQA",
          "dtype": "i2"
         },
         "yaxis": "y"
        },
        {
         "hovertemplate": "WHO Region=Americas<br>Confirmed=%{x}<br>Deaths=%{y}<extra></extra>",
         "legendgroup": "Americas",
         "marker": {
          "color": "#ab63fa",
          "symbol": "circle"
         },
         "mode": "markers",
         "name": "Americas",
         "orientation": "v",
         "showlegend": true,
         "type": "scatter",
         "x": {
          "bdata": "VgAAAPiNAgB+AQAAbgAAADAAAAANFgEAh0QlAOrGAQATTwUATewDAOE9AADkCQAAEgAAAJz6AAAJPQEAuzoAABcAAAD9sAAAhQEAAKwcAAA9mwAAVQMAAOEIBgBvDQAAAvAAAMQRAABV8gUAEQAAABgAAAA0AAAAywUAAJQAAADTdkEAsgQAAHQ+AAA=",
          "dtype": "i4"
         },
         "xaxis": "x",
         "y": {
          "bdata": "AwAAAPMLAAALAAAABwAAAAIAAABXCgAAQlYBAPAiAADjIwAASSIAAHMAAABXAAAAAAAAADsEAACcFQAAmAEAAAAAAADhBgAAFAAAAJ4AAACOBAAACgAAAParAABsAAAAKgUAACsAAADyRwAAAAAAAAAAAAAAAAAAGAAAAAgAAAArQgIAIwAAAJIAAAA=",
          "dtype": "i4"
         },
         "yaxis": "y"
        },
        {
         "hovertemplate": "WHO Region=Western Pacific<br>Confirmed=%{x}<br>Deaths=%{y}<extra></extra>",
         "legendgroup": "Western Pacific",
         "marker": {
          "color": "#FFA15A",
          "symbol": "circle"
         },
         "mode": "markers",
         "name": "Western Pacific",
         "orientation": "v",
         "showlegend": true,
         "type": "scatter",
         "x": {
          "bdata": "xzsAAI0AAADiAAAA/1IBABsAAACmeQAAFAAAAMgiAAAhAQAAFQYAAD4AAAB4QAEAlsYAAHs3AADOAQAArwEAAA==",
          "dtype": "i4"
         },
         "xaxis": "x",
         "y": {
          "bdata": "pwADAAAAMBIAAOYDAAB8AAAAFgAAAJkHGwAsAQcAAAA=",
          "dtype": "i2"
         },
         "yaxis": "y"
        },
        {
         "hovertemplate": "WHO Region=South-East Asia<br>Confirmed=%{x}<br>Deaths=%{y}<extra></extra>",
         "legendgroup": "South-East Asia",
         "marker": {
          "color": "#19d3f3",
          "symbol": "circle"
         },
         "mode": "markers",
         "name": "South-East Asia",
         "orientation": "v",
         "showlegend": true,
         "type": "scatter",
         "x": {
          "bdata": "sXMDAGMAAABeAQAAiZUWAM+HAQApDQAAQEkAAPUKAADhDAAAGAAAAA==",
          "dtype": "i4"
         },
         "xaxis": "x",
         "y": {
          "bdata": "lQsAAAAAAAAGAAAAgIIAAOYSAAAPAAAAMAAAAAsAAAA6AAAAAAAAAA==",
          "dtype": "i4"
         },
         "yaxis": "y"
        }
       ],
       "layout": {
        "legend": {
         "title": {
          "text": "WHO Region"
         },
         "tracegroupgap": 0
        },
        "template": {
         "data": {
          "bar": [
           {
            "error_x": {
             "color": "#2a3f5f"
            },
            "error_y": {
             "color": "#2a3f5f"
            },
            "marker": {
             "line": {
              "color": "#E5ECF6",
              "width": 0.5
             },
             "pattern": {
              "fillmode": "overlay",
              "size": 10,
              "solidity": 0.2
             }
            },
            "type": "bar"
           }
          ],
          "barpolar": [
           {
            "marker": {
             "line": {
              "color": "#E5ECF6",
              "width": 0.5
             },
             "pattern": {
              "fillmode": "overlay",
              "size": 10,
              "solidity": 0.2
             }
            },
            "type": "barpolar"
           }
          ],
          "carpet": [
           {
            "aaxis": {
             "endlinecolor": "#2a3f5f",
             "gridcolor": "white",
             "linecolor": "white",
             "minorgridcolor": "white",
             "startlinecolor": "#2a3f5f"
            },
            "baxis": {
             "endlinecolor": "#2a3f5f",
             "gridcolor": "white",
             "linecolor": "white",
             "minorgridcolor": "white",
             "startlinecolor": "#2a3f5f"
            },
            "type": "carpet"
           }
          ],
          "choropleth": [
           {
            "colorbar": {
             "outlinewidth": 0,
             "ticks": ""
            },
            "type": "choropleth"
           }
          ],
          "contour": [
           {
            "colorbar": {
             "outlinewidth": 0,
             "ticks": ""
            },
            "colorscale": [
             [
              0,
              "#0d0887"
             ],
             [
              0.1111111111111111,
              "#46039f"
             ],
             [
              0.2222222222222222,
              "#7201a8"
             ],
             [
              0.3333333333333333,
              "#9c179e"
             ],
             [
              0.4444444444444444,
              "#bd3786"
             ],
             [
              0.5555555555555556,
              "#d8576b"
             ],
             [
              0.6666666666666666,
              "#ed7953"
             ],
             [
              0.7777777777777778,
              "#fb9f3a"
             ],
             [
              0.8888888888888888,
              "#fdca26"
             ],
             [
              1,
              "#f0f921"
             ]
            ],
            "type": "contour"
           }
          ],
          "contourcarpet": [
           {
            "colorbar": {
             "outlinewidth": 0,
             "ticks": ""
            },
            "type": "contourcarpet"
           }
          ],
          "heatmap": [
           {
            "colorbar": {
             "outlinewidth": 0,
             "ticks": ""
            },
            "colorscale": [
             [
              0,
              "#0d0887"
             ],
             [
              0.1111111111111111,
              "#46039f"
             ],
             [
              0.2222222222222222,
              "#7201a8"
             ],
             [
              0.3333333333333333,
              "#9c179e"
             ],
             [
              0.4444444444444444,
              "#bd3786"
             ],
             [
              0.5555555555555556,
              "#d8576b"
             ],
             [
              0.6666666666666666,
              "#ed7953"
             ],
             [
              0.7777777777777778,
              "#fb9f3a"
             ],
             [
              0.8888888888888888,
              "#fdca26"
             ],
             [
              1,
              "#f0f921"
             ]
            ],
            "type": "heatmap"
           }
          ],
          "histogram": [
           {
            "marker": {
             "pattern": {
              "fillmode": "overlay",
              "size": 10,
              "solidity": 0.2
             }
            },
            "type": "histogram"
           }
          ],
          "histogram2d": [
           {
            "colorbar": {
             "outlinewidth": 0,
             "ticks": ""
            },
            "colorscale": [
             [
              0,
              "#0d0887"
             ],
             [
              0.1111111111111111,
              "#46039f"
             ],
             [
              0.2222222222222222,
              "#7201a8"
             ],
             [
              0.3333333333333333,
              "#9c179e"
             ],
             [
              0.4444444444444444,
              "#bd3786"
             ],
             [
              0.5555555555555556,
              "#d8576b"
             ],
             [
              0.6666666666666666,
              "#ed7953"
             ],
             [
              0.7777777777777778,
              "#fb9f3a"
             ],
             [
              0.8888888888888888,
              "#fdca26"
             ],
             [
              1,
              "#f0f921"
             ]
            ],
            "type": "histogram2d"
           }
          ],
          "histogram2dcontour": [
           {
            "colorbar": {
             "outlinewidth": 0,
             "ticks": ""
            },
            "colorscale": [
             [
              0,
              "#0d0887"
             ],
             [
              0.1111111111111111,
              "#46039f"
             ],
             [
              0.2222222222222222,
              "#7201a8"
             ],
             [
              0.3333333333333333,
              "#9c179e"
             ],
             [
              0.4444444444444444,
              "#bd3786"
             ],
             [
              0.5555555555555556,
              "#d8576b"
             ],
             [
              0.6666666666666666,
              "#ed7953"
             ],
             [
              0.7777777777777778,
              "#fb9f3a"
             ],
             [
              0.8888888888888888,
              "#fdca26"
             ],
             [
              1,
              "#f0f921"
             ]
            ],
            "type": "histogram2dcontour"
           }
          ],
          "mesh3d": [
           {
            "colorbar": {
             "outlinewidth": 0,
             "ticks": ""
            },
            "type": "mesh3d"
           }
          ],
          "parcoords": [
           {
            "line": {
             "colorbar": {
              "outlinewidth": 0,
              "ticks": ""
             }
            },
            "type": "parcoords"
           }
          ],
          "pie": [
           {
            "automargin": true,
            "type": "pie"
           }
          ],
          "scatter": [
           {
            "fillpattern": {
             "fillmode": "overlay",
             "size": 10,
             "solidity": 0.2
            },
            "type": "scatter"
           }
          ],
          "scatter3d": [
           {
            "line": {
             "colorbar": {
              "outlinewidth": 0,
              "ticks": ""
             }
            },
            "marker": {
             "colorbar": {
              "outlinewidth": 0,
              "ticks": ""
             }
            },
            "type": "scatter3d"
           }
          ],
          "scattercarpet": [
           {
            "marker": {
             "colorbar": {
              "outlinewidth": 0,
              "ticks": ""
             }
            },
            "type": "scattercarpet"
           }
          ],
          "scattergeo": [
           {
            "marker": {
             "colorbar": {
              "outlinewidth": 0,
              "ticks": ""
             }
            },
            "type": "scattergeo"
           }
          ],
          "scattergl": [
           {
            "marker": {
             "colorbar": {
              "outlinewidth": 0,
              "ticks": ""
             }
            },
            "type": "scattergl"
           }
          ],
          "scattermap": [
           {
            "marker": {
             "colorbar": {
              "outlinewidth": 0,
              "ticks": ""
             }
            },
            "type": "scattermap"
           }
          ],
          "scattermapbox": [
           {
            "marker": {
             "colorbar": {
              "outlinewidth": 0,
              "ticks": ""
             }
            },
            "type": "scattermapbox"
           }
          ],
          "scatterpolar": [
           {
            "marker": {
             "colorbar": {
              "outlinewidth": 0,
              "ticks": ""
             }
            },
            "type": "scatterpolar"
           }
          ],
          "scatterpolargl": [
           {
            "marker": {
             "colorbar": {
              "outlinewidth": 0,
              "ticks": ""
             }
            },
            "type": "scatterpolargl"
           }
          ],
          "scatterternary": [
           {
            "marker": {
             "colorbar": {
              "outlinewidth": 0,
              "ticks": ""
             }
            },
            "type": "scatterternary"
           }
          ],
          "surface": [
           {
            "colorbar": {
             "outlinewidth": 0,
             "ticks": ""
            },
            "colorscale": [
             [
              0,
              "#0d0887"
             ],
             [
              0.1111111111111111,
              "#46039f"
             ],
             [
              0.2222222222222222,
              "#7201a8"
             ],
             [
              0.3333333333333333,
              "#9c179e"
             ],
             [
              0.4444444444444444,
              "#bd3786"
             ],
             [
              0.5555555555555556,
              "#d8576b"
             ],
             [
              0.6666666666666666,
              "#ed7953"
             ],
             [
              0.7777777777777778,
              "#fb9f3a"
             ],
             [
              0.8888888888888888,
              "#fdca26"
             ],
             [
              1,
              "#f0f921"
             ]
            ],
            "type": "surface"
           }
          ],
          "table": [
           {
            "cells": {
             "fill": {
              "color": "#EBF0F8"
             },
             "line": {
              "color": "white"
             }
            },
            "header": {
             "fill": {
              "color": "#C8D4E3"
             },
             "line": {
              "color": "white"
             }
            },
            "type": "table"
           }
          ]
         },
         "layout": {
          "annotationdefaults": {
           "arrowcolor": "#2a3f5f",
           "arrowhead": 0,
           "arrowwidth": 1
          },
          "autotypenumbers": "strict",
          "coloraxis": {
           "colorbar": {
            "outlinewidth": 0,
            "ticks": ""
           }
          },
          "colorscale": {
           "diverging": [
            [
             0,
             "#8e0152"
            ],
            [
             0.1,
             "#c51b7d"
            ],
            [
             0.2,
             "#de77ae"
            ],
            [
             0.3,
             "#f1b6da"
            ],
            [
             0.4,
             "#fde0ef"
            ],
            [
             0.5,
             "#f7f7f7"
            ],
            [
             0.6,
             "#e6f5d0"
            ],
            [
             0.7,
             "#b8e186"
            ],
            [
             0.8,
             "#7fbc41"
            ],
            [
             0.9,
             "#4d9221"
            ],
            [
             1,
             "#276419"
            ]
           ],
           "sequential": [
            [
             0,
             "#0d0887"
            ],
            [
             0.1111111111111111,
             "#46039f"
            ],
            [
             0.2222222222222222,
             "#7201a8"
            ],
            [
             0.3333333333333333,
             "#9c179e"
            ],
            [
             0.4444444444444444,
             "#bd3786"
            ],
            [
             0.5555555555555556,
             "#d8576b"
            ],
            [
             0.6666666666666666,
             "#ed7953"
            ],
            [
             0.7777777777777778,
             "#fb9f3a"
            ],
            [
             0.8888888888888888,
             "#fdca26"
            ],
            [
             1,
             "#f0f921"
            ]
           ],
           "sequentialminus": [
            [
             0,
             "#0d0887"
            ],
            [
             0.1111111111111111,
             "#46039f"
            ],
            [
             0.2222222222222222,
             "#7201a8"
            ],
            [
             0.3333333333333333,
             "#9c179e"
            ],
            [
             0.4444444444444444,
             "#bd3786"
            ],
            [
             0.5555555555555556,
             "#d8576b"
            ],
            [
             0.6666666666666666,
             "#ed7953"
            ],
            [
             0.7777777777777778,
             "#fb9f3a"
            ],
            [
             0.8888888888888888,
             "#fdca26"
            ],
            [
             1,
             "#f0f921"
            ]
           ]
          },
          "colorway": [
           "#636efa",
           "#EF553B",
           "#00cc96",
           "#ab63fa",
           "#FFA15A",
           "#19d3f3",
           "#FF6692",
           "#B6E880",
           "#FF97FF",
           "#FECB52"
          ],
          "font": {
           "color": "#2a3f5f"
          },
          "geo": {
           "bgcolor": "white",
           "lakecolor": "white",
           "landcolor": "#E5ECF6",
           "showlakes": true,
           "showland": true,
           "subunitcolor": "white"
          },
          "hoverlabel": {
           "align": "left"
          },
          "hovermode": "closest",
          "mapbox": {
           "style": "light"
          },
          "paper_bgcolor": "white",
          "plot_bgcolor": "#E5ECF6",
          "polar": {
           "angularaxis": {
            "gridcolor": "white",
            "linecolor": "white",
            "ticks": ""
           },
           "bgcolor": "#E5ECF6",
           "radialaxis": {
            "gridcolor": "white",
            "linecolor": "white",
            "ticks": ""
           }
          },
          "scene": {
           "xaxis": {
            "backgroundcolor": "#E5ECF6",
            "gridcolor": "white",
            "gridwidth": 2,
            "linecolor": "white",
            "showbackground": true,
            "ticks": "",
            "zerolinecolor": "white"
           },
           "yaxis": {
            "backgroundcolor": "#E5ECF6",
            "gridcolor": "white",
            "gridwidth": 2,
            "linecolor": "white",
            "showbackground": true,
            "ticks": "",
            "zerolinecolor": "white"
           },
           "zaxis": {
            "backgroundcolor": "#E5ECF6",
            "gridcolor": "white",
            "gridwidth": 2,
            "linecolor": "white",
            "showbackground": true,
            "ticks": "",
            "zerolinecolor": "white"
           }
          },
          "shapedefaults": {
           "line": {
            "color": "#2a3f5f"
           }
          },
          "ternary": {
           "aaxis": {
            "gridcolor": "white",
            "linecolor": "white",
            "ticks": ""
           },
           "baxis": {
            "gridcolor": "white",
            "linecolor": "white",
            "ticks": ""
           },
           "bgcolor": "#E5ECF6",
           "caxis": {
            "gridcolor": "white",
            "linecolor": "white",
            "ticks": ""
           }
          },
          "title": {
           "x": 0.05
          },
          "xaxis": {
           "automargin": true,
           "gridcolor": "white",
           "linecolor": "white",
           "ticks": "",
           "title": {
            "standoff": 15
           },
           "zerolinecolor": "white",
           "zerolinewidth": 2
          },
          "yaxis": {
           "automargin": true,
           "gridcolor": "white",
           "linecolor": "white",
           "ticks": "",
           "title": {
            "standoff": 15
           },
           "zerolinecolor": "white",
           "zerolinewidth": 2
          }
         }
        },
        "title": {
         "text": "Confirmed Cases vs Deaths"
        },
        "xaxis": {
         "anchor": "y",
         "domain": [
          0,
          1
         ],
         "title": {
          "text": "Confirmed"
         }
        },
        "yaxis": {
         "anchor": "x",
         "domain": [
          0,
          1
         ],
         "title": {
          "text": "Deaths"
         }
        }
       }
      }
     },
     "metadata": {},
     "output_type": "display_data"
    },
    {
     "data": {
      "application/vnd.plotly.v1+json": {
       "config": {
        "plotlyServerURL": "https://plot.ly"
       },
       "data": [
        {
         "bingroup": "x",
         "hovertemplate": "Recovered / 100 Cases=%{x}<br>count=%{y}<extra></extra>",
         "legendgroup": "",
         "marker": {
          "color": "#636efa",
          "pattern": {
           "shape": ""
          }
         },
         "name": "",
         "nbinsx": 30,
         "orientation": "v",
         "showlegend": false,
         "type": "histogram",
         "x": {
          "bdata": "j8L1KFxfUUAAAAAAACBMQPYoXI/C1VBAUrgeheshVkC4HoXrUXg5QIXrUbge5VJAzczMzMysRUAUrkfhetRRQOxRuB6Fa05AAAAAAAAwVkD2KFyPwhVTQFK4HoXr0TdAPQrXo3DdVkBI4XoUrsdLQM3MzMzMXFVAzczMzMx8VkCF61G4HkU6QPYoXI/CFUtApHA9CtdDTUBI4XoUrrdVQOxRuB6FKz5AexSuR+F6R0CPwvUoXA8hQNejcD0K51JASOF6FK53WEAK16NwPUpKQOxRuB6FC1VA7FG4HoXbVEC4HoXrUehTQIXrUbgepVBAw/UoXI9CUECuR+F6FD5VQAAAAAAAAAAAj8L1KFzPQEBmZmZmZvZVQD0K16Nw/VZAuB6F61G4VkDD9Shcj4JJQArXo3A9KldAKVyPwvXoOUDNzMzMzBxQQKRwPQrXIzhA7FG4HoWLUEApXI/C9ShUQGZmZmZmNldAuB6F61EYVECamZmZmWlSQGZmZmZm5lZAuB6F61GYWEAAAAAAAABZQArXo3A9ikdAAAAAAACARUD2KFyPwtVCQD0K16Nw3UlA7FG4HoVrO0CF61G4HgVSQMP1KFyPoldA4XoUrkchRkAzMzMzM/NFQHsUrkfhqlBAw/UoXI9iV0CuR+F6FG5CQLgehetRSFBAAAAAAABANED2KFyPwkVUQClcj8L1+FZAuB6F61EoVkDhehSuR0FAQNejcD0KN1dAAAAAAAAAWUC4HoXrUehRQFyPwvUoLFZAzczMzMyMRECkcD0K10NHQFyPwvUovE1AAAAAAAAAWUBcj8L1KFwpQPYoXI/CtVJAhetRuB6VWEBxPQrXoxBQQAAAAAAAAE1AmpmZmZm5VUDhehSuRyFRQI/C9Shcj1ZAFK5H4Xo0RUApXI/C9ShUQM3MzMzM7FRAMzMzMzOjUUDhehSuRyFWQOF6FK5HEVBACtejcD3KRUApXI/C9ShLQOF6FK5HYVVAuB6F61HYT0AAAAAAAMBXQB+F61G4blVAw/UoXI8CRkCamZmZmVk5QK5H4XoUrktAKVyPwvVoNEBcj8L1KIxXQI/C9ShcD1RAhetRuB4VU0BmZmZmZiZQQDMzMzMzc0ZAZmZmZmYmWEBmZmZmZuZSQEjhehSuB1NA16NwPQq3V0DNzMzMzLxSQHE9CtejIFhAFK5H4Xo0U0DhehSuR3FRQArXo3A9alZAFK5H4Xo0U0D2KFyPwvU7QAAAAAAA0FNAAAAAAAAAAADsUbgehesVQGZmZmZmVlJAZmZmZmZm1j+PwvUoXE9YQD0K16NwHVJArkfhehSuVkCamZmZmRlGQD0K16NwPUtA9ihcj8L1V0BxPQrXo4BSQEjhehSu91VAzczMzMyMTEA9CtejcL0xQI/C9Shc709A7FG4HoV7UUAfhetRuB5AQM3MzMzM7FJAhetRuB6VUUDhehSuR0FYQLgehetRGExAj8L1KFxvUkBSuB6F6/FJQI/C9ShcD1ZAexSuR+HqVkAAAAAAAMBSQI/C9Shcf1dA16NwPQo3VUCamZmZmblUQPYoXI/ClVBAAAAAAAAAAAB7FK5H4RpBQNejcD0Kd1JAuB6F61F4VkD2KFyPwoVSQMP1KFyPwlRApHA9CtcjSEAAAAAAAGBOQIXrUbge5VZAPQrXo3B9SUCamZmZmZlLQNejcD0K51JAH4XrUbj+SUCPwvUoXC9PQAAAAAAAAAAASOF6FK5nVkAAAAAAAAAAAI/C9Shcz1dAFK5H4XrUVECamZmZmflBQNejcD0Kl1dAAAAAAAAAAADNzMzMzFxRQI/C9Shcn1VA4XoUrkfhU0A9CtejcC1XQGZmZmZm5j5ACtejcD3aVUCamZmZmblLQB+F61G4LlZAuB6F61G43j9I4XoUrsdTQIXrUbgehUtAhetRuB4lT0Bcj8L1KCxVQArXo3A9qkFAAAAAAAAAVEDhehSuR6FIQOxRuB6F605ACtejcD0KNEA=",
          "dtype": "f8"
         },
         "xaxis": "x",
         "yaxis": "y"
        }
       ],
       "layout": {
        "barmode": "relative",
        "legend": {
         "tracegroupgap": 0
        },
        "template": {
         "data": {
          "bar": [
           {
            "error_x": {
             "color": "#2a3f5f"
            },
            "error_y": {
             "color": "#2a3f5f"
            },
            "marker": {
             "line": {
              "color": "#E5ECF6",
              "width": 0.5
             },
             "pattern": {
              "fillmode": "overlay",
              "size": 10,
              "solidity": 0.2
             }
            },
            "type": "bar"
           }
          ],
          "barpolar": [
           {
            "marker": {
             "line": {
              "color": "#E5ECF6",
              "width": 0.5
             },
             "pattern": {
              "fillmode": "overlay",
              "size": 10,
              "solidity": 0.2
             }
            },
            "type": "barpolar"
           }
          ],
          "carpet": [
           {
            "aaxis": {
             "endlinecolor": "#2a3f5f",
             "gridcolor": "white",
             "linecolor": "white",
             "minorgridcolor": "white",
             "startlinecolor": "#2a3f5f"
            },
            "baxis": {
             "endlinecolor": "#2a3f5f",
             "gridcolor": "white",
             "linecolor": "white",
             "minorgridcolor": "white",
             "startlinecolor": "#2a3f5f"
            },
            "type": "carpet"
           }
          ],
          "choropleth": [
           {
            "colorbar": {
             "outlinewidth": 0,
             "ticks": ""
            },
            "type": "choropleth"
           }
          ],
          "contour": [
           {
            "colorbar": {
             "outlinewidth": 0,
             "ticks": ""
            },
            "colorscale": [
             [
              0,
              "#0d0887"
             ],
             [
              0.1111111111111111,
              "#46039f"
             ],
             [
              0.2222222222222222,
              "#7201a8"
             ],
             [
              0.3333333333333333,
              "#9c179e"
             ],
             [
              0.4444444444444444,
              "#bd3786"
             ],
             [
              0.5555555555555556,
              "#d8576b"
             ],
             [
              0.6666666666666666,
              "#ed7953"
             ],
             [
              0.7777777777777778,
              "#fb9f3a"
             ],
             [
              0.8888888888888888,
              "#fdca26"
             ],
             [
              1,
              "#f0f921"
             ]
            ],
            "type": "contour"
           }
          ],
          "contourcarpet": [
           {
            "colorbar": {
             "outlinewidth": 0,
             "ticks": ""
            },
            "type": "contourcarpet"
           }
          ],
          "heatmap": [
           {
            "colorbar": {
             "outlinewidth": 0,
             "ticks": ""
            },
            "colorscale": [
             [
              0,
              "#0d0887"
             ],
             [
              0.1111111111111111,
              "#46039f"
             ],
             [
              0.2222222222222222,
              "#7201a8"
             ],
             [
              0.3333333333333333,
              "#9c179e"
             ],
             [
              0.4444444444444444,
              "#bd3786"
             ],
             [
              0.5555555555555556,
              "#d8576b"
             ],
             [
              0.6666666666666666,
              "#ed7953"
             ],
             [
              0.7777777777777778,
              "#fb9f3a"
             ],
             [
              0.8888888888888888,
              "#fdca26"
             ],
             [
              1,
              "#f0f921"
             ]
            ],
            "type": "heatmap"
           }
          ],
          "histogram": [
           {
            "marker": {
             "pattern": {
              "fillmode": "overlay",
              "size": 10,
              "solidity": 0.2
             }
            },
            "type": "histogram"
           }
          ],
          "histogram2d": [
           {
            "colorbar": {
             "outlinewidth": 0,
             "ticks": ""
            },
            "colorscale": [
             [
              0,
              "#0d0887"
             ],
             [
              0.1111111111111111,
              "#46039f"
             ],
             [
              0.2222222222222222,
              "#7201a8"
             ],
             [
              0.3333333333333333,
              "#9c179e"
             ],
             [
              0.4444444444444444,
              "#bd3786"
             ],
             [
              0.5555555555555556,
              "#d8576b"
             ],
             [
              0.6666666666666666,
              "#ed7953"
             ],
             [
              0.7777777777777778,
              "#fb9f3a"
             ],
             [
              0.8888888888888888,
              "#fdca26"
             ],
             [
              1,
              "#f0f921"
             ]
            ],
            "type": "histogram2d"
           }
          ],
          "histogram2dcontour": [
           {
            "colorbar": {
             "outlinewidth": 0,
             "ticks": ""
            },
            "colorscale": [
             [
              0,
              "#0d0887"
             ],
             [
              0.1111111111111111,
              "#46039f"
             ],
             [
              0.2222222222222222,
              "#7201a8"
             ],
             [
              0.3333333333333333,
              "#9c179e"
             ],
             [
              0.4444444444444444,
              "#bd3786"
             ],
             [
              0.5555555555555556,
              "#d8576b"
             ],
             [
              0.6666666666666666,
              "#ed7953"
             ],
             [
              0.7777777777777778,
              "#fb9f3a"
             ],
             [
              0.8888888888888888,
              "#fdca26"
             ],
             [
              1,
              "#f0f921"
             ]
            ],
            "type": "histogram2dcontour"
           }
          ],
          "mesh3d": [
           {
            "colorbar": {
             "outlinewidth": 0,
             "ticks": ""
            },
            "type": "mesh3d"
           }
          ],
          "parcoords": [
           {
            "line": {
             "colorbar": {
              "outlinewidth": 0,
              "ticks": ""
             }
            },
            "type": "parcoords"
           }
          ],
          "pie": [
           {
            "automargin": true,
            "type": "pie"
           }
          ],
          "scatter": [
           {
            "fillpattern": {
             "fillmode": "overlay",
             "size": 10,
             "solidity": 0.2
            },
            "type": "scatter"
           }
          ],
          "scatter3d": [
           {
            "line": {
             "colorbar": {
              "outlinewidth": 0,
              "ticks": ""
             }
            },
            "marker": {
             "colorbar": {
              "outlinewidth": 0,
              "ticks": ""
             }
            },
            "type": "scatter3d"
           }
          ],
          "scattercarpet": [
           {
            "marker": {
             "colorbar": {
              "outlinewidth": 0,
              "ticks": ""
             }
            },
            "type": "scattercarpet"
           }
          ],
          "scattergeo": [
           {
            "marker": {
             "colorbar": {
              "outlinewidth": 0,
              "ticks": ""
             }
            },
            "type": "scattergeo"
           }
          ],
          "scattergl": [
           {
            "marker": {
             "colorbar": {
              "outlinewidth": 0,
              "ticks": ""
             }
            },
            "type": "scattergl"
           }
          ],
          "scattermap": [
           {
            "marker": {
             "colorbar": {
              "outlinewidth": 0,
              "ticks": ""
             }
            },
            "type": "scattermap"
           }
          ],
          "scattermapbox": [
           {
            "marker": {
             "colorbar": {
              "outlinewidth": 0,
              "ticks": ""
             }
            },
            "type": "scattermapbox"
           }
          ],
          "scatterpolar": [
           {
            "marker": {
             "colorbar": {
              "outlinewidth": 0,
              "ticks": ""
             }
            },
            "type": "scatterpolar"
           }
          ],
          "scatterpolargl": [
           {
            "marker": {
             "colorbar": {
              "outlinewidth": 0,
              "ticks": ""
             }
            },
            "type": "scatterpolargl"
           }
          ],
          "scatterternary": [
           {
            "marker": {
             "colorbar": {
              "outlinewidth": 0,
              "ticks": ""
             }
            },
            "type": "scatterternary"
           }
          ],
          "surface": [
           {
            "colorbar": {
             "outlinewidth": 0,
             "ticks": ""
            },
            "colorscale": [
             [
              0,
              "#0d0887"
             ],
             [
              0.1111111111111111,
              "#46039f"
             ],
             [
              0.2222222222222222,
              "#7201a8"
             ],
             [
              0.3333333333333333,
              "#9c179e"
             ],
             [
              0.4444444444444444,
              "#bd3786"
             ],
             [
              0.5555555555555556,
              "#d8576b"
             ],
             [
              0.6666666666666666,
              "#ed7953"
             ],
             [
              0.7777777777777778,
              "#fb9f3a"
             ],
             [
              0.8888888888888888,
              "#fdca26"
             ],
             [
              1,
              "#f0f921"
             ]
            ],
            "type": "surface"
           }
          ],
          "table": [
           {
            "cells": {
             "fill": {
              "color": "#EBF0F8"
             },
             "line": {
              "color": "white"
             }
            },
            "header": {
             "fill": {
              "color": "#C8D4E3"
             },
             "line": {
              "color": "white"
             }
            },
            "type": "table"
           }
          ]
         },
         "layout": {
          "annotationdefaults": {
           "arrowcolor": "#2a3f5f",
           "arrowhead": 0,
           "arrowwidth": 1
          },
          "autotypenumbers": "strict",
          "coloraxis": {
           "colorbar": {
            "outlinewidth": 0,
            "ticks": ""
           }
          },
          "colorscale": {
           "diverging": [
            [
             0,
             "#8e0152"
            ],
            [
             0.1,
             "#c51b7d"
            ],
            [
             0.2,
             "#de77ae"
            ],
            [
             0.3,
             "#f1b6da"
            ],
            [
             0.4,
             "#fde0ef"
            ],
            [
             0.5,
             "#f7f7f7"
            ],
            [
             0.6,
             "#e6f5d0"
            ],
            [
             0.7,
             "#b8e186"
            ],
            [
             0.8,
             "#7fbc41"
            ],
            [
             0.9,
             "#4d9221"
            ],
            [
             1,
             "#276419"
            ]
           ],
           "sequential": [
            [
             0,
             "#0d0887"
            ],
            [
             0.1111111111111111,
             "#46039f"
            ],
            [
             0.2222222222222222,
             "#7201a8"
            ],
            [
             0.3333333333333333,
             "#9c179e"
            ],
            [
             0.4444444444444444,
             "#bd3786"
            ],
            [
             0.5555555555555556,
             "#d8576b"
            ],
            [
             0.6666666666666666,
             "#ed7953"
            ],
            [
             0.7777777777777778,
             "#fb9f3a"
            ],
            [
             0.8888888888888888,
             "#fdca26"
            ],
            [
             1,
             "#f0f921"
            ]
           ],
           "sequentialminus": [
            [
             0,
             "#0d0887"
            ],
            [
             0.1111111111111111,
             "#46039f"
            ],
            [
             0.2222222222222222,
             "#7201a8"
            ],
            [
             0.3333333333333333,
             "#9c179e"
            ],
            [
             0.4444444444444444,
             "#bd3786"
            ],
            [
             0.5555555555555556,
             "#d8576b"
            ],
            [
             0.6666666666666666,
             "#ed7953"
            ],
            [
             0.7777777777777778,
             "#fb9f3a"
            ],
            [
             0.8888888888888888,
             "#fdca26"
            ],
            [
             1,
             "#f0f921"
            ]
           ]
          },
          "colorway": [
           "#636efa",
           "#EF553B",
           "#00cc96",
           "#ab63fa",
           "#FFA15A",
           "#19d3f3",
           "#FF6692",
           "#B6E880",
           "#FF97FF",
           "#FECB52"
          ],
          "font": {
           "color": "#2a3f5f"
          },
          "geo": {
           "bgcolor": "white",
           "lakecolor": "white",
           "landcolor": "#E5ECF6",
           "showlakes": true,
           "showland": true,
           "subunitcolor": "white"
          },
          "hoverlabel": {
           "align": "left"
          },
          "hovermode": "closest",
          "mapbox": {
           "style": "light"
          },
          "paper_bgcolor": "white",
          "plot_bgcolor": "#E5ECF6",
          "polar": {
           "angularaxis": {
            "gridcolor": "white",
            "linecolor": "white",
            "ticks": ""
           },
           "bgcolor": "#E5ECF6",
           "radialaxis": {
            "gridcolor": "white",
            "linecolor": "white",
            "ticks": ""
           }
          },
          "scene": {
           "xaxis": {
            "backgroundcolor": "#E5ECF6",
            "gridcolor": "white",
            "gridwidth": 2,
            "linecolor": "white",
            "showbackground": true,
            "ticks": "",
            "zerolinecolor": "white"
           },
           "yaxis": {
            "backgroundcolor": "#E5ECF6",
            "gridcolor": "white",
            "gridwidth": 2,
            "linecolor": "white",
            "showbackground": true,
            "ticks": "",
            "zerolinecolor": "white"
           },
           "zaxis": {
            "backgroundcolor": "#E5ECF6",
            "gridcolor": "white",
            "gridwidth": 2,
            "linecolor": "white",
            "showbackground": true,
            "ticks": "",
            "zerolinecolor": "white"
           }
          },
          "shapedefaults": {
           "line": {
            "color": "#2a3f5f"
           }
          },
          "ternary": {
           "aaxis": {
            "gridcolor": "white",
            "linecolor": "white",
            "ticks": ""
           },
           "baxis": {
            "gridcolor": "white",
            "linecolor": "white",
            "ticks": ""
           },
           "bgcolor": "#E5ECF6",
           "caxis": {
            "gridcolor": "white",
            "linecolor": "white",
            "ticks": ""
           }
          },
          "title": {
           "x": 0.05
          },
          "xaxis": {
           "automargin": true,
           "gridcolor": "white",
           "linecolor": "white",
           "ticks": "",
           "title": {
            "standoff": 15
           },
           "zerolinecolor": "white",
           "zerolinewidth": 2
          },
          "yaxis": {
           "automargin": true,
           "gridcolor": "white",
           "linecolor": "white",
           "ticks": "",
           "title": {
            "standoff": 15
           },
           "zerolinecolor": "white",
           "zerolinewidth": 2
          }
         }
        },
        "title": {
         "text": "Recovery Rate Distribution across Countries"
        },
        "xaxis": {
         "anchor": "y",
         "domain": [
          0,
          1
         ],
         "title": {
          "text": "Recovered / 100 Cases"
         }
        },
        "yaxis": {
         "anchor": "x",
         "domain": [
          0,
          1
         ],
         "title": {
          "text": "count"
         }
        }
       }
      }
     },
     "metadata": {},
     "output_type": "display_data"
    },
    {
     "data": {
      "application/vnd.plotly.v1+json": {
       "config": {
        "plotlyServerURL": "https://plot.ly"
       },
       "data": [
        {
         "alignmentgroup": "True",
         "hovertemplate": "WHO Region=%{x}<br>Deaths / 100 Cases=%{y}<extra></extra>",
         "legendgroup": "",
         "marker": {
          "color": "#636efa"
         },
         "name": "",
         "notched": false,
         "offsetgroup": "",
         "orientation": "v",
         "showlegend": false,
         "type": "box",
         "x": [
          "Eastern Mediterranean",
          "Europe",
          "Africa",
          "Europe",
          "Africa",
          "Americas",
          "Americas",
          "Europe",
          "Western Pacific",
          "Europe",
          "Europe",
          "Americas",
          "Eastern Mediterranean",
          "South-East Asia",
          "Americas",
          "Europe",
          "Europe",
          "Americas",
          "Africa",
          "South-East Asia",
          "Americas",
          "Europe",
          "Africa",
          "Americas",
          "Western Pacific",
          "Europe",
          "Africa",
          "South-East Asia",
          "Africa",
          "Africa",
          "Western Pacific",
          "Africa",
          "Americas",
          "Africa",
          "Africa",
          "Americas",
          "Western Pacific",
          "Americas",
          "Africa",
          "Africa",
          "Africa",
          "Americas",
          "Africa",
          "Europe",
          "Americas",
          "Europe",
          "Europe",
          "Europe",
          "Eastern Mediterranean",
          "Americas",
          "Americas",
          "Americas",
          "Eastern Mediterranean",
          "Americas",
          "Africa",
          "Africa",
          "Europe",
          "Africa",
          "Africa",
          "Western Pacific",
          "Europe",
          "Europe",
          "Africa",
          "Africa",
          "Europe",
          "Europe",
          "Africa",
          "Europe",
          "Europe",
          "Americas",
          "Americas",
          "Africa",
          "Africa",
          "Americas",
          "Americas",
          "Europe",
          "Americas",
          "Europe",
          "Europe",
          "South-East Asia",
          "South-East Asia",
          "Eastern Mediterranean",
          "Eastern Mediterranean",
          "Europe",
          "Europe",
          "Europe",
          "Americas",
          "Western Pacific",
          "Eastern Mediterranean",
          "Europe",
          "Africa",
          "Europe",
          "Eastern Mediterranean",
          "Europe",
          "Western Pacific",
          "Europe",
          "Eastern Mediterranean",
          "Africa",
          "Africa",
          "Eastern Mediterranean",
          "Europe",
          "Europe",
          "Europe",
          "Africa",
          "Africa",
          "Western Pacific",
          "South-East Asia",
          "Africa",
          "Europe",
          "Africa",
          "Africa",
          "Americas",
          "Europe",
          "Europe",
          "Western Pacific",
          "Europe",
          "Eastern Mediterranean",
          "Africa",
          "Africa",
          "South-East Asia",
          "Europe",
          "Western Pacific",
          "Americas",
          "Africa",
          "Africa",
          "Europe",
          "Europe",
          "Eastern Mediterranean",
          "Eastern Mediterranean",
          "Americas",
          "Western Pacific",
          "Americas",
          "Americas",
          "Western Pacific",
          "Europe",
          "Europe",
          "Eastern Mediterranean",
          "Europe",
          "Europe",
          "Africa",
          "Americas",
          "Americas",
          "Americas",
          "Europe",
          "Africa",
          "Eastern Mediterranean",
          "Africa",
          "Europe",
          "Africa",
          "Africa",
          "Western Pacific",
          "Europe",
          "Europe",
          "Eastern Mediterranean",
          "Africa",
          "Western Pacific",
          "Africa",
          "Europe",
          "South-East Asia",
          "Eastern Mediterranean",
          "Americas",
          "Europe",
          "Europe",
          "Eastern Mediterranean",
          "Western Pacific",
          "Europe",
          "Africa",
          "South-East Asia",
          "South-East Asia",
          "Africa",
          "Americas",
          "Eastern Mediterranean",
          "Europe",
          "Americas",
          "Africa",
          "Europe",
          "Eastern Mediterranean",
          "Europe",
          "Americas",
          "Europe",
          "Americas",
          "Western Pacific",
          "Eastern Mediterranean",
          "Africa",
          "Eastern Mediterranean",
          "Africa",
          "Africa"
         ],
         "x0": " ",
         "xaxis": "x",
         "y": {
          "bdata": "AAAAAAAADECamZmZmZkHQKRwPQrXoxBA7FG4HoXrFkBI4XoUrkcRQOxRuB6F6wtASOF6FK5H/T9mZmZmZmb+P3E9CtejcPE/w/UoXI/CC0A9CtejcD32PwrXo3A9CgdACtejcD0K1z/2KFyPwvX0P3E9CtejcBlAmpmZmZmZ6T8UrkfhepQtQK5H4XoUrhBArkfhehSu/z8AAAAAAAAAAMP1KFyPwg1AZmZmZmZmBkBI4XoUrkfRP7gehetRuAxACtejcD0KAUApXI/C9SgKQEjhehSuRxNAXI/C9Shc+z+kcD0K16PQP2ZmZmZmZu4/AAAAAAAAAABSuB6F61ECQLgehetRuB5AexSuR+F69D/D9Shcj0IgQB+F61G4HgVAexSuR+F6FUBI4XoUrkcLQK5H4XoUrv8/CtejcD0K+z/NzMzMzMwCQFyPwvUoXOc/hetRuB6F4z/NzMzMzMwGQIXrUbgehQtApHA9Ctej/D8zMzMzMzMDQM3MzMzMzBFAZmZmZmZm8j8AAAAAAAAAAArXo3A9Cvs/SOF6FK5HG0AfhetRuB4UQK5H4XoUrgVAj8L1KFyP+j8AAAAAAAAAAB+F61G4HgtAhetRuB6F9z8fhetRuB75PwAAAAAAAAAAzczMzMzMEUDsUbgehWsrQMP1KFyPwuU/mpmZmZmZA0CPwvUoXI/2P6RwPQrXoxFAAAAAAAAA4D8fhetRuB4TQAAAAAAAAAAAAAAAAAAAAAAfhetRuB4PQHsUrkfheuQ/SOF6FK5H9T+PwvUoXI8UQDMzMzMzMwFAAAAAAAAAAABxPQrXo3AHQM3MzMzMzCpASOF6FK5H4T8UrkfhehQCQEjhehSuRxNArkfhehSuFUCuR+F6FK4PQD0K16NwPRtArkfhehSu5z+F61G4HoUsQLgehetRuPI/mpmZmZmZCUAUrkfhehTuPxSuR+F6FOY/cT0K16Nw+T8AAAAAAAAEQMP1KFyPwuU/SOF6FK5HD0AAAAAAAAAAAFK4HoXrUQRA9ihcj8L19D8K16NwPQoDQK5H4XoUrhhAFK5H4XoUAkCPwvUoXI/yP65H4XoUrg9AUrgehetR/D8UrkfhehTuP5qZmZmZmQVAPQrXo3A99j/NzMzMzMzcP7gehetRuBNAexSuR+F69D8UrkfhehQEQEjhehSuRwdAw/UoXI9CJkDXo3A9CtcJQJqZmZmZmQtAAAAAAAAAAAD2KFyPwvX4Pylcj8L1KPg/zczMzMzM5D+F61G4HoXbP6RwPQrXo9A/j8L1KFwPJ0CPwvUoXI/2Px+F61G4HglAZmZmZmZmGEC4HoXrUbgAQD0K16NwPRJAUrgehetRBkBSuB6F61HgPwrXo3A9CgFAMzMzMzMzAUAAAAAAAAAAAGZmZmZmZu4/7FG4HoXrEkD2KFyPwvUCQOF6FK5H4Q5AXI/C9ShcC0AzMzMzMzPDPz0K16NwPRNAFK5H4XoU+j9I4XoUrkfRPwAAAAAAAAAAAAAAAAAAAAAAAAAAAAAAAArXo3A9ChhA7FG4HoXr+T97FK5H4XrwP9ejcD0K1/8/AAAAAAAAAkAAAAAAAAAAAJqZmZmZmQ1AmpmZmZmZqT97FK5H4Xr0Pz0K16NwPRZASOF6FK5HB0D2KFyPwvX4P+F6FK5H4QBAAAAAAAAAAEDhehSuR+EkQPYoXI/C9dg/MzMzMzMzGUDsUbgehev5P7gehetRuBxA9ihcj8L1FkC4HoXrUbgXQFK4HoXrUfg/j8L1KFyP6j+F61G4HoUQQClcj8L1KPw/AAAAAAAAAAB7FK5H4XoAQKRwPQrXoxVAhetRuB6FC0DXo3A9CtcDQJqZmZmZmQtACtejcD0Kxz+F61G4HoUDQI/C9Shcj+I/4XoUrkdhLkBI4XoUrkcHQD0K16NwPeI/H4XrUbge7T8AAAAAAAAAAFyPwvUoXOc/AAAAAAAAJECPwvUoXI88QKRwPQrXowhASOF6FK5H9T8=",
          "dtype": "f8"
         },
         "y0": " ",
         "yaxis": "y"
        }
       ],
       "layout": {
        "boxmode": "group",
        "legend": {
         "tracegroupgap": 0
        },
        "template": {
         "data": {
          "bar": [
           {
            "error_x": {
             "color": "#2a3f5f"
            },
            "error_y": {
             "color": "#2a3f5f"
            },
            "marker": {
             "line": {
              "color": "#E5ECF6",
              "width": 0.5
             },
             "pattern": {
              "fillmode": "overlay",
              "size": 10,
              "solidity": 0.2
             }
            },
            "type": "bar"
           }
          ],
          "barpolar": [
           {
            "marker": {
             "line": {
              "color": "#E5ECF6",
              "width": 0.5
             },
             "pattern": {
              "fillmode": "overlay",
              "size": 10,
              "solidity": 0.2
             }
            },
            "type": "barpolar"
           }
          ],
          "carpet": [
           {
            "aaxis": {
             "endlinecolor": "#2a3f5f",
             "gridcolor": "white",
             "linecolor": "white",
             "minorgridcolor": "white",
             "startlinecolor": "#2a3f5f"
            },
            "baxis": {
             "endlinecolor": "#2a3f5f",
             "gridcolor": "white",
             "linecolor": "white",
             "minorgridcolor": "white",
             "startlinecolor": "#2a3f5f"
            },
            "type": "carpet"
           }
          ],
          "choropleth": [
           {
            "colorbar": {
             "outlinewidth": 0,
             "ticks": ""
            },
            "type": "choropleth"
           }
          ],
          "contour": [
           {
            "colorbar": {
             "outlinewidth": 0,
             "ticks": ""
            },
            "colorscale": [
             [
              0,
              "#0d0887"
             ],
             [
              0.1111111111111111,
              "#46039f"
             ],
             [
              0.2222222222222222,
              "#7201a8"
             ],
             [
              0.3333333333333333,
              "#9c179e"
             ],
             [
              0.4444444444444444,
              "#bd3786"
             ],
             [
              0.5555555555555556,
              "#d8576b"
             ],
             [
              0.6666666666666666,
              "#ed7953"
             ],
             [
              0.7777777777777778,
              "#fb9f3a"
             ],
             [
              0.8888888888888888,
              "#fdca26"
             ],
             [
              1,
              "#f0f921"
             ]
            ],
            "type": "contour"
           }
          ],
          "contourcarpet": [
           {
            "colorbar": {
             "outlinewidth": 0,
             "ticks": ""
            },
            "type": "contourcarpet"
           }
          ],
          "heatmap": [
           {
            "colorbar": {
             "outlinewidth": 0,
             "ticks": ""
            },
            "colorscale": [
             [
              0,
              "#0d0887"
             ],
             [
              0.1111111111111111,
              "#46039f"
             ],
             [
              0.2222222222222222,
              "#7201a8"
             ],
             [
              0.3333333333333333,
              "#9c179e"
             ],
             [
              0.4444444444444444,
              "#bd3786"
             ],
             [
              0.5555555555555556,
              "#d8576b"
             ],
             [
              0.6666666666666666,
              "#ed7953"
             ],
             [
              0.7777777777777778,
              "#fb9f3a"
             ],
             [
              0.8888888888888888,
              "#fdca26"
             ],
             [
              1,
              "#f0f921"
             ]
            ],
            "type": "heatmap"
           }
          ],
          "histogram": [
           {
            "marker": {
             "pattern": {
              "fillmode": "overlay",
              "size": 10,
              "solidity": 0.2
             }
            },
            "type": "histogram"
           }
          ],
          "histogram2d": [
           {
            "colorbar": {
             "outlinewidth": 0,
             "ticks": ""
            },
            "colorscale": [
             [
              0,
              "#0d0887"
             ],
             [
              0.1111111111111111,
              "#46039f"
             ],
             [
              0.2222222222222222,
              "#7201a8"
             ],
             [
              0.3333333333333333,
              "#9c179e"
             ],
             [
              0.4444444444444444,
              "#bd3786"
             ],
             [
              0.5555555555555556,
              "#d8576b"
             ],
             [
              0.6666666666666666,
              "#ed7953"
             ],
             [
              0.7777777777777778,
              "#fb9f3a"
             ],
             [
              0.8888888888888888,
              "#fdca26"
             ],
             [
              1,
              "#f0f921"
             ]
            ],
            "type": "histogram2d"
           }
          ],
          "histogram2dcontour": [
           {
            "colorbar": {
             "outlinewidth": 0,
             "ticks": ""
            },
            "colorscale": [
             [
              0,
              "#0d0887"
             ],
             [
              0.1111111111111111,
              "#46039f"
             ],
             [
              0.2222222222222222,
              "#7201a8"
             ],
             [
              0.3333333333333333,
              "#9c179e"
             ],
             [
              0.4444444444444444,
              "#bd3786"
             ],
             [
              0.5555555555555556,
              "#d8576b"
             ],
             [
              0.6666666666666666,
              "#ed7953"
             ],
             [
              0.7777777777777778,
              "#fb9f3a"
             ],
             [
              0.8888888888888888,
              "#fdca26"
             ],
             [
              1,
              "#f0f921"
             ]
            ],
            "type": "histogram2dcontour"
           }
          ],
          "mesh3d": [
           {
            "colorbar": {
             "outlinewidth": 0,
             "ticks": ""
            },
            "type": "mesh3d"
           }
          ],
          "parcoords": [
           {
            "line": {
             "colorbar": {
              "outlinewidth": 0,
              "ticks": ""
             }
            },
            "type": "parcoords"
           }
          ],
          "pie": [
           {
            "automargin": true,
            "type": "pie"
           }
          ],
          "scatter": [
           {
            "fillpattern": {
             "fillmode": "overlay",
             "size": 10,
             "solidity": 0.2
            },
            "type": "scatter"
           }
          ],
          "scatter3d": [
           {
            "line": {
             "colorbar": {
              "outlinewidth": 0,
              "ticks": ""
             }
            },
            "marker": {
             "colorbar": {
              "outlinewidth": 0,
              "ticks": ""
             }
            },
            "type": "scatter3d"
           }
          ],
          "scattercarpet": [
           {
            "marker": {
             "colorbar": {
              "outlinewidth": 0,
              "ticks": ""
             }
            },
            "type": "scattercarpet"
           }
          ],
          "scattergeo": [
           {
            "marker": {
             "colorbar": {
              "outlinewidth": 0,
              "ticks": ""
             }
            },
            "type": "scattergeo"
           }
          ],
          "scattergl": [
           {
            "marker": {
             "colorbar": {
              "outlinewidth": 0,
              "ticks": ""
             }
            },
            "type": "scattergl"
           }
          ],
          "scattermap": [
           {
            "marker": {
             "colorbar": {
              "outlinewidth": 0,
              "ticks": ""
             }
            },
            "type": "scattermap"
           }
          ],
          "scattermapbox": [
           {
            "marker": {
             "colorbar": {
              "outlinewidth": 0,
              "ticks": ""
             }
            },
            "type": "scattermapbox"
           }
          ],
          "scatterpolar": [
           {
            "marker": {
             "colorbar": {
              "outlinewidth": 0,
              "ticks": ""
             }
            },
            "type": "scatterpolar"
           }
          ],
          "scatterpolargl": [
           {
            "marker": {
             "colorbar": {
              "outlinewidth": 0,
              "ticks": ""
             }
            },
            "type": "scatterpolargl"
           }
          ],
          "scatterternary": [
           {
            "marker": {
             "colorbar": {
              "outlinewidth": 0,
              "ticks": ""
             }
            },
            "type": "scatterternary"
           }
          ],
          "surface": [
           {
            "colorbar": {
             "outlinewidth": 0,
             "ticks": ""
            },
            "colorscale": [
             [
              0,
              "#0d0887"
             ],
             [
              0.1111111111111111,
              "#46039f"
             ],
             [
              0.2222222222222222,
              "#7201a8"
             ],
             [
              0.3333333333333333,
              "#9c179e"
             ],
             [
              0.4444444444444444,
              "#bd3786"
             ],
             [
              0.5555555555555556,
              "#d8576b"
             ],
             [
              0.6666666666666666,
              "#ed7953"
             ],
             [
              0.7777777777777778,
              "#fb9f3a"
             ],
             [
              0.8888888888888888,
              "#fdca26"
             ],
             [
              1,
              "#f0f921"
             ]
            ],
            "type": "surface"
           }
          ],
          "table": [
           {
            "cells": {
             "fill": {
              "color": "#EBF0F8"
             },
             "line": {
              "color": "white"
             }
            },
            "header": {
             "fill": {
              "color": "#C8D4E3"
             },
             "line": {
              "color": "white"
             }
            },
            "type": "table"
           }
          ]
         },
         "layout": {
          "annotationdefaults": {
           "arrowcolor": "#2a3f5f",
           "arrowhead": 0,
           "arrowwidth": 1
          },
          "autotypenumbers": "strict",
          "coloraxis": {
           "colorbar": {
            "outlinewidth": 0,
            "ticks": ""
           }
          },
          "colorscale": {
           "diverging": [
            [
             0,
             "#8e0152"
            ],
            [
             0.1,
             "#c51b7d"
            ],
            [
             0.2,
             "#de77ae"
            ],
            [
             0.3,
             "#f1b6da"
            ],
            [
             0.4,
             "#fde0ef"
            ],
            [
             0.5,
             "#f7f7f7"
            ],
            [
             0.6,
             "#e6f5d0"
            ],
            [
             0.7,
             "#b8e186"
            ],
            [
             0.8,
             "#7fbc41"
            ],
            [
             0.9,
             "#4d9221"
            ],
            [
             1,
             "#276419"
            ]
           ],
           "sequential": [
            [
             0,
             "#0d0887"
            ],
            [
             0.1111111111111111,
             "#46039f"
            ],
            [
             0.2222222222222222,
             "#7201a8"
            ],
            [
             0.3333333333333333,
             "#9c179e"
            ],
            [
             0.4444444444444444,
             "#bd3786"
            ],
            [
             0.5555555555555556,
             "#d8576b"
            ],
            [
             0.6666666666666666,
             "#ed7953"
            ],
            [
             0.7777777777777778,
             "#fb9f3a"
            ],
            [
             0.8888888888888888,
             "#fdca26"
            ],
            [
             1,
             "#f0f921"
            ]
           ],
           "sequentialminus": [
            [
             0,
             "#0d0887"
            ],
            [
             0.1111111111111111,
             "#46039f"
            ],
            [
             0.2222222222222222,
             "#7201a8"
            ],
            [
             0.3333333333333333,
             "#9c179e"
            ],
            [
             0.4444444444444444,
             "#bd3786"
            ],
            [
             0.5555555555555556,
             "#d8576b"
            ],
            [
             0.6666666666666666,
             "#ed7953"
            ],
            [
             0.7777777777777778,
             "#fb9f3a"
            ],
            [
             0.8888888888888888,
             "#fdca26"
            ],
            [
             1,
             "#f0f921"
            ]
           ]
          },
          "colorway": [
           "#636efa",
           "#EF553B",
           "#00cc96",
           "#ab63fa",
           "#FFA15A",
           "#19d3f3",
           "#FF6692",
           "#B6E880",
           "#FF97FF",
           "#FECB52"
          ],
          "font": {
           "color": "#2a3f5f"
          },
          "geo": {
           "bgcolor": "white",
           "lakecolor": "white",
           "landcolor": "#E5ECF6",
           "showlakes": true,
           "showland": true,
           "subunitcolor": "white"
          },
          "hoverlabel": {
           "align": "left"
          },
          "hovermode": "closest",
          "mapbox": {
           "style": "light"
          },
          "paper_bgcolor": "white",
          "plot_bgcolor": "#E5ECF6",
          "polar": {
           "angularaxis": {
            "gridcolor": "white",
            "linecolor": "white",
            "ticks": ""
           },
           "bgcolor": "#E5ECF6",
           "radialaxis": {
            "gridcolor": "white",
            "linecolor": "white",
            "ticks": ""
           }
          },
          "scene": {
           "xaxis": {
            "backgroundcolor": "#E5ECF6",
            "gridcolor": "white",
            "gridwidth": 2,
            "linecolor": "white",
            "showbackground": true,
            "ticks": "",
            "zerolinecolor": "white"
           },
           "yaxis": {
            "backgroundcolor": "#E5ECF6",
            "gridcolor": "white",
            "gridwidth": 2,
            "linecolor": "white",
            "showbackground": true,
            "ticks": "",
            "zerolinecolor": "white"
           },
           "zaxis": {
            "backgroundcolor": "#E5ECF6",
            "gridcolor": "white",
            "gridwidth": 2,
            "linecolor": "white",
            "showbackground": true,
            "ticks": "",
            "zerolinecolor": "white"
           }
          },
          "shapedefaults": {
           "line": {
            "color": "#2a3f5f"
           }
          },
          "ternary": {
           "aaxis": {
            "gridcolor": "white",
            "linecolor": "white",
            "ticks": ""
           },
           "baxis": {
            "gridcolor": "white",
            "linecolor": "white",
            "ticks": ""
           },
           "bgcolor": "#E5ECF6",
           "caxis": {
            "gridcolor": "white",
            "linecolor": "white",
            "ticks": ""
           }
          },
          "title": {
           "x": 0.05
          },
          "xaxis": {
           "automargin": true,
           "gridcolor": "white",
           "linecolor": "white",
           "ticks": "",
           "title": {
            "standoff": 15
           },
           "zerolinecolor": "white",
           "zerolinewidth": 2
          },
          "yaxis": {
           "automargin": true,
           "gridcolor": "white",
           "linecolor": "white",
           "ticks": "",
           "title": {
            "standoff": 15
           },
           "zerolinecolor": "white",
           "zerolinewidth": 2
          }
         }
        },
        "title": {
         "text": "Mortality Rate by Region"
        },
        "xaxis": {
         "anchor": "y",
         "domain": [
          0,
          1
         ],
         "title": {
          "text": "WHO Region"
         }
        },
        "yaxis": {
         "anchor": "x",
         "domain": [
          0,
          1
         ],
         "title": {
          "text": "Deaths / 100 Cases"
         }
        }
       }
      }
     },
     "metadata": {},
     "output_type": "display_data"
    },
    {
     "data": {
      "application/vnd.plotly.v1+json": {
       "config": {
        "plotlyServerURL": "https://plot.ly"
       },
       "data": [
        {
         "colorscale": [
          [
           0,
           "#440154"
          ],
          [
           0.1111111111111111,
           "#482878"
          ],
          [
           0.2222222222222222,
           "#3e4989"
          ],
          [
           0.3333333333333333,
           "#31688e"
          ],
          [
           0.4444444444444444,
           "#26828e"
          ],
          [
           0.5555555555555556,
           "#1f9e89"
          ],
          [
           0.6666666666666666,
           "#35b779"
          ],
          [
           0.7777777777777778,
           "#6ece58"
          ],
          [
           0.8888888888888888,
           "#b5de2b"
          ],
          [
           1,
           "#fde725"
          ]
         ],
         "type": "heatmap",
         "x": [
          "Confirmed",
          "Deaths",
          "Recovered",
          "Active"
         ],
         "y": [
          "Confirmed",
          "Deaths",
          "Recovered",
          "Active"
         ],
         "z": {
          "bdata": "AAAAAAAA8D+IhOOwDOntP3wkxtAJAe0/DT8tOCKq7T+IhOOwDOntPwAAAAAAAPA/R6LajYyg6j8khZEmCOTrP3wkxtAJAe0/R6LajYyg6j8AAAAAAADwPw1Kiu7I0+U/DT8tOCKq7T8khZEmCOTrPw1Kiu7I0+U/AAAAAAAA8D8=",
          "dtype": "f8",
          "shape": "4, 4"
         }
        }
       ],
       "layout": {
        "template": {
         "data": {
          "bar": [
           {
            "error_x": {
             "color": "#2a3f5f"
            },
            "error_y": {
             "color": "#2a3f5f"
            },
            "marker": {
             "line": {
              "color": "#E5ECF6",
              "width": 0.5
             },
             "pattern": {
              "fillmode": "overlay",
              "size": 10,
              "solidity": 0.2
             }
            },
            "type": "bar"
           }
          ],
          "barpolar": [
           {
            "marker": {
             "line": {
              "color": "#E5ECF6",
              "width": 0.5
             },
             "pattern": {
              "fillmode": "overlay",
              "size": 10,
              "solidity": 0.2
             }
            },
            "type": "barpolar"
           }
          ],
          "carpet": [
           {
            "aaxis": {
             "endlinecolor": "#2a3f5f",
             "gridcolor": "white",
             "linecolor": "white",
             "minorgridcolor": "white",
             "startlinecolor": "#2a3f5f"
            },
            "baxis": {
             "endlinecolor": "#2a3f5f",
             "gridcolor": "white",
             "linecolor": "white",
             "minorgridcolor": "white",
             "startlinecolor": "#2a3f5f"
            },
            "type": "carpet"
           }
          ],
          "choropleth": [
           {
            "colorbar": {
             "outlinewidth": 0,
             "ticks": ""
            },
            "type": "choropleth"
           }
          ],
          "contour": [
           {
            "colorbar": {
             "outlinewidth": 0,
             "ticks": ""
            },
            "colorscale": [
             [
              0,
              "#0d0887"
             ],
             [
              0.1111111111111111,
              "#46039f"
             ],
             [
              0.2222222222222222,
              "#7201a8"
             ],
             [
              0.3333333333333333,
              "#9c179e"
             ],
             [
              0.4444444444444444,
              "#bd3786"
             ],
             [
              0.5555555555555556,
              "#d8576b"
             ],
             [
              0.6666666666666666,
              "#ed7953"
             ],
             [
              0.7777777777777778,
              "#fb9f3a"
             ],
             [
              0.8888888888888888,
              "#fdca26"
             ],
             [
              1,
              "#f0f921"
             ]
            ],
            "type": "contour"
           }
          ],
          "contourcarpet": [
           {
            "colorbar": {
             "outlinewidth": 0,
             "ticks": ""
            },
            "type": "contourcarpet"
           }
          ],
          "heatmap": [
           {
            "colorbar": {
             "outlinewidth": 0,
             "ticks": ""
            },
            "colorscale": [
             [
              0,
              "#0d0887"
             ],
             [
              0.1111111111111111,
              "#46039f"
             ],
             [
              0.2222222222222222,
              "#7201a8"
             ],
             [
              0.3333333333333333,
              "#9c179e"
             ],
             [
              0.4444444444444444,
              "#bd3786"
             ],
             [
              0.5555555555555556,
              "#d8576b"
             ],
             [
              0.6666666666666666,
              "#ed7953"
             ],
             [
              0.7777777777777778,
              "#fb9f3a"
             ],
             [
              0.8888888888888888,
              "#fdca26"
             ],
             [
              1,
              "#f0f921"
             ]
            ],
            "type": "heatmap"
           }
          ],
          "histogram": [
           {
            "marker": {
             "pattern": {
              "fillmode": "overlay",
              "size": 10,
              "solidity": 0.2
             }
            },
            "type": "histogram"
           }
          ],
          "histogram2d": [
           {
            "colorbar": {
             "outlinewidth": 0,
             "ticks": ""
            },
            "colorscale": [
             [
              0,
              "#0d0887"
             ],
             [
              0.1111111111111111,
              "#46039f"
             ],
             [
              0.2222222222222222,
              "#7201a8"
             ],
             [
              0.3333333333333333,
              "#9c179e"
             ],
             [
              0.4444444444444444,
              "#bd3786"
             ],
             [
              0.5555555555555556,
              "#d8576b"
             ],
             [
              0.6666666666666666,
              "#ed7953"
             ],
             [
              0.7777777777777778,
              "#fb9f3a"
             ],
             [
              0.8888888888888888,
              "#fdca26"
             ],
             [
              1,
              "#f0f921"
             ]
            ],
            "type": "histogram2d"
           }
          ],
          "histogram2dcontour": [
           {
            "colorbar": {
             "outlinewidth": 0,
             "ticks": ""
            },
            "colorscale": [
             [
              0,
              "#0d0887"
             ],
             [
              0.1111111111111111,
              "#46039f"
             ],
             [
              0.2222222222222222,
              "#7201a8"
             ],
             [
              0.3333333333333333,
              "#9c179e"
             ],
             [
              0.4444444444444444,
              "#bd3786"
             ],
             [
              0.5555555555555556,
              "#d8576b"
             ],
             [
              0.6666666666666666,
              "#ed7953"
             ],
             [
              0.7777777777777778,
              "#fb9f3a"
             ],
             [
              0.8888888888888888,
              "#fdca26"
             ],
             [
              1,
              "#f0f921"
             ]
            ],
            "type": "histogram2dcontour"
           }
          ],
          "mesh3d": [
           {
            "colorbar": {
             "outlinewidth": 0,
             "ticks": ""
            },
            "type": "mesh3d"
           }
          ],
          "parcoords": [
           {
            "line": {
             "colorbar": {
              "outlinewidth": 0,
              "ticks": ""
             }
            },
            "type": "parcoords"
           }
          ],
          "pie": [
           {
            "automargin": true,
            "type": "pie"
           }
          ],
          "scatter": [
           {
            "fillpattern": {
             "fillmode": "overlay",
             "size": 10,
             "solidity": 0.2
            },
            "type": "scatter"
           }
          ],
          "scatter3d": [
           {
            "line": {
             "colorbar": {
              "outlinewidth": 0,
              "ticks": ""
             }
            },
            "marker": {
             "colorbar": {
              "outlinewidth": 0,
              "ticks": ""
             }
            },
            "type": "scatter3d"
           }
          ],
          "scattercarpet": [
           {
            "marker": {
             "colorbar": {
              "outlinewidth": 0,
              "ticks": ""
             }
            },
            "type": "scattercarpet"
           }
          ],
          "scattergeo": [
           {
            "marker": {
             "colorbar": {
              "outlinewidth": 0,
              "ticks": ""
             }
            },
            "type": "scattergeo"
           }
          ],
          "scattergl": [
           {
            "marker": {
             "colorbar": {
              "outlinewidth": 0,
              "ticks": ""
             }
            },
            "type": "scattergl"
           }
          ],
          "scattermap": [
           {
            "marker": {
             "colorbar": {
              "outlinewidth": 0,
              "ticks": ""
             }
            },
            "type": "scattermap"
           }
          ],
          "scattermapbox": [
           {
            "marker": {
             "colorbar": {
              "outlinewidth": 0,
              "ticks": ""
             }
            },
            "type": "scattermapbox"
           }
          ],
          "scatterpolar": [
           {
            "marker": {
             "colorbar": {
              "outlinewidth": 0,
              "ticks": ""
             }
            },
            "type": "scatterpolar"
           }
          ],
          "scatterpolargl": [
           {
            "marker": {
             "colorbar": {
              "outlinewidth": 0,
              "ticks": ""
             }
            },
            "type": "scatterpolargl"
           }
          ],
          "scatterternary": [
           {
            "marker": {
             "colorbar": {
              "outlinewidth": 0,
              "ticks": ""
             }
            },
            "type": "scatterternary"
           }
          ],
          "surface": [
           {
            "colorbar": {
             "outlinewidth": 0,
             "ticks": ""
            },
            "colorscale": [
             [
              0,
              "#0d0887"
             ],
             [
              0.1111111111111111,
              "#46039f"
             ],
             [
              0.2222222222222222,
              "#7201a8"
             ],
             [
              0.3333333333333333,
              "#9c179e"
             ],
             [
              0.4444444444444444,
              "#bd3786"
             ],
             [
              0.5555555555555556,
              "#d8576b"
             ],
             [
              0.6666666666666666,
              "#ed7953"
             ],
             [
              0.7777777777777778,
              "#fb9f3a"
             ],
             [
              0.8888888888888888,
              "#fdca26"
             ],
             [
              1,
              "#f0f921"
             ]
            ],
            "type": "surface"
           }
          ],
          "table": [
           {
            "cells": {
             "fill": {
              "color": "#EBF0F8"
             },
             "line": {
              "color": "white"
             }
            },
            "header": {
             "fill": {
              "color": "#C8D4E3"
             },
             "line": {
              "color": "white"
             }
            },
            "type": "table"
           }
          ]
         },
         "layout": {
          "annotationdefaults": {
           "arrowcolor": "#2a3f5f",
           "arrowhead": 0,
           "arrowwidth": 1
          },
          "autotypenumbers": "strict",
          "coloraxis": {
           "colorbar": {
            "outlinewidth": 0,
            "ticks": ""
           }
          },
          "colorscale": {
           "diverging": [
            [
             0,
             "#8e0152"
            ],
            [
             0.1,
             "#c51b7d"
            ],
            [
             0.2,
             "#de77ae"
            ],
            [
             0.3,
             "#f1b6da"
            ],
            [
             0.4,
             "#fde0ef"
            ],
            [
             0.5,
             "#f7f7f7"
            ],
            [
             0.6,
             "#e6f5d0"
            ],
            [
             0.7,
             "#b8e186"
            ],
            [
             0.8,
             "#7fbc41"
            ],
            [
             0.9,
             "#4d9221"
            ],
            [
             1,
             "#276419"
            ]
           ],
           "sequential": [
            [
             0,
             "#0d0887"
            ],
            [
             0.1111111111111111,
             "#46039f"
            ],
            [
             0.2222222222222222,
             "#7201a8"
            ],
            [
             0.3333333333333333,
             "#9c179e"
            ],
            [
             0.4444444444444444,
             "#bd3786"
            ],
            [
             0.5555555555555556,
             "#d8576b"
            ],
            [
             0.6666666666666666,
             "#ed7953"
            ],
            [
             0.7777777777777778,
             "#fb9f3a"
            ],
            [
             0.8888888888888888,
             "#fdca26"
            ],
            [
             1,
             "#f0f921"
            ]
           ],
           "sequentialminus": [
            [
             0,
             "#0d0887"
            ],
            [
             0.1111111111111111,
             "#46039f"
            ],
            [
             0.2222222222222222,
             "#7201a8"
            ],
            [
             0.3333333333333333,
             "#9c179e"
            ],
            [
             0.4444444444444444,
             "#bd3786"
            ],
            [
             0.5555555555555556,
             "#d8576b"
            ],
            [
             0.6666666666666666,
             "#ed7953"
            ],
            [
             0.7777777777777778,
             "#fb9f3a"
            ],
            [
             0.8888888888888888,
             "#fdca26"
            ],
            [
             1,
             "#f0f921"
            ]
           ]
          },
          "colorway": [
           "#636efa",
           "#EF553B",
           "#00cc96",
           "#ab63fa",
           "#FFA15A",
           "#19d3f3",
           "#FF6692",
           "#B6E880",
           "#FF97FF",
           "#FECB52"
          ],
          "font": {
           "color": "#2a3f5f"
          },
          "geo": {
           "bgcolor": "white",
           "lakecolor": "white",
           "landcolor": "#E5ECF6",
           "showlakes": true,
           "showland": true,
           "subunitcolor": "white"
          },
          "hoverlabel": {
           "align": "left"
          },
          "hovermode": "closest",
          "mapbox": {
           "style": "light"
          },
          "paper_bgcolor": "white",
          "plot_bgcolor": "#E5ECF6",
          "polar": {
           "angularaxis": {
            "gridcolor": "white",
            "linecolor": "white",
            "ticks": ""
           },
           "bgcolor": "#E5ECF6",
           "radialaxis": {
            "gridcolor": "white",
            "linecolor": "white",
            "ticks": ""
           }
          },
          "scene": {
           "xaxis": {
            "backgroundcolor": "#E5ECF6",
            "gridcolor": "white",
            "gridwidth": 2,
            "linecolor": "white",
            "showbackground": true,
            "ticks": "",
            "zerolinecolor": "white"
           },
           "yaxis": {
            "backgroundcolor": "#E5ECF6",
            "gridcolor": "white",
            "gridwidth": 2,
            "linecolor": "white",
            "showbackground": true,
            "ticks": "",
            "zerolinecolor": "white"
           },
           "zaxis": {
            "backgroundcolor": "#E5ECF6",
            "gridcolor": "white",
            "gridwidth": 2,
            "linecolor": "white",
            "showbackground": true,
            "ticks": "",
            "zerolinecolor": "white"
           }
          },
          "shapedefaults": {
           "line": {
            "color": "#2a3f5f"
           }
          },
          "ternary": {
           "aaxis": {
            "gridcolor": "white",
            "linecolor": "white",
            "ticks": ""
           },
           "baxis": {
            "gridcolor": "white",
            "linecolor": "white",
            "ticks": ""
           },
           "bgcolor": "#E5ECF6",
           "caxis": {
            "gridcolor": "white",
            "linecolor": "white",
            "ticks": ""
           }
          },
          "title": {
           "x": 0.05
          },
          "xaxis": {
           "automargin": true,
           "gridcolor": "white",
           "linecolor": "white",
           "ticks": "",
           "title": {
            "standoff": 15
           },
           "zerolinecolor": "white",
           "zerolinewidth": 2
          },
          "yaxis": {
           "automargin": true,
           "gridcolor": "white",
           "linecolor": "white",
           "ticks": "",
           "title": {
            "standoff": 15
           },
           "zerolinecolor": "white",
           "zerolinewidth": 2
          }
         }
        },
        "title": {
         "text": "Correlation Heatmap of Key Metrics"
        }
       }
      }
     },
     "metadata": {},
     "output_type": "display_data"
    },
    {
     "data": {
      "application/vnd.plotly.v1+json": {
       "config": {
        "plotlyServerURL": "https://plot.ly"
       },
       "data": [
        {
         "alignmentgroup": "True",
         "hovertemplate": "WHO Region=%{x}<br>Deaths / 100 Cases=%{y}<extra></extra>",
         "legendgroup": "",
         "marker": {
          "color": "#636efa"
         },
         "name": "",
         "notched": false,
         "offsetgroup": "",
         "orientation": "v",
         "showlegend": false,
         "type": "box",
         "x": [
          "Eastern Mediterranean",
          "Europe",
          "Africa",
          "Europe",
          "Africa",
          "Americas",
          "Americas",
          "Europe",
          "Western Pacific",
          "Europe",
          "Europe",
          "Americas",
          "Eastern Mediterranean",
          "South-East Asia",
          "Americas",
          "Europe",
          "Europe",
          "Americas",
          "Africa",
          "South-East Asia",
          "Americas",
          "Europe",
          "Africa",
          "Americas",
          "Western Pacific",
          "Europe",
          "Africa",
          "South-East Asia",
          "Africa",
          "Africa",
          "Western Pacific",
          "Africa",
          "Americas",
          "Africa",
          "Africa",
          "Americas",
          "Western Pacific",
          "Americas",
          "Africa",
          "Africa",
          "Africa",
          "Americas",
          "Africa",
          "Europe",
          "Americas",
          "Europe",
          "Europe",
          "Europe",
          "Eastern Mediterranean",
          "Americas",
          "Americas",
          "Americas",
          "Eastern Mediterranean",
          "Americas",
          "Africa",
          "Africa",
          "Europe",
          "Africa",
          "Africa",
          "Western Pacific",
          "Europe",
          "Europe",
          "Africa",
          "Africa",
          "Europe",
          "Europe",
          "Africa",
          "Europe",
          "Europe",
          "Americas",
          "Americas",
          "Africa",
          "Africa",
          "Americas",
          "Americas",
          "Europe",
          "Americas",
          "Europe",
          "Europe",
          "South-East Asia",
          "South-East Asia",
          "Eastern Mediterranean",
          "Eastern Mediterranean",
          "Europe",
          "Europe",
          "Europe",
          "Americas",
          "Western Pacific",
          "Eastern Mediterranean",
          "Europe",
          "Africa",
          "Europe",
          "Eastern Mediterranean",
          "Europe",
          "Western Pacific",
          "Europe",
          "Eastern Mediterranean",
          "Africa",
          "Africa",
          "Eastern Mediterranean",
          "Europe",
          "Europe",
          "Europe",
          "Africa",
          "Africa",
          "Western Pacific",
          "South-East Asia",
          "Africa",
          "Europe",
          "Africa",
          "Africa",
          "Americas",
          "Europe",
          "Europe",
          "Western Pacific",
          "Europe",
          "Eastern Mediterranean",
          "Africa",
          "Africa",
          "South-East Asia",
          "Europe",
          "Western Pacific",
          "Americas",
          "Africa",
          "Africa",
          "Europe",
          "Europe",
          "Eastern Mediterranean",
          "Eastern Mediterranean",
          "Americas",
          "Western Pacific",
          "Americas",
          "Americas",
          "Western Pacific",
          "Europe",
          "Europe",
          "Eastern Mediterranean",
          "Europe",
          "Europe",
          "Africa",
          "Americas",
          "Americas",
          "Americas",
          "Europe",
          "Africa",
          "Eastern Mediterranean",
          "Africa",
          "Europe",
          "Africa",
          "Africa",
          "Western Pacific",
          "Europe",
          "Europe",
          "Eastern Mediterranean",
          "Africa",
          "Western Pacific",
          "Africa",
          "Europe",
          "South-East Asia",
          "Eastern Mediterranean",
          "Americas",
          "Europe",
          "Europe",
          "Eastern Mediterranean",
          "Western Pacific",
          "Europe",
          "Africa",
          "South-East Asia",
          "South-East Asia",
          "Africa",
          "Americas",
          "Eastern Mediterranean",
          "Europe",
          "Americas",
          "Africa",
          "Europe",
          "Eastern Mediterranean",
          "Europe",
          "Americas",
          "Europe",
          "Americas",
          "Western Pacific",
          "Eastern Mediterranean",
          "Africa",
          "Eastern Mediterranean",
          "Africa",
          "Africa"
         ],
         "x0": " ",
         "xaxis": "x",
         "y": {
          "bdata": "AAAAAAAADECamZmZmZkHQKRwPQrXoxBA7FG4HoXrFkBI4XoUrkcRQOxRuB6F6wtASOF6FK5H/T9mZmZmZmb+P3E9CtejcPE/w/UoXI/CC0A9CtejcD32PwrXo3A9CgdACtejcD0K1z/2KFyPwvX0P3E9CtejcBlAmpmZmZmZ6T8UrkfhepQtQK5H4XoUrhBArkfhehSu/z8AAAAAAAAAAMP1KFyPwg1AZmZmZmZmBkBI4XoUrkfRP7gehetRuAxACtejcD0KAUApXI/C9SgKQEjhehSuRxNAXI/C9Shc+z+kcD0K16PQP2ZmZmZmZu4/AAAAAAAAAABSuB6F61ECQLgehetRuB5AexSuR+F69D/D9Shcj0IgQB+F61G4HgVAexSuR+F6FUBI4XoUrkcLQK5H4XoUrv8/CtejcD0K+z/NzMzMzMwCQFyPwvUoXOc/hetRuB6F4z/NzMzMzMwGQIXrUbgehQtApHA9Ctej/D8zMzMzMzMDQM3MzMzMzBFAZmZmZmZm8j8AAAAAAAAAAArXo3A9Cvs/SOF6FK5HG0AfhetRuB4UQK5H4XoUrgVAj8L1KFyP+j8AAAAAAAAAAB+F61G4HgtAhetRuB6F9z8fhetRuB75PwAAAAAAAAAAzczMzMzMEUDsUbgehWsrQMP1KFyPwuU/mpmZmZmZA0CPwvUoXI/2P6RwPQrXoxFAAAAAAAAA4D8fhetRuB4TQAAAAAAAAAAAAAAAAAAAAAAfhetRuB4PQHsUrkfheuQ/SOF6FK5H9T+PwvUoXI8UQDMzMzMzMwFAAAAAAAAAAABxPQrXo3AHQM3MzMzMzCpASOF6FK5H4T8UrkfhehQCQEjhehSuRxNArkfhehSuFUCuR+F6FK4PQD0K16NwPRtArkfhehSu5z+F61G4HoUsQLgehetRuPI/mpmZmZmZCUAUrkfhehTuPxSuR+F6FOY/cT0K16Nw+T8AAAAAAAAEQMP1KFyPwuU/SOF6FK5HD0AAAAAAAAAAAFK4HoXrUQRA9ihcj8L19D8K16NwPQoDQK5H4XoUrhhAFK5H4XoUAkCPwvUoXI/yP65H4XoUrg9AUrgehetR/D8UrkfhehTuP5qZmZmZmQVAPQrXo3A99j/NzMzMzMzcP7gehetRuBNAexSuR+F69D8UrkfhehQEQEjhehSuRwdAw/UoXI9CJkDXo3A9CtcJQJqZmZmZmQtAAAAAAAAAAAD2KFyPwvX4Pylcj8L1KPg/zczMzMzM5D+F61G4HoXbP6RwPQrXo9A/j8L1KFwPJ0CPwvUoXI/2Px+F61G4HglAZmZmZmZmGEC4HoXrUbgAQD0K16NwPRJAUrgehetRBkBSuB6F61HgPwrXo3A9CgFAMzMzMzMzAUAAAAAAAAAAAGZmZmZmZu4/7FG4HoXrEkD2KFyPwvUCQOF6FK5H4Q5AXI/C9ShcC0AzMzMzMzPDPz0K16NwPRNAFK5H4XoU+j9I4XoUrkfRPwAAAAAAAAAAAAAAAAAAAAAAAAAAAAAAAArXo3A9ChhA7FG4HoXr+T97FK5H4XrwP9ejcD0K1/8/AAAAAAAAAkAAAAAAAAAAAJqZmZmZmQ1AmpmZmZmZqT97FK5H4Xr0Pz0K16NwPRZASOF6FK5HB0D2KFyPwvX4P+F6FK5H4QBAAAAAAAAAAEDhehSuR+EkQPYoXI/C9dg/MzMzMzMzGUDsUbgehev5P7gehetRuBxA9ihcj8L1FkC4HoXrUbgXQFK4HoXrUfg/j8L1KFyP6j+F61G4HoUQQClcj8L1KPw/AAAAAAAAAAB7FK5H4XoAQKRwPQrXoxVAhetRuB6FC0DXo3A9CtcDQJqZmZmZmQtACtejcD0Kxz+F61G4HoUDQI/C9Shcj+I/4XoUrkdhLkBI4XoUrkcHQD0K16NwPeI/H4XrUbge7T8AAAAAAAAAAFyPwvUoXOc/AAAAAAAAJECPwvUoXI88QKRwPQrXowhASOF6FK5H9T8=",
          "dtype": "f8"
         },
         "y0": " ",
         "yaxis": "y"
        }
       ],
       "layout": {
        "boxmode": "group",
        "legend": {
         "tracegroupgap": 0
        },
        "template": {
         "data": {
          "bar": [
           {
            "error_x": {
             "color": "#2a3f5f"
            },
            "error_y": {
             "color": "#2a3f5f"
            },
            "marker": {
             "line": {
              "color": "#E5ECF6",
              "width": 0.5
             },
             "pattern": {
              "fillmode": "overlay",
              "size": 10,
              "solidity": 0.2
             }
            },
            "type": "bar"
           }
          ],
          "barpolar": [
           {
            "marker": {
             "line": {
              "color": "#E5ECF6",
              "width": 0.5
             },
             "pattern": {
              "fillmode": "overlay",
              "size": 10,
              "solidity": 0.2
             }
            },
            "type": "barpolar"
           }
          ],
          "carpet": [
           {
            "aaxis": {
             "endlinecolor": "#2a3f5f",
             "gridcolor": "white",
             "linecolor": "white",
             "minorgridcolor": "white",
             "startlinecolor": "#2a3f5f"
            },
            "baxis": {
             "endlinecolor": "#2a3f5f",
             "gridcolor": "white",
             "linecolor": "white",
             "minorgridcolor": "white",
             "startlinecolor": "#2a3f5f"
            },
            "type": "carpet"
           }
          ],
          "choropleth": [
           {
            "colorbar": {
             "outlinewidth": 0,
             "ticks": ""
            },
            "type": "choropleth"
           }
          ],
          "contour": [
           {
            "colorbar": {
             "outlinewidth": 0,
             "ticks": ""
            },
            "colorscale": [
             [
              0,
              "#0d0887"
             ],
             [
              0.1111111111111111,
              "#46039f"
             ],
             [
              0.2222222222222222,
              "#7201a8"
             ],
             [
              0.3333333333333333,
              "#9c179e"
             ],
             [
              0.4444444444444444,
              "#bd3786"
             ],
             [
              0.5555555555555556,
              "#d8576b"
             ],
             [
              0.6666666666666666,
              "#ed7953"
             ],
             [
              0.7777777777777778,
              "#fb9f3a"
             ],
             [
              0.8888888888888888,
              "#fdca26"
             ],
             [
              1,
              "#f0f921"
             ]
            ],
            "type": "contour"
           }
          ],
          "contourcarpet": [
           {
            "colorbar": {
             "outlinewidth": 0,
             "ticks": ""
            },
            "type": "contourcarpet"
           }
          ],
          "heatmap": [
           {
            "colorbar": {
             "outlinewidth": 0,
             "ticks": ""
            },
            "colorscale": [
             [
              0,
              "#0d0887"
             ],
             [
              0.1111111111111111,
              "#46039f"
             ],
             [
              0.2222222222222222,
              "#7201a8"
             ],
             [
              0.3333333333333333,
              "#9c179e"
             ],
             [
              0.4444444444444444,
              "#bd3786"
             ],
             [
              0.5555555555555556,
              "#d8576b"
             ],
             [
              0.6666666666666666,
              "#ed7953"
             ],
             [
              0.7777777777777778,
              "#fb9f3a"
             ],
             [
              0.8888888888888888,
              "#fdca26"
             ],
             [
              1,
              "#f0f921"
             ]
            ],
            "type": "heatmap"
           }
          ],
          "histogram": [
           {
            "marker": {
             "pattern": {
              "fillmode": "overlay",
              "size": 10,
              "solidity": 0.2
             }
            },
            "type": "histogram"
           }
          ],
          "histogram2d": [
           {
            "colorbar": {
             "outlinewidth": 0,
             "ticks": ""
            },
            "colorscale": [
             [
              0,
              "#0d0887"
             ],
             [
              0.1111111111111111,
              "#46039f"
             ],
             [
              0.2222222222222222,
              "#7201a8"
             ],
             [
              0.3333333333333333,
              "#9c179e"
             ],
             [
              0.4444444444444444,
              "#bd3786"
             ],
             [
              0.5555555555555556,
              "#d8576b"
             ],
             [
              0.6666666666666666,
              "#ed7953"
             ],
             [
              0.7777777777777778,
              "#fb9f3a"
             ],
             [
              0.8888888888888888,
              "#fdca26"
             ],
             [
              1,
              "#f0f921"
             ]
            ],
            "type": "histogram2d"
           }
          ],
          "histogram2dcontour": [
           {
            "colorbar": {
             "outlinewidth": 0,
             "ticks": ""
            },
            "colorscale": [
             [
              0,
              "#0d0887"
             ],
             [
              0.1111111111111111,
              "#46039f"
             ],
             [
              0.2222222222222222,
              "#7201a8"
             ],
             [
              0.3333333333333333,
              "#9c179e"
             ],
             [
              0.4444444444444444,
              "#bd3786"
             ],
             [
              0.5555555555555556,
              "#d8576b"
             ],
             [
              0.6666666666666666,
              "#ed7953"
             ],
             [
              0.7777777777777778,
              "#fb9f3a"
             ],
             [
              0.8888888888888888,
              "#fdca26"
             ],
             [
              1,
              "#f0f921"
             ]
            ],
            "type": "histogram2dcontour"
           }
          ],
          "mesh3d": [
           {
            "colorbar": {
             "outlinewidth": 0,
             "ticks": ""
            },
            "type": "mesh3d"
           }
          ],
          "parcoords": [
           {
            "line": {
             "colorbar": {
              "outlinewidth": 0,
              "ticks": ""
             }
            },
            "type": "parcoords"
           }
          ],
          "pie": [
           {
            "automargin": true,
            "type": "pie"
           }
          ],
          "scatter": [
           {
            "fillpattern": {
             "fillmode": "overlay",
             "size": 10,
             "solidity": 0.2
            },
            "type": "scatter"
           }
          ],
          "scatter3d": [
           {
            "line": {
             "colorbar": {
              "outlinewidth": 0,
              "ticks": ""
             }
            },
            "marker": {
             "colorbar": {
              "outlinewidth": 0,
              "ticks": ""
             }
            },
            "type": "scatter3d"
           }
          ],
          "scattercarpet": [
           {
            "marker": {
             "colorbar": {
              "outlinewidth": 0,
              "ticks": ""
             }
            },
            "type": "scattercarpet"
           }
          ],
          "scattergeo": [
           {
            "marker": {
             "colorbar": {
              "outlinewidth": 0,
              "ticks": ""
             }
            },
            "type": "scattergeo"
           }
          ],
          "scattergl": [
           {
            "marker": {
             "colorbar": {
              "outlinewidth": 0,
              "ticks": ""
             }
            },
            "type": "scattergl"
           }
          ],
          "scattermap": [
           {
            "marker": {
             "colorbar": {
              "outlinewidth": 0,
              "ticks": ""
             }
            },
            "type": "scattermap"
           }
          ],
          "scattermapbox": [
           {
            "marker": {
             "colorbar": {
              "outlinewidth": 0,
              "ticks": ""
             }
            },
            "type": "scattermapbox"
           }
          ],
          "scatterpolar": [
           {
            "marker": {
             "colorbar": {
              "outlinewidth": 0,
              "ticks": ""
             }
            },
            "type": "scatterpolar"
           }
          ],
          "scatterpolargl": [
           {
            "marker": {
             "colorbar": {
              "outlinewidth": 0,
              "ticks": ""
             }
            },
            "type": "scatterpolargl"
           }
          ],
          "scatterternary": [
           {
            "marker": {
             "colorbar": {
              "outlinewidth": 0,
              "ticks": ""
             }
            },
            "type": "scatterternary"
           }
          ],
          "surface": [
           {
            "colorbar": {
             "outlinewidth": 0,
             "ticks": ""
            },
            "colorscale": [
             [
              0,
              "#0d0887"
             ],
             [
              0.1111111111111111,
              "#46039f"
             ],
             [
              0.2222222222222222,
              "#7201a8"
             ],
             [
              0.3333333333333333,
              "#9c179e"
             ],
             [
              0.4444444444444444,
              "#bd3786"
             ],
             [
              0.5555555555555556,
              "#d8576b"
             ],
             [
              0.6666666666666666,
              "#ed7953"
             ],
             [
              0.7777777777777778,
              "#fb9f3a"
             ],
             [
              0.8888888888888888,
              "#fdca26"
             ],
             [
              1,
              "#f0f921"
             ]
            ],
            "type": "surface"
           }
          ],
          "table": [
           {
            "cells": {
             "fill": {
              "color": "#EBF0F8"
             },
             "line": {
              "color": "white"
             }
            },
            "header": {
             "fill": {
              "color": "#C8D4E3"
             },
             "line": {
              "color": "white"
             }
            },
            "type": "table"
           }
          ]
         },
         "layout": {
          "annotationdefaults": {
           "arrowcolor": "#2a3f5f",
           "arrowhead": 0,
           "arrowwidth": 1
          },
          "autotypenumbers": "strict",
          "coloraxis": {
           "colorbar": {
            "outlinewidth": 0,
            "ticks": ""
           }
          },
          "colorscale": {
           "diverging": [
            [
             0,
             "#8e0152"
            ],
            [
             0.1,
             "#c51b7d"
            ],
            [
             0.2,
             "#de77ae"
            ],
            [
             0.3,
             "#f1b6da"
            ],
            [
             0.4,
             "#fde0ef"
            ],
            [
             0.5,
             "#f7f7f7"
            ],
            [
             0.6,
             "#e6f5d0"
            ],
            [
             0.7,
             "#b8e186"
            ],
            [
             0.8,
             "#7fbc41"
            ],
            [
             0.9,
             "#4d9221"
            ],
            [
             1,
             "#276419"
            ]
           ],
           "sequential": [
            [
             0,
             "#0d0887"
            ],
            [
             0.1111111111111111,
             "#46039f"
            ],
            [
             0.2222222222222222,
             "#7201a8"
            ],
            [
             0.3333333333333333,
             "#9c179e"
            ],
            [
             0.4444444444444444,
             "#bd3786"
            ],
            [
             0.5555555555555556,
             "#d8576b"
            ],
            [
             0.6666666666666666,
             "#ed7953"
            ],
            [
             0.7777777777777778,
             "#fb9f3a"
            ],
            [
             0.8888888888888888,
             "#fdca26"
            ],
            [
             1,
             "#f0f921"
            ]
           ],
           "sequentialminus": [
            [
             0,
             "#0d0887"
            ],
            [
             0.1111111111111111,
             "#46039f"
            ],
            [
             0.2222222222222222,
             "#7201a8"
            ],
            [
             0.3333333333333333,
             "#9c179e"
            ],
            [
             0.4444444444444444,
             "#bd3786"
            ],
            [
             0.5555555555555556,
             "#d8576b"
            ],
            [
             0.6666666666666666,
             "#ed7953"
            ],
            [
             0.7777777777777778,
             "#fb9f3a"
            ],
            [
             0.8888888888888888,
             "#fdca26"
            ],
            [
             1,
             "#f0f921"
            ]
           ]
          },
          "colorway": [
           "#636efa",
           "#EF553B",
           "#00cc96",
           "#ab63fa",
           "#FFA15A",
           "#19d3f3",
           "#FF6692",
           "#B6E880",
           "#FF97FF",
           "#FECB52"
          ],
          "font": {
           "color": "#2a3f5f"
          },
          "geo": {
           "bgcolor": "white",
           "lakecolor": "white",
           "landcolor": "#E5ECF6",
           "showlakes": true,
           "showland": true,
           "subunitcolor": "white"
          },
          "hoverlabel": {
           "align": "left"
          },
          "hovermode": "closest",
          "mapbox": {
           "style": "light"
          },
          "paper_bgcolor": "white",
          "plot_bgcolor": "#E5ECF6",
          "polar": {
           "angularaxis": {
            "gridcolor": "white",
            "linecolor": "white",
            "ticks": ""
           },
           "bgcolor": "#E5ECF6",
           "radialaxis": {
            "gridcolor": "white",
            "linecolor": "white",
            "ticks": ""
           }
          },
          "scene": {
           "xaxis": {
            "backgroundcolor": "#E5ECF6",
            "gridcolor": "white",
            "gridwidth": 2,
            "linecolor": "white",
            "showbackground": true,
            "ticks": "",
            "zerolinecolor": "white"
           },
           "yaxis": {
            "backgroundcolor": "#E5ECF6",
            "gridcolor": "white",
            "gridwidth": 2,
            "linecolor": "white",
            "showbackground": true,
            "ticks": "",
            "zerolinecolor": "white"
           },
           "zaxis": {
            "backgroundcolor": "#E5ECF6",
            "gridcolor": "white",
            "gridwidth": 2,
            "linecolor": "white",
            "showbackground": true,
            "ticks": "",
            "zerolinecolor": "white"
           }
          },
          "shapedefaults": {
           "line": {
            "color": "#2a3f5f"
           }
          },
          "ternary": {
           "aaxis": {
            "gridcolor": "white",
            "linecolor": "white",
            "ticks": ""
           },
           "baxis": {
            "gridcolor": "white",
            "linecolor": "white",
            "ticks": ""
           },
           "bgcolor": "#E5ECF6",
           "caxis": {
            "gridcolor": "white",
            "linecolor": "white",
            "ticks": ""
           }
          },
          "title": {
           "x": 0.05
          },
          "xaxis": {
           "automargin": true,
           "gridcolor": "white",
           "linecolor": "white",
           "ticks": "",
           "title": {
            "standoff": 15
           },
           "zerolinecolor": "white",
           "zerolinewidth": 2
          },
          "yaxis": {
           "automargin": true,
           "gridcolor": "white",
           "linecolor": "white",
           "ticks": "",
           "title": {
            "standoff": 15
           },
           "zerolinecolor": "white",
           "zerolinewidth": 2
          }
         }
        },
        "title": {
         "text": "Deaths per 100 Cases by Region"
        },
        "xaxis": {
         "anchor": "y",
         "domain": [
          0,
          1
         ],
         "title": {
          "text": "WHO Region"
         }
        },
        "yaxis": {
         "anchor": "x",
         "domain": [
          0,
          1
         ],
         "title": {
          "text": "Deaths / 100 Cases"
         }
        }
       }
      }
     },
     "metadata": {},
     "output_type": "display_data"
    },
    {
     "data": {
      "application/vnd.plotly.v1+json": {
       "config": {
        "plotlyServerURL": "https://plot.ly"
       },
       "data": [
        {
         "hovertemplate": "WHO Region=Eastern Mediterranean<br>Confirmed last week=%{x}<br>1 week change=%{y}<extra></extra>",
         "legendgroup": "Eastern Mediterranean",
         "marker": {
          "color": "#636efa",
          "symbol": "circle"
         },
         "mode": "markers",
         "name": "Eastern Mediterranean",
         "orientation": "v",
         "showlegend": true,
         "type": "scatter",
         "x": {
          "bdata": "xooAAEiQAACcEwAAUlkBAOo2BADlcQEAxwQAAHPpAABZCwAAvAcAAJpEAAAwCwEAcA8EAB2iAQCl3QMAOgwAAPAqAAAKAgAAZQUAAGnfAADUIgAAUwYAAA==",
          "dtype": "i4"
         },
         "xaxis": "x",
         "y": {
          "bdata": "4QLyCScA8A/8Q+RF0f8IEtEDTwP9DNIhASAACuE8QgCwAZgASgDAB6kGSAA=",
          "dtype": "i2"
         },
         "yaxis": "y"
        },
        {
         "hovertemplate": "WHO Region=Europe<br>Confirmed last week=%{x}<br>1 week change=%{y}<extra></extra>",
         "legendgroup": "Europe",
         "marker": {
          "color": "#EF553B",
          "symbol": "circle"
         },
         "mode": "markers",
         "name": "Europe",
         "orientation": "v",
         "showlegend": true,
         "type": "scatter",
         "x": {
          "bdata": "SxAAAHQDAACliAAAH00AAPJsAAClAgEAXvoAAB8hAADhIgAAEhEAAA4EAAASNwAAjTQAAOUHAACsHAAAB0QDAA8EAAA9GgMArA8AAA0AAAAMAAAA8xAAAC8HAACmZAAAI8sAAJC7AwD8HgEA9RYAAAdqAACoBAAAVgAAAJsHAAAHFgAApQIAAHtSAABtAAAAjAgAAKTLAAAhJAAASiMAAL+dAACDvgAA+5QAABTYCwC7AgAABVMAALwHAAChBwAAhAoEAOAwAQBigwAACRsAAJxdAwBf7QAA8IcEAP1CAAA=",
          "dtype": "i4"
         },
         "xaxis": "x",
         "y": {
          "bdata": "xQIAABcAAABpCQAALwMAAPwJAAAOBAAAHgkAAOMHAACcBgAA/wEAABYAAACKBQAANAEAAA0AAAA6AAAAuRgAAGIAAADLDgAA1wAAAAEAAAAAAAAAbQAAAA8AAAB+AAAAzi4AAH4GAACsKwAAAAYAAAkYAAAbAAAAAAAAAEgAAACqAgAAGAAAAPcHAAAHAAAAwQIAAAEFAADEAwAAYgAAAMsLAAD4BQAAUx4AABSeAAAAAAAASAsAAMkAAACGAAAAoR0AAEMFAABLAwAAOgEAAC8ZAAC5GAAAnBIAANwPAAA=",
          "dtype": "i4"
         },
         "yaxis": "y"
        },
        {
         "hovertemplate": "WHO Region=Africa<br>Confirmed last week=%{x}<br>1 week change=%{y}<extra></extra>",
         "legendgroup": "Africa",
         "marker": {
          "color": "#00cc96",
          "symbol": "circle"
         },
         "mode": "markers",
         "name": "Africa",
         "orientation": "v",
         "showlegend": true,
         "type": "scatter",
         "x": {
          "bdata": "i1wAAO0CAABCBgAACgIAACkEAABCAQAAFwgAAB0/AADEEQAAeQMAAE4BAAAjCwAA+yAAAOg3AAD/CwAA+wAAACIHAADfJwAAIRkAAHAAAAAObwAAvhkAAJ0HAADLNQAAZwEAAFMEAADxGwAAsAsAAKsJAAAjFwAAVwEAAOMFAABABQAAUQQAAGmRAABdBgAA6gIAAPQiAABsAAAArwYAAHyzBQCjCAAA/QEAAA8DAAAtBAAACgAAAP4MAACxBgAA",
          "dtype": "i4"
         },
         "xaxis": "x",
         "y": {
          "bdata": "uhAAAMkAAACoAAAA2QAAACMAAAA4AAAAAQEAALkDAAAzAAAAIQAAABQAAABdAQAAkQEAAD8FAAAAAAAADgAAAOoBAAD0EAAA9AIAANYAAABKFAAA0QEAAAUAAABsEAAAkgAAADwAAADpCQAAoAIAACYAAAAdAQAAAQAAAMIAAADzAQAAGwAAAHMPAAD6AAAAdwAAADADAAAGAAAASAAAADU0AQBeAAAAAAAAAFsAAAA7AAAAAAAAAMoEAADfAwAA",
          "dtype": "i4"
         },
         "yaxis": "y"
        },
        {
         "hovertemplate": "WHO Region=Americas<br>Confirmed last week=%{x}<br>1 week change=%{y}<extra></extra>",
         "legendgroup": "Americas",
         "marker": {
          "color": "#ab63fa",
          "symbol": "circle"
         },
         "mode": "markers",
         "name": "Americas",
         "orientation": "v",
         "showlegend": true,
         "type": "scatter",
         "x": {
          "bdata": "TAAAANb+AQCuAAAAagAAACgAAAA/7gAA9lMgAB25AQDlFAUA5RwDAA4tAACOCQAAEgAAAMTSAAB8IwEAry8AABcAAAB/mAAAUQEAAI0bAAAzhwAAKQMAANRUBQBLDAAAmtQAAKQOAAAxdQUAEQAAABcAAAAyAAAANwQAAIkAAAA1gzoAKAQAAC4wAAA=",
          "dtype": "i4"
         },
         "xaxis": "x",
         "y": {
          "bdata": "CgAAACKPAADQAAAABAAAAAgAAADOJwAAkfAEAM0NAAAuOgAAaM8AANMQAABWAAAAAAAAANgnAACNGQAADAsAAAAAAAB+GAAANAAAAB8BAAAKFAAALAAAAA20AAAkAQAAaBsAACADAAAkfQAAAAAAAAEAAAACAAAAlAEAAAsAAACe8wYAigAAAEYOAAA=",
          "dtype": "i4"
         },
         "yaxis": "y"
        },
        {
         "hovertemplate": "WHO Region=Western Pacific<br>Confirmed last week=%{x}<br>1 week change=%{y}<extra></extra>",
         "legendgroup": "Western Pacific",
         "marker": {
          "color": "#FFA15A",
          "symbol": "circle"
         },
         "mode": "markers",
         "name": "Western Pacific",
         "orientation": "v",
         "showlegend": true,
         "type": "scatter",
         "x": {
          "bdata": "jDAAAI0AAACrAAAAdk4BABsAAABqZAAAEwAAAGAiAAAfAQAAEwYAABMAAAAiDQEAo7sAAPg1AADDAQAAgAEAAA==",
          "dtype": "i4"
         },
         "xaxis": "x",
         "y": {
          "bdata": "OwsAADcAiQQAADwVAQBoAAIAAgArAFYz8wqDAQsALwA=",
          "dtype": "i2"
         },
         "yaxis": "y"
        },
        {
         "hovertemplate": "WHO Region=South-East Asia<br>Confirmed last week=%{x}<br>1 week change=%{y}<extra></extra>",
         "legendgroup": "South-East Asia",
         "marker": {
          "color": "#19d3f3",
          "symbol": "circle"
         },
         "mode": "markers",
         "name": "South-East Asia",
         "orientation": "v",
         "showlegend": true,
         "type": "scatter",
         "x": {
          "bdata": "XSoDAFoAAABVAQAACqERAJZYAQC3CwAAtEUAAKoKAACyDAAAGAAAAA==",
          "dtype": "i4"
         },
         "xaxis": "x",
         "y": {
          "bdata": "VEkAAAkAAAAJAAAAf/QEADkvAAByAQAAjAMAAEsAAAAvAAAAAAAAAA==",
          "dtype": "i4"
         },
         "yaxis": "y"
        }
       ],
       "layout": {
        "legend": {
         "title": {
          "text": "WHO Region"
         },
         "tracegroupgap": 0
        },
        "template": {
         "data": {
          "bar": [
           {
            "error_x": {
             "color": "#2a3f5f"
            },
            "error_y": {
             "color": "#2a3f5f"
            },
            "marker": {
             "line": {
              "color": "#E5ECF6",
              "width": 0.5
             },
             "pattern": {
              "fillmode": "overlay",
              "size": 10,
              "solidity": 0.2
             }
            },
            "type": "bar"
           }
          ],
          "barpolar": [
           {
            "marker": {
             "line": {
              "color": "#E5ECF6",
              "width": 0.5
             },
             "pattern": {
              "fillmode": "overlay",
              "size": 10,
              "solidity": 0.2
             }
            },
            "type": "barpolar"
           }
          ],
          "carpet": [
           {
            "aaxis": {
             "endlinecolor": "#2a3f5f",
             "gridcolor": "white",
             "linecolor": "white",
             "minorgridcolor": "white",
             "startlinecolor": "#2a3f5f"
            },
            "baxis": {
             "endlinecolor": "#2a3f5f",
             "gridcolor": "white",
             "linecolor": "white",
             "minorgridcolor": "white",
             "startlinecolor": "#2a3f5f"
            },
            "type": "carpet"
           }
          ],
          "choropleth": [
           {
            "colorbar": {
             "outlinewidth": 0,
             "ticks": ""
            },
            "type": "choropleth"
           }
          ],
          "contour": [
           {
            "colorbar": {
             "outlinewidth": 0,
             "ticks": ""
            },
            "colorscale": [
             [
              0,
              "#0d0887"
             ],
             [
              0.1111111111111111,
              "#46039f"
             ],
             [
              0.2222222222222222,
              "#7201a8"
             ],
             [
              0.3333333333333333,
              "#9c179e"
             ],
             [
              0.4444444444444444,
              "#bd3786"
             ],
             [
              0.5555555555555556,
              "#d8576b"
             ],
             [
              0.6666666666666666,
              "#ed7953"
             ],
             [
              0.7777777777777778,
              "#fb9f3a"
             ],
             [
              0.8888888888888888,
              "#fdca26"
             ],
             [
              1,
              "#f0f921"
             ]
            ],
            "type": "contour"
           }
          ],
          "contourcarpet": [
           {
            "colorbar": {
             "outlinewidth": 0,
             "ticks": ""
            },
            "type": "contourcarpet"
           }
          ],
          "heatmap": [
           {
            "colorbar": {
             "outlinewidth": 0,
             "ticks": ""
            },
            "colorscale": [
             [
              0,
              "#0d0887"
             ],
             [
              0.1111111111111111,
              "#46039f"
             ],
             [
              0.2222222222222222,
              "#7201a8"
             ],
             [
              0.3333333333333333,
              "#9c179e"
             ],
             [
              0.4444444444444444,
              "#bd3786"
             ],
             [
              0.5555555555555556,
              "#d8576b"
             ],
             [
              0.6666666666666666,
              "#ed7953"
             ],
             [
              0.7777777777777778,
              "#fb9f3a"
             ],
             [
              0.8888888888888888,
              "#fdca26"
             ],
             [
              1,
              "#f0f921"
             ]
            ],
            "type": "heatmap"
           }
          ],
          "histogram": [
           {
            "marker": {
             "pattern": {
              "fillmode": "overlay",
              "size": 10,
              "solidity": 0.2
             }
            },
            "type": "histogram"
           }
          ],
          "histogram2d": [
           {
            "colorbar": {
             "outlinewidth": 0,
             "ticks": ""
            },
            "colorscale": [
             [
              0,
              "#0d0887"
             ],
             [
              0.1111111111111111,
              "#46039f"
             ],
             [
              0.2222222222222222,
              "#7201a8"
             ],
             [
              0.3333333333333333,
              "#9c179e"
             ],
             [
              0.4444444444444444,
              "#bd3786"
             ],
             [
              0.5555555555555556,
              "#d8576b"
             ],
             [
              0.6666666666666666,
              "#ed7953"
             ],
             [
              0.7777777777777778,
              "#fb9f3a"
             ],
             [
              0.8888888888888888,
              "#fdca26"
             ],
             [
              1,
              "#f0f921"
             ]
            ],
            "type": "histogram2d"
           }
          ],
          "histogram2dcontour": [
           {
            "colorbar": {
             "outlinewidth": 0,
             "ticks": ""
            },
            "colorscale": [
             [
              0,
              "#0d0887"
             ],
             [
              0.1111111111111111,
              "#46039f"
             ],
             [
              0.2222222222222222,
              "#7201a8"
             ],
             [
              0.3333333333333333,
              "#9c179e"
             ],
             [
              0.4444444444444444,
              "#bd3786"
             ],
             [
              0.5555555555555556,
              "#d8576b"
             ],
             [
              0.6666666666666666,
              "#ed7953"
             ],
             [
              0.7777777777777778,
              "#fb9f3a"
             ],
             [
              0.8888888888888888,
              "#fdca26"
             ],
             [
              1,
              "#f0f921"
             ]
            ],
            "type": "histogram2dcontour"
           }
          ],
          "mesh3d": [
           {
            "colorbar": {
             "outlinewidth": 0,
             "ticks": ""
            },
            "type": "mesh3d"
           }
          ],
          "parcoords": [
           {
            "line": {
             "colorbar": {
              "outlinewidth": 0,
              "ticks": ""
             }
            },
            "type": "parcoords"
           }
          ],
          "pie": [
           {
            "automargin": true,
            "type": "pie"
           }
          ],
          "scatter": [
           {
            "fillpattern": {
             "fillmode": "overlay",
             "size": 10,
             "solidity": 0.2
            },
            "type": "scatter"
           }
          ],
          "scatter3d": [
           {
            "line": {
             "colorbar": {
              "outlinewidth": 0,
              "ticks": ""
             }
            },
            "marker": {
             "colorbar": {
              "outlinewidth": 0,
              "ticks": ""
             }
            },
            "type": "scatter3d"
           }
          ],
          "scattercarpet": [
           {
            "marker": {
             "colorbar": {
              "outlinewidth": 0,
              "ticks": ""
             }
            },
            "type": "scattercarpet"
           }
          ],
          "scattergeo": [
           {
            "marker": {
             "colorbar": {
              "outlinewidth": 0,
              "ticks": ""
             }
            },
            "type": "scattergeo"
           }
          ],
          "scattergl": [
           {
            "marker": {
             "colorbar": {
              "outlinewidth": 0,
              "ticks": ""
             }
            },
            "type": "scattergl"
           }
          ],
          "scattermap": [
           {
            "marker": {
             "colorbar": {
              "outlinewidth": 0,
              "ticks": ""
             }
            },
            "type": "scattermap"
           }
          ],
          "scattermapbox": [
           {
            "marker": {
             "colorbar": {
              "outlinewidth": 0,
              "ticks": ""
             }
            },
            "type": "scattermapbox"
           }
          ],
          "scatterpolar": [
           {
            "marker": {
             "colorbar": {
              "outlinewidth": 0,
              "ticks": ""
             }
            },
            "type": "scatterpolar"
           }
          ],
          "scatterpolargl": [
           {
            "marker": {
             "colorbar": {
              "outlinewidth": 0,
              "ticks": ""
             }
            },
            "type": "scatterpolargl"
           }
          ],
          "scatterternary": [
           {
            "marker": {
             "colorbar": {
              "outlinewidth": 0,
              "ticks": ""
             }
            },
            "type": "scatterternary"
           }
          ],
          "surface": [
           {
            "colorbar": {
             "outlinewidth": 0,
             "ticks": ""
            },
            "colorscale": [
             [
              0,
              "#0d0887"
             ],
             [
              0.1111111111111111,
              "#46039f"
             ],
             [
              0.2222222222222222,
              "#7201a8"
             ],
             [
              0.3333333333333333,
              "#9c179e"
             ],
             [
              0.4444444444444444,
              "#bd3786"
             ],
             [
              0.5555555555555556,
              "#d8576b"
             ],
             [
              0.6666666666666666,
              "#ed7953"
             ],
             [
              0.7777777777777778,
              "#fb9f3a"
             ],
             [
              0.8888888888888888,
              "#fdca26"
             ],
             [
              1,
              "#f0f921"
             ]
            ],
            "type": "surface"
           }
          ],
          "table": [
           {
            "cells": {
             "fill": {
              "color": "#EBF0F8"
             },
             "line": {
              "color": "white"
             }
            },
            "header": {
             "fill": {
              "color": "#C8D4E3"
             },
             "line": {
              "color": "white"
             }
            },
            "type": "table"
           }
          ]
         },
         "layout": {
          "annotationdefaults": {
           "arrowcolor": "#2a3f5f",
           "arrowhead": 0,
           "arrowwidth": 1
          },
          "autotypenumbers": "strict",
          "coloraxis": {
           "colorbar": {
            "outlinewidth": 0,
            "ticks": ""
           }
          },
          "colorscale": {
           "diverging": [
            [
             0,
             "#8e0152"
            ],
            [
             0.1,
             "#c51b7d"
            ],
            [
             0.2,
             "#de77ae"
            ],
            [
             0.3,
             "#f1b6da"
            ],
            [
             0.4,
             "#fde0ef"
            ],
            [
             0.5,
             "#f7f7f7"
            ],
            [
             0.6,
             "#e6f5d0"
            ],
            [
             0.7,
             "#b8e186"
            ],
            [
             0.8,
             "#7fbc41"
            ],
            [
             0.9,
             "#4d9221"
            ],
            [
             1,
             "#276419"
            ]
           ],
           "sequential": [
            [
             0,
             "#0d0887"
            ],
            [
             0.1111111111111111,
             "#46039f"
            ],
            [
             0.2222222222222222,
             "#7201a8"
            ],
            [
             0.3333333333333333,
             "#9c179e"
            ],
            [
             0.4444444444444444,
             "#bd3786"
            ],
            [
             0.5555555555555556,
             "#d8576b"
            ],
            [
             0.6666666666666666,
             "#ed7953"
            ],
            [
             0.7777777777777778,
             "#fb9f3a"
            ],
            [
             0.8888888888888888,
             "#fdca26"
            ],
            [
             1,
             "#f0f921"
            ]
           ],
           "sequentialminus": [
            [
             0,
             "#0d0887"
            ],
            [
             0.1111111111111111,
             "#46039f"
            ],
            [
             0.2222222222222222,
             "#7201a8"
            ],
            [
             0.3333333333333333,
             "#9c179e"
            ],
            [
             0.4444444444444444,
             "#bd3786"
            ],
            [
             0.5555555555555556,
             "#d8576b"
            ],
            [
             0.6666666666666666,
             "#ed7953"
            ],
            [
             0.7777777777777778,
             "#fb9f3a"
            ],
            [
             0.8888888888888888,
             "#fdca26"
            ],
            [
             1,
             "#f0f921"
            ]
           ]
          },
          "colorway": [
           "#636efa",
           "#EF553B",
           "#00cc96",
           "#ab63fa",
           "#FFA15A",
           "#19d3f3",
           "#FF6692",
           "#B6E880",
           "#FF97FF",
           "#FECB52"
          ],
          "font": {
           "color": "#2a3f5f"
          },
          "geo": {
           "bgcolor": "white",
           "lakecolor": "white",
           "landcolor": "#E5ECF6",
           "showlakes": true,
           "showland": true,
           "subunitcolor": "white"
          },
          "hoverlabel": {
           "align": "left"
          },
          "hovermode": "closest",
          "mapbox": {
           "style": "light"
          },
          "paper_bgcolor": "white",
          "plot_bgcolor": "#E5ECF6",
          "polar": {
           "angularaxis": {
            "gridcolor": "white",
            "linecolor": "white",
            "ticks": ""
           },
           "bgcolor": "#E5ECF6",
           "radialaxis": {
            "gridcolor": "white",
            "linecolor": "white",
            "ticks": ""
           }
          },
          "scene": {
           "xaxis": {
            "backgroundcolor": "#E5ECF6",
            "gridcolor": "white",
            "gridwidth": 2,
            "linecolor": "white",
            "showbackground": true,
            "ticks": "",
            "zerolinecolor": "white"
           },
           "yaxis": {
            "backgroundcolor": "#E5ECF6",
            "gridcolor": "white",
            "gridwidth": 2,
            "linecolor": "white",
            "showbackground": true,
            "ticks": "",
            "zerolinecolor": "white"
           },
           "zaxis": {
            "backgroundcolor": "#E5ECF6",
            "gridcolor": "white",
            "gridwidth": 2,
            "linecolor": "white",
            "showbackground": true,
            "ticks": "",
            "zerolinecolor": "white"
           }
          },
          "shapedefaults": {
           "line": {
            "color": "#2a3f5f"
           }
          },
          "ternary": {
           "aaxis": {
            "gridcolor": "white",
            "linecolor": "white",
            "ticks": ""
           },
           "baxis": {
            "gridcolor": "white",
            "linecolor": "white",
            "ticks": ""
           },
           "bgcolor": "#E5ECF6",
           "caxis": {
            "gridcolor": "white",
            "linecolor": "white",
            "ticks": ""
           }
          },
          "title": {
           "x": 0.05
          },
          "xaxis": {
           "automargin": true,
           "gridcolor": "white",
           "linecolor": "white",
           "ticks": "",
           "title": {
            "standoff": 15
           },
           "zerolinecolor": "white",
           "zerolinewidth": 2
          },
          "yaxis": {
           "automargin": true,
           "gridcolor": "white",
           "linecolor": "white",
           "ticks": "",
           "title": {
            "standoff": 15
           },
           "zerolinecolor": "white",
           "zerolinewidth": 2
          }
         }
        },
        "title": {
         "text": "Weekly Change in Confirmed Cases"
        },
        "xaxis": {
         "anchor": "y",
         "domain": [
          0,
          1
         ],
         "title": {
          "text": "Confirmed last week"
         }
        },
        "yaxis": {
         "anchor": "x",
         "domain": [
          0,
          1
         ],
         "title": {
          "text": "1 week change"
         }
        }
       }
      }
     },
     "metadata": {},
     "output_type": "display_data"
    },
    {
     "data": {
      "application/vnd.plotly.v1+json": {
       "config": {
        "plotlyServerURL": "https://plot.ly"
       },
       "data": [
        {
         "alignmentgroup": "True",
         "box": {
          "visible": true
         },
         "hovertemplate": "WHO Region=%{x}<br>Deaths / 100 Cases=%{y}<extra></extra>",
         "legendgroup": "",
         "marker": {
          "color": "#636efa"
         },
         "name": "",
         "offsetgroup": "",
         "orientation": "v",
         "scalegroup": "True",
         "showlegend": false,
         "type": "violin",
         "x": [
          "Eastern Mediterranean",
          "Europe",
          "Africa",
          "Europe",
          "Africa",
          "Americas",
          "Americas",
          "Europe",
          "Western Pacific",
          "Europe",
          "Europe",
          "Americas",
          "Eastern Mediterranean",
          "South-East Asia",
          "Americas",
          "Europe",
          "Europe",
          "Americas",
          "Africa",
          "South-East Asia",
          "Americas",
          "Europe",
          "Africa",
          "Americas",
          "Western Pacific",
          "Europe",
          "Africa",
          "South-East Asia",
          "Africa",
          "Africa",
          "Western Pacific",
          "Africa",
          "Americas",
          "Africa",
          "Africa",
          "Americas",
          "Western Pacific",
          "Americas",
          "Africa",
          "Africa",
          "Africa",
          "Americas",
          "Africa",
          "Europe",
          "Americas",
          "Europe",
          "Europe",
          "Europe",
          "Eastern Mediterranean",
          "Americas",
          "Americas",
          "Americas",
          "Eastern Mediterranean",
          "Americas",
          "Africa",
          "Africa",
          "Europe",
          "Africa",
          "Africa",
          "Western Pacific",
          "Europe",
          "Europe",
          "Africa",
          "Africa",
          "Europe",
          "Europe",
          "Africa",
          "Europe",
          "Europe",
          "Americas",
          "Americas",
          "Africa",
          "Africa",
          "Americas",
          "Americas",
          "Europe",
          "Americas",
          "Europe",
          "Europe",
          "South-East Asia",
          "South-East Asia",
          "Eastern Mediterranean",
          "Eastern Mediterranean",
          "Europe",
          "Europe",
          "Europe",
          "Americas",
          "Western Pacific",
          "Eastern Mediterranean",
          "Europe",
          "Africa",
          "Europe",
          "Eastern Mediterranean",
          "Europe",
          "Western Pacific",
          "Europe",
          "Eastern Mediterranean",
          "Africa",
          "Africa",
          "Eastern Mediterranean",
          "Europe",
          "Europe",
          "Europe",
          "Africa",
          "Africa",
          "Western Pacific",
          "South-East Asia",
          "Africa",
          "Europe",
          "Africa",
          "Africa",
          "Americas",
          "Europe",
          "Europe",
          "Western Pacific",
          "Europe",
          "Eastern Mediterranean",
          "Africa",
          "Africa",
          "South-East Asia",
          "Europe",
          "Western Pacific",
          "Americas",
          "Africa",
          "Africa",
          "Europe",
          "Europe",
          "Eastern Mediterranean",
          "Eastern Mediterranean",
          "Americas",
          "Western Pacific",
          "Americas",
          "Americas",
          "Western Pacific",
          "Europe",
          "Europe",
          "Eastern Mediterranean",
          "Europe",
          "Europe",
          "Africa",
          "Americas",
          "Americas",
          "Americas",
          "Europe",
          "Africa",
          "Eastern Mediterranean",
          "Africa",
          "Europe",
          "Africa",
          "Africa",
          "Western Pacific",
          "Europe",
          "Europe",
          "Eastern Mediterranean",
          "Africa",
          "Western Pacific",
          "Africa",
          "Europe",
          "South-East Asia",
          "Eastern Mediterranean",
          "Americas",
          "Europe",
          "Europe",
          "Eastern Mediterranean",
          "Western Pacific",
          "Europe",
          "Africa",
          "South-East Asia",
          "South-East Asia",
          "Africa",
          "Americas",
          "Eastern Mediterranean",
          "Europe",
          "Americas",
          "Africa",
          "Europe",
          "Eastern Mediterranean",
          "Europe",
          "Americas",
          "Europe",
          "Americas",
          "Western Pacific",
          "Eastern Mediterranean",
          "Africa",
          "Eastern Mediterranean",
          "Africa",
          "Africa"
         ],
         "x0": " ",
         "xaxis": "x",
         "y": {
          "bdata": "AAAAAAAADECamZmZmZkHQKRwPQrXoxBA7FG4HoXrFkBI4XoUrkcRQOxRuB6F6wtASOF6FK5H/T9mZmZmZmb+P3E9CtejcPE/w/UoXI/CC0A9CtejcD32PwrXo3A9CgdACtejcD0K1z/2KFyPwvX0P3E9CtejcBlAmpmZmZmZ6T8UrkfhepQtQK5H4XoUrhBArkfhehSu/z8AAAAAAAAAAMP1KFyPwg1AZmZmZmZmBkBI4XoUrkfRP7gehetRuAxACtejcD0KAUApXI/C9SgKQEjhehSuRxNAXI/C9Shc+z+kcD0K16PQP2ZmZmZmZu4/AAAAAAAAAABSuB6F61ECQLgehetRuB5AexSuR+F69D/D9Shcj0IgQB+F61G4HgVAexSuR+F6FUBI4XoUrkcLQK5H4XoUrv8/CtejcD0K+z/NzMzMzMwCQFyPwvUoXOc/hetRuB6F4z/NzMzMzMwGQIXrUbgehQtApHA9Ctej/D8zMzMzMzMDQM3MzMzMzBFAZmZmZmZm8j8AAAAAAAAAAArXo3A9Cvs/SOF6FK5HG0AfhetRuB4UQK5H4XoUrgVAj8L1KFyP+j8AAAAAAAAAAB+F61G4HgtAhetRuB6F9z8fhetRuB75PwAAAAAAAAAAzczMzMzMEUDsUbgehWsrQMP1KFyPwuU/mpmZmZmZA0CPwvUoXI/2P6RwPQrXoxFAAAAAAAAA4D8fhetRuB4TQAAAAAAAAAAAAAAAAAAAAAAfhetRuB4PQHsUrkfheuQ/SOF6FK5H9T+PwvUoXI8UQDMzMzMzMwFAAAAAAAAAAABxPQrXo3AHQM3MzMzMzCpASOF6FK5H4T8UrkfhehQCQEjhehSuRxNArkfhehSuFUCuR+F6FK4PQD0K16NwPRtArkfhehSu5z+F61G4HoUsQLgehetRuPI/mpmZmZmZCUAUrkfhehTuPxSuR+F6FOY/cT0K16Nw+T8AAAAAAAAEQMP1KFyPwuU/SOF6FK5HD0AAAAAAAAAAAFK4HoXrUQRA9ihcj8L19D8K16NwPQoDQK5H4XoUrhhAFK5H4XoUAkCPwvUoXI/yP65H4XoUrg9AUrgehetR/D8UrkfhehTuP5qZmZmZmQVAPQrXo3A99j/NzMzMzMzcP7gehetRuBNAexSuR+F69D8UrkfhehQEQEjhehSuRwdAw/UoXI9CJkDXo3A9CtcJQJqZmZmZmQtAAAAAAAAAAAD2KFyPwvX4Pylcj8L1KPg/zczMzMzM5D+F61G4HoXbP6RwPQrXo9A/j8L1KFwPJ0CPwvUoXI/2Px+F61G4HglAZmZmZmZmGEC4HoXrUbgAQD0K16NwPRJAUrgehetRBkBSuB6F61HgPwrXo3A9CgFAMzMzMzMzAUAAAAAAAAAAAGZmZmZmZu4/7FG4HoXrEkD2KFyPwvUCQOF6FK5H4Q5AXI/C9ShcC0AzMzMzMzPDPz0K16NwPRNAFK5H4XoU+j9I4XoUrkfRPwAAAAAAAAAAAAAAAAAAAAAAAAAAAAAAAArXo3A9ChhA7FG4HoXr+T97FK5H4XrwP9ejcD0K1/8/AAAAAAAAAkAAAAAAAAAAAJqZmZmZmQ1AmpmZmZmZqT97FK5H4Xr0Pz0K16NwPRZASOF6FK5HB0D2KFyPwvX4P+F6FK5H4QBAAAAAAAAAAEDhehSuR+EkQPYoXI/C9dg/MzMzMzMzGUDsUbgehev5P7gehetRuBxA9ihcj8L1FkC4HoXrUbgXQFK4HoXrUfg/j8L1KFyP6j+F61G4HoUQQClcj8L1KPw/AAAAAAAAAAB7FK5H4XoAQKRwPQrXoxVAhetRuB6FC0DXo3A9CtcDQJqZmZmZmQtACtejcD0Kxz+F61G4HoUDQI/C9Shcj+I/4XoUrkdhLkBI4XoUrkcHQD0K16NwPeI/H4XrUbge7T8AAAAAAAAAAFyPwvUoXOc/AAAAAAAAJECPwvUoXI88QKRwPQrXowhASOF6FK5H9T8=",
          "dtype": "f8"
         },
         "y0": " ",
         "yaxis": "y"
        }
       ],
       "layout": {
        "legend": {
         "tracegroupgap": 0
        },
        "template": {
         "data": {
          "bar": [
           {
            "error_x": {
             "color": "#2a3f5f"
            },
            "error_y": {
             "color": "#2a3f5f"
            },
            "marker": {
             "line": {
              "color": "#E5ECF6",
              "width": 0.5
             },
             "pattern": {
              "fillmode": "overlay",
              "size": 10,
              "solidity": 0.2
             }
            },
            "type": "bar"
           }
          ],
          "barpolar": [
           {
            "marker": {
             "line": {
              "color": "#E5ECF6",
              "width": 0.5
             },
             "pattern": {
              "fillmode": "overlay",
              "size": 10,
              "solidity": 0.2
             }
            },
            "type": "barpolar"
           }
          ],
          "carpet": [
           {
            "aaxis": {
             "endlinecolor": "#2a3f5f",
             "gridcolor": "white",
             "linecolor": "white",
             "minorgridcolor": "white",
             "startlinecolor": "#2a3f5f"
            },
            "baxis": {
             "endlinecolor": "#2a3f5f",
             "gridcolor": "white",
             "linecolor": "white",
             "minorgridcolor": "white",
             "startlinecolor": "#2a3f5f"
            },
            "type": "carpet"
           }
          ],
          "choropleth": [
           {
            "colorbar": {
             "outlinewidth": 0,
             "ticks": ""
            },
            "type": "choropleth"
           }
          ],
          "contour": [
           {
            "colorbar": {
             "outlinewidth": 0,
             "ticks": ""
            },
            "colorscale": [
             [
              0,
              "#0d0887"
             ],
             [
              0.1111111111111111,
              "#46039f"
             ],
             [
              0.2222222222222222,
              "#7201a8"
             ],
             [
              0.3333333333333333,
              "#9c179e"
             ],
             [
              0.4444444444444444,
              "#bd3786"
             ],
             [
              0.5555555555555556,
              "#d8576b"
             ],
             [
              0.6666666666666666,
              "#ed7953"
             ],
             [
              0.7777777777777778,
              "#fb9f3a"
             ],
             [
              0.8888888888888888,
              "#fdca26"
             ],
             [
              1,
              "#f0f921"
             ]
            ],
            "type": "contour"
           }
          ],
          "contourcarpet": [
           {
            "colorbar": {
             "outlinewidth": 0,
             "ticks": ""
            },
            "type": "contourcarpet"
           }
          ],
          "heatmap": [
           {
            "colorbar": {
             "outlinewidth": 0,
             "ticks": ""
            },
            "colorscale": [
             [
              0,
              "#0d0887"
             ],
             [
              0.1111111111111111,
              "#46039f"
             ],
             [
              0.2222222222222222,
              "#7201a8"
             ],
             [
              0.3333333333333333,
              "#9c179e"
             ],
             [
              0.4444444444444444,
              "#bd3786"
             ],
             [
              0.5555555555555556,
              "#d8576b"
             ],
             [
              0.6666666666666666,
              "#ed7953"
             ],
             [
              0.7777777777777778,
              "#fb9f3a"
             ],
             [
              0.8888888888888888,
              "#fdca26"
             ],
             [
              1,
              "#f0f921"
             ]
            ],
            "type": "heatmap"
           }
          ],
          "histogram": [
           {
            "marker": {
             "pattern": {
              "fillmode": "overlay",
              "size": 10,
              "solidity": 0.2
             }
            },
            "type": "histogram"
           }
          ],
          "histogram2d": [
           {
            "colorbar": {
             "outlinewidth": 0,
             "ticks": ""
            },
            "colorscale": [
             [
              0,
              "#0d0887"
             ],
             [
              0.1111111111111111,
              "#46039f"
             ],
             [
              0.2222222222222222,
              "#7201a8"
             ],
             [
              0.3333333333333333,
              "#9c179e"
             ],
             [
              0.4444444444444444,
              "#bd3786"
             ],
             [
              0.5555555555555556,
              "#d8576b"
             ],
             [
              0.6666666666666666,
              "#ed7953"
             ],
             [
              0.7777777777777778,
              "#fb9f3a"
             ],
             [
              0.8888888888888888,
              "#fdca26"
             ],
             [
              1,
              "#f0f921"
             ]
            ],
            "type": "histogram2d"
           }
          ],
          "histogram2dcontour": [
           {
            "colorbar": {
             "outlinewidth": 0,
             "ticks": ""
            },
            "colorscale": [
             [
              0,
              "#0d0887"
             ],
             [
              0.1111111111111111,
              "#46039f"
             ],
             [
              0.2222222222222222,
              "#7201a8"
             ],
             [
              0.3333333333333333,
              "#9c179e"
             ],
             [
              0.4444444444444444,
              "#bd3786"
             ],
             [
              0.5555555555555556,
              "#d8576b"
             ],
             [
              0.6666666666666666,
              "#ed7953"
             ],
             [
              0.7777777777777778,
              "#fb9f3a"
             ],
             [
              0.8888888888888888,
              "#fdca26"
             ],
             [
              1,
              "#f0f921"
             ]
            ],
            "type": "histogram2dcontour"
           }
          ],
          "mesh3d": [
           {
            "colorbar": {
             "outlinewidth": 0,
             "ticks": ""
            },
            "type": "mesh3d"
           }
          ],
          "parcoords": [
           {
            "line": {
             "colorbar": {
              "outlinewidth": 0,
              "ticks": ""
             }
            },
            "type": "parcoords"
           }
          ],
          "pie": [
           {
            "automargin": true,
            "type": "pie"
           }
          ],
          "scatter": [
           {
            "fillpattern": {
             "fillmode": "overlay",
             "size": 10,
             "solidity": 0.2
            },
            "type": "scatter"
           }
          ],
          "scatter3d": [
           {
            "line": {
             "colorbar": {
              "outlinewidth": 0,
              "ticks": ""
             }
            },
            "marker": {
             "colorbar": {
              "outlinewidth": 0,
              "ticks": ""
             }
            },
            "type": "scatter3d"
           }
          ],
          "scattercarpet": [
           {
            "marker": {
             "colorbar": {
              "outlinewidth": 0,
              "ticks": ""
             }
            },
            "type": "scattercarpet"
           }
          ],
          "scattergeo": [
           {
            "marker": {
             "colorbar": {
              "outlinewidth": 0,
              "ticks": ""
             }
            },
            "type": "scattergeo"
           }
          ],
          "scattergl": [
           {
            "marker": {
             "colorbar": {
              "outlinewidth": 0,
              "ticks": ""
             }
            },
            "type": "scattergl"
           }
          ],
          "scattermap": [
           {
            "marker": {
             "colorbar": {
              "outlinewidth": 0,
              "ticks": ""
             }
            },
            "type": "scattermap"
           }
          ],
          "scattermapbox": [
           {
            "marker": {
             "colorbar": {
              "outlinewidth": 0,
              "ticks": ""
             }
            },
            "type": "scattermapbox"
           }
          ],
          "scatterpolar": [
           {
            "marker": {
             "colorbar": {
              "outlinewidth": 0,
              "ticks": ""
             }
            },
            "type": "scatterpolar"
           }
          ],
          "scatterpolargl": [
           {
            "marker": {
             "colorbar": {
              "outlinewidth": 0,
              "ticks": ""
             }
            },
            "type": "scatterpolargl"
           }
          ],
          "scatterternary": [
           {
            "marker": {
             "colorbar": {
              "outlinewidth": 0,
              "ticks": ""
             }
            },
            "type": "scatterternary"
           }
          ],
          "surface": [
           {
            "colorbar": {
             "outlinewidth": 0,
             "ticks": ""
            },
            "colorscale": [
             [
              0,
              "#0d0887"
             ],
             [
              0.1111111111111111,
              "#46039f"
             ],
             [
              0.2222222222222222,
              "#7201a8"
             ],
             [
              0.3333333333333333,
              "#9c179e"
             ],
             [
              0.4444444444444444,
              "#bd3786"
             ],
             [
              0.5555555555555556,
              "#d8576b"
             ],
             [
              0.6666666666666666,
              "#ed7953"
             ],
             [
              0.7777777777777778,
              "#fb9f3a"
             ],
             [
              0.8888888888888888,
              "#fdca26"
             ],
             [
              1,
              "#f0f921"
             ]
            ],
            "type": "surface"
           }
          ],
          "table": [
           {
            "cells": {
             "fill": {
              "color": "#EBF0F8"
             },
             "line": {
              "color": "white"
             }
            },
            "header": {
             "fill": {
              "color": "#C8D4E3"
             },
             "line": {
              "color": "white"
             }
            },
            "type": "table"
           }
          ]
         },
         "layout": {
          "annotationdefaults": {
           "arrowcolor": "#2a3f5f",
           "arrowhead": 0,
           "arrowwidth": 1
          },
          "autotypenumbers": "strict",
          "coloraxis": {
           "colorbar": {
            "outlinewidth": 0,
            "ticks": ""
           }
          },
          "colorscale": {
           "diverging": [
            [
             0,
             "#8e0152"
            ],
            [
             0.1,
             "#c51b7d"
            ],
            [
             0.2,
             "#de77ae"
            ],
            [
             0.3,
             "#f1b6da"
            ],
            [
             0.4,
             "#fde0ef"
            ],
            [
             0.5,
             "#f7f7f7"
            ],
            [
             0.6,
             "#e6f5d0"
            ],
            [
             0.7,
             "#b8e186"
            ],
            [
             0.8,
             "#7fbc41"
            ],
            [
             0.9,
             "#4d9221"
            ],
            [
             1,
             "#276419"
            ]
           ],
           "sequential": [
            [
             0,
             "#0d0887"
            ],
            [
             0.1111111111111111,
             "#46039f"
            ],
            [
             0.2222222222222222,
             "#7201a8"
            ],
            [
             0.3333333333333333,
             "#9c179e"
            ],
            [
             0.4444444444444444,
             "#bd3786"
            ],
            [
             0.5555555555555556,
             "#d8576b"
            ],
            [
             0.6666666666666666,
             "#ed7953"
            ],
            [
             0.7777777777777778,
             "#fb9f3a"
            ],
            [
             0.8888888888888888,
             "#fdca26"
            ],
            [
             1,
             "#f0f921"
            ]
           ],
           "sequentialminus": [
            [
             0,
             "#0d0887"
            ],
            [
             0.1111111111111111,
             "#46039f"
            ],
            [
             0.2222222222222222,
             "#7201a8"
            ],
            [
             0.3333333333333333,
             "#9c179e"
            ],
            [
             0.4444444444444444,
             "#bd3786"
            ],
            [
             0.5555555555555556,
             "#d8576b"
            ],
            [
             0.6666666666666666,
             "#ed7953"
            ],
            [
             0.7777777777777778,
             "#fb9f3a"
            ],
            [
             0.8888888888888888,
             "#fdca26"
            ],
            [
             1,
             "#f0f921"
            ]
           ]
          },
          "colorway": [
           "#636efa",
           "#EF553B",
           "#00cc96",
           "#ab63fa",
           "#FFA15A",
           "#19d3f3",
           "#FF6692",
           "#B6E880",
           "#FF97FF",
           "#FECB52"
          ],
          "font": {
           "color": "#2a3f5f"
          },
          "geo": {
           "bgcolor": "white",
           "lakecolor": "white",
           "landcolor": "#E5ECF6",
           "showlakes": true,
           "showland": true,
           "subunitcolor": "white"
          },
          "hoverlabel": {
           "align": "left"
          },
          "hovermode": "closest",
          "mapbox": {
           "style": "light"
          },
          "paper_bgcolor": "white",
          "plot_bgcolor": "#E5ECF6",
          "polar": {
           "angularaxis": {
            "gridcolor": "white",
            "linecolor": "white",
            "ticks": ""
           },
           "bgcolor": "#E5ECF6",
           "radialaxis": {
            "gridcolor": "white",
            "linecolor": "white",
            "ticks": ""
           }
          },
          "scene": {
           "xaxis": {
            "backgroundcolor": "#E5ECF6",
            "gridcolor": "white",
            "gridwidth": 2,
            "linecolor": "white",
            "showbackground": true,
            "ticks": "",
            "zerolinecolor": "white"
           },
           "yaxis": {
            "backgroundcolor": "#E5ECF6",
            "gridcolor": "white",
            "gridwidth": 2,
            "linecolor": "white",
            "showbackground": true,
            "ticks": "",
            "zerolinecolor": "white"
           },
           "zaxis": {
            "backgroundcolor": "#E5ECF6",
            "gridcolor": "white",
            "gridwidth": 2,
            "linecolor": "white",
            "showbackground": true,
            "ticks": "",
            "zerolinecolor": "white"
           }
          },
          "shapedefaults": {
           "line": {
            "color": "#2a3f5f"
           }
          },
          "ternary": {
           "aaxis": {
            "gridcolor": "white",
            "linecolor": "white",
            "ticks": ""
           },
           "baxis": {
            "gridcolor": "white",
            "linecolor": "white",
            "ticks": ""
           },
           "bgcolor": "#E5ECF6",
           "caxis": {
            "gridcolor": "white",
            "linecolor": "white",
            "ticks": ""
           }
          },
          "title": {
           "x": 0.05
          },
          "xaxis": {
           "automargin": true,
           "gridcolor": "white",
           "linecolor": "white",
           "ticks": "",
           "title": {
            "standoff": 15
           },
           "zerolinecolor": "white",
           "zerolinewidth": 2
          },
          "yaxis": {
           "automargin": true,
           "gridcolor": "white",
           "linecolor": "white",
           "ticks": "",
           "title": {
            "standoff": 15
           },
           "zerolinecolor": "white",
           "zerolinewidth": 2
          }
         }
        },
        "title": {
         "text": "Mortality Rate Violin Plot by Region"
        },
        "violinmode": "group",
        "xaxis": {
         "anchor": "y",
         "domain": [
          0,
          1
         ],
         "title": {
          "text": "WHO Region"
         }
        },
        "yaxis": {
         "anchor": "x",
         "domain": [
          0,
          1
         ],
         "title": {
          "text": "Deaths / 100 Cases"
         }
        }
       }
      }
     },
     "metadata": {},
     "output_type": "display_data"
    }
   ],
   "source": [
    "\n",
    "\n",
    "chart1 = px.bar(df.groupby('WHO Region')['Confirmed'].sum().reset_index(),\n",
    "                x='WHO Region', y='Confirmed', title='Total Confirmed Cases by WHO Region')\n",
    "\n",
    "chart2 = px.bar(df.sort_values('Active', ascending=False).head(10),\n",
    "                x='Country/Region', y='Active', title='Top 10 Countries with Active Cases')\n",
    "\n",
    "chart3 = px.pie(df, names='WHO Region', values='Confirmed',\n",
    "                title='Confirmed Cases Distribution by Region')\n",
    "\n",
    "chart4 = px.scatter(df, x='Confirmed', y='Deaths', color='WHO Region',\n",
    "                    title='Confirmed Cases vs Deaths')\n",
    "\n",
    "chart5 = px.histogram(df, x='Recovered / 100 Cases', nbins=30,\n",
    "                      title='Recovery Rate Distribution across Countries')\n",
    "\n",
    "chart6 = px.box(df, x='WHO Region', y='Deaths / 100 Cases',\n",
    "                title='Mortality Rate by Region')\n",
    "\n",
    "correlation = df[['Confirmed', 'Deaths', 'Recovered', 'Active']].corr()\n",
    "chart7 = go.Figure(data=go.Heatmap(z=correlation.values,\n",
    "                                   x=correlation.columns,\n",
    "                                   y=correlation.columns,\n",
    "                                   colorscale='Viridis'))\n",
    "chart7.update_layout(title='Correlation Heatmap of Key Metrics')\n",
    "\n",
    "chart8 = px.box(df, x='WHO Region', y='Deaths / 100 Cases',\n",
    "                title='Deaths per 100 Cases by Region')\n",
    "\n",
    "if 'Confirmed last week' in df.columns and '1 week change' in df.columns:\n",
    "    chart9 = px.scatter(df, x='Confirmed last week', y='1 week change',\n",
    "                        color='WHO Region',\n",
    "                        title='Weekly Change in Confirmed Cases')\n",
    "else:\n",
    "    chart9 = go.Figure()\n",
    "    chart9.update_layout(title='Weekly Change Data Not Available')\n",
    "\n",
    "chart10 = px.violin(df, x='WHO Region', y='Deaths / 100 Cases', box=True,\n",
    "                    title='Mortality Rate Violin Plot by Region')\n",
    "\n",
    "chart1.show()\n",
    "chart2.show()\n",
    "chart3.show()\n",
    "chart4.show()\n",
    "chart5.show()\n",
    "chart6.show()\n",
    "chart7.show()\n",
    "chart8.show()\n",
    "chart9.show()\n",
    "chart10.show()\n"
   ]
  },
  {
   "cell_type": "code",
   "execution_count": 27,
   "id": "981a4419-089d-49af-a6cf-d89c7cc0ff10",
   "metadata": {},
   "outputs": [],
   "source": [
    "from dash import Dash, dcc, html"
   ]
  },
  {
   "cell_type": "code",
   "execution_count": 28,
   "id": "19c6b770-744e-4cce-9b4e-5a96353f4660",
   "metadata": {},
   "outputs": [],
   "source": [
    "app = Dash(__name__)\n",
    "\n",
    "app.layout = html.Div([\n",
    "    html.H1(\"🧬 COVID-19 Data Dashboard\", style={'textAlign': 'center'}),\n",
    "\n",
    "    dcc.Graph(figure=chart1),\n",
    "    dcc.Graph(figure=chart2),\n",
    "    dcc.Graph(figure=chart3),\n",
    "    dcc.Graph(figure=chart4),\n",
    "    dcc.Graph(figure=chart5),\n",
    "    dcc.Graph(figure=chart6),\n",
    "    dcc.Graph(figure=chart7),\n",
    "    dcc.Graph(figure=chart8),\n",
    "    dcc.Graph(figure=chart9),\n",
    "    dcc.Graph(figure=chart10),\n",
    "\n",
    "    html.P(\"\", style={'textAlign': 'center', 'marginTop': '20px'})\n",
    "])"
   ]
  },
  {
   "cell_type": "code",
   "execution_count": 29,
   "id": "58505582-92ae-4c22-8e99-4f73b384fed8",
   "metadata": {},
   "outputs": [
    {
     "data": {
      "text/html": [
       "\n",
       "        <iframe\n",
       "            width=\"100%\"\n",
       "            height=\"650\"\n",
       "            src=\"http://127.0.0.1:8051/\"\n",
       "            frameborder=\"0\"\n",
       "            allowfullscreen\n",
       "            \n",
       "        ></iframe>\n",
       "        "
      ],
      "text/plain": [
       "<IPython.lib.display.IFrame at 0x22b029e4a40>"
      ]
     },
     "metadata": {},
     "output_type": "display_data"
    }
   ],
   "source": [
    "if __name__ == '__main__':\n",
    "    app.run(debug=True, port=8051)\n"
   ]
  },
  {
   "cell_type": "code",
   "execution_count": null,
   "id": "e1168232-141d-44f8-b545-2fe784745003",
   "metadata": {},
   "outputs": [],
   "source": []
  },
  {
   "cell_type": "code",
   "execution_count": null,
   "id": "2b88cef7-612b-4b17-b31c-198cc62ed369",
   "metadata": {},
   "outputs": [],
   "source": []
  },
  {
   "cell_type": "code",
   "execution_count": null,
   "id": "a3b8515e-f01e-4ce1-8aa7-9ea917a92927",
   "metadata": {},
   "outputs": [],
   "source": []
  }
 ],
 "metadata": {
  "kernelspec": {
   "display_name": "Python 3 (ipykernel)",
   "language": "python",
   "name": "python3"
  },
  "language_info": {
   "codemirror_mode": {
    "name": "ipython",
    "version": 3
   },
   "file_extension": ".py",
   "mimetype": "text/x-python",
   "name": "python",
   "nbconvert_exporter": "python",
   "pygments_lexer": "ipython3",
   "version": "3.12.7"
  }
 },
 "nbformat": 4,
 "nbformat_minor": 5
}
